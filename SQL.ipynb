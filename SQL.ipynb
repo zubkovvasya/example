{
 "cells": [
  {
   "cell_type": "markdown",
   "metadata": {},
   "source": [
    "# Подготовка данных"
   ]
  },
  {
   "cell_type": "code",
   "execution_count": 1,
   "metadata": {},
   "outputs": [],
   "source": [
    "# импортируем библиотеки\n",
    "import pandas as pd\n",
    "from sqlalchemy import text, create_engine"
   ]
  },
  {
   "cell_type": "code",
   "execution_count": 2,
   "metadata": {},
   "outputs": [],
   "source": [
    "# устанавливаем параметры\n",
    "db_config = {'user': 'praktikum_student', # имя пользователя\n",
    "'pwd': 'Sdf4$2;d-d30pp', # пароль\n",
    "'host': 'rc1b-wcoijxj3yxfsf3fs.mdb.yandexcloud.net',\n",
    "'port': 6432, # порт подключения\n",
    "'db': 'data-analyst-final-project-db'} # название базы данных\n",
    "connection_string = 'postgresql://{user}:{pwd}@{host}:{port}/{db}'.format(**db_config)"
   ]
  },
  {
   "cell_type": "code",
   "execution_count": 3,
   "metadata": {},
   "outputs": [],
   "source": [
    "# сохраняем коннектор\n",
    "engine = create_engine(connection_string, connect_args={'sslmode':'require'})"
   ]
  },
  {
   "cell_type": "markdown",
   "metadata": {},
   "source": [
    "## Цели исследования"
   ]
  },
  {
   "cell_type": "markdown",
   "metadata": {},
   "source": [
    "Моя компания купила крупный сервис предоставляющий книги по подписке. Цель - проанализировать базу данных сервиса  В ней — информация о книгах, издательствах, авторах, а также пользовательские обзоры книг. Эти данные помогут сформулировать ценностное предложение для нового продукта."
   ]
  },
  {
   "cell_type": "markdown",
   "metadata": {},
   "source": [
    "## Исследование данных"
   ]
  },
  {
   "cell_type": "code",
   "execution_count": 4,
   "metadata": {},
   "outputs": [
    {
     "data": {
      "text/html": [
       "<div>\n",
       "<style scoped>\n",
       "    .dataframe tbody tr th:only-of-type {\n",
       "        vertical-align: middle;\n",
       "    }\n",
       "\n",
       "    .dataframe tbody tr th {\n",
       "        vertical-align: top;\n",
       "    }\n",
       "\n",
       "    .dataframe thead th {\n",
       "        text-align: right;\n",
       "    }\n",
       "</style>\n",
       "<table border=\"1\" class=\"dataframe\">\n",
       "  <thead>\n",
       "    <tr style=\"text-align: right;\">\n",
       "      <th></th>\n",
       "      <th>book_id</th>\n",
       "      <th>author_id</th>\n",
       "      <th>title</th>\n",
       "      <th>num_pages</th>\n",
       "      <th>publication_date</th>\n",
       "      <th>publisher_id</th>\n",
       "    </tr>\n",
       "  </thead>\n",
       "  <tbody>\n",
       "    <tr>\n",
       "      <th>0</th>\n",
       "      <td>1</td>\n",
       "      <td>546</td>\n",
       "      <td>'Salem's Lot</td>\n",
       "      <td>594</td>\n",
       "      <td>2005-11-01</td>\n",
       "      <td>93</td>\n",
       "    </tr>\n",
       "    <tr>\n",
       "      <th>1</th>\n",
       "      <td>2</td>\n",
       "      <td>465</td>\n",
       "      <td>1 000 Places to See Before You Die</td>\n",
       "      <td>992</td>\n",
       "      <td>2003-05-22</td>\n",
       "      <td>336</td>\n",
       "    </tr>\n",
       "    <tr>\n",
       "      <th>2</th>\n",
       "      <td>3</td>\n",
       "      <td>407</td>\n",
       "      <td>13 Little Blue Envelopes (Little Blue Envelope...</td>\n",
       "      <td>322</td>\n",
       "      <td>2010-12-21</td>\n",
       "      <td>135</td>\n",
       "    </tr>\n",
       "    <tr>\n",
       "      <th>3</th>\n",
       "      <td>4</td>\n",
       "      <td>82</td>\n",
       "      <td>1491: New Revelations of the Americas Before C...</td>\n",
       "      <td>541</td>\n",
       "      <td>2006-10-10</td>\n",
       "      <td>309</td>\n",
       "    </tr>\n",
       "    <tr>\n",
       "      <th>4</th>\n",
       "      <td>5</td>\n",
       "      <td>125</td>\n",
       "      <td>1776</td>\n",
       "      <td>386</td>\n",
       "      <td>2006-07-04</td>\n",
       "      <td>268</td>\n",
       "    </tr>\n",
       "  </tbody>\n",
       "</table>\n",
       "</div>"
      ],
      "text/plain": [
       "   book_id  author_id                                              title  \\\n",
       "0        1        546                                       'Salem's Lot   \n",
       "1        2        465                 1 000 Places to See Before You Die   \n",
       "2        3        407  13 Little Blue Envelopes (Little Blue Envelope...   \n",
       "3        4         82  1491: New Revelations of the Americas Before C...   \n",
       "4        5        125                                               1776   \n",
       "\n",
       "   num_pages publication_date  publisher_id  \n",
       "0        594       2005-11-01            93  \n",
       "1        992       2003-05-22           336  \n",
       "2        322       2010-12-21           135  \n",
       "3        541       2006-10-10           309  \n",
       "4        386       2006-07-04           268  "
      ]
     },
     "execution_count": 4,
     "metadata": {},
     "output_type": "execute_result"
    }
   ],
   "source": [
    "query = '''SELECT * FROM books LIMIT 5'''\n",
    "con=engine.connect()\n",
    "pd.io.sql.read_sql(sql=text(query), con = con)"
   ]
  },
  {
   "cell_type": "code",
   "execution_count": 5,
   "metadata": {},
   "outputs": [
    {
     "data": {
      "text/html": [
       "<div>\n",
       "<style scoped>\n",
       "    .dataframe tbody tr th:only-of-type {\n",
       "        vertical-align: middle;\n",
       "    }\n",
       "\n",
       "    .dataframe tbody tr th {\n",
       "        vertical-align: top;\n",
       "    }\n",
       "\n",
       "    .dataframe thead th {\n",
       "        text-align: right;\n",
       "    }\n",
       "</style>\n",
       "<table border=\"1\" class=\"dataframe\">\n",
       "  <thead>\n",
       "    <tr style=\"text-align: right;\">\n",
       "      <th></th>\n",
       "      <th>author_id</th>\n",
       "      <th>author</th>\n",
       "    </tr>\n",
       "  </thead>\n",
       "  <tbody>\n",
       "    <tr>\n",
       "      <th>0</th>\n",
       "      <td>1</td>\n",
       "      <td>A.S. Byatt</td>\n",
       "    </tr>\n",
       "    <tr>\n",
       "      <th>1</th>\n",
       "      <td>2</td>\n",
       "      <td>Aesop/Laura Harris/Laura Gibbs</td>\n",
       "    </tr>\n",
       "    <tr>\n",
       "      <th>2</th>\n",
       "      <td>3</td>\n",
       "      <td>Agatha Christie</td>\n",
       "    </tr>\n",
       "    <tr>\n",
       "      <th>3</th>\n",
       "      <td>4</td>\n",
       "      <td>Alan Brennert</td>\n",
       "    </tr>\n",
       "    <tr>\n",
       "      <th>4</th>\n",
       "      <td>5</td>\n",
       "      <td>Alan Moore/David   Lloyd</td>\n",
       "    </tr>\n",
       "  </tbody>\n",
       "</table>\n",
       "</div>"
      ],
      "text/plain": [
       "   author_id                          author\n",
       "0          1                      A.S. Byatt\n",
       "1          2  Aesop/Laura Harris/Laura Gibbs\n",
       "2          3                 Agatha Christie\n",
       "3          4                   Alan Brennert\n",
       "4          5        Alan Moore/David   Lloyd"
      ]
     },
     "execution_count": 5,
     "metadata": {},
     "output_type": "execute_result"
    }
   ],
   "source": [
    "query = '''SELECT * FROM authors LIMIT 5'''\n",
    "con=engine.connect()\n",
    "pd.io.sql.read_sql(sql=text(query), con = con)"
   ]
  },
  {
   "cell_type": "code",
   "execution_count": 6,
   "metadata": {},
   "outputs": [
    {
     "data": {
      "text/html": [
       "<div>\n",
       "<style scoped>\n",
       "    .dataframe tbody tr th:only-of-type {\n",
       "        vertical-align: middle;\n",
       "    }\n",
       "\n",
       "    .dataframe tbody tr th {\n",
       "        vertical-align: top;\n",
       "    }\n",
       "\n",
       "    .dataframe thead th {\n",
       "        text-align: right;\n",
       "    }\n",
       "</style>\n",
       "<table border=\"1\" class=\"dataframe\">\n",
       "  <thead>\n",
       "    <tr style=\"text-align: right;\">\n",
       "      <th></th>\n",
       "      <th>publisher_id</th>\n",
       "      <th>publisher</th>\n",
       "    </tr>\n",
       "  </thead>\n",
       "  <tbody>\n",
       "    <tr>\n",
       "      <th>0</th>\n",
       "      <td>1</td>\n",
       "      <td>Ace</td>\n",
       "    </tr>\n",
       "    <tr>\n",
       "      <th>1</th>\n",
       "      <td>2</td>\n",
       "      <td>Ace Book</td>\n",
       "    </tr>\n",
       "    <tr>\n",
       "      <th>2</th>\n",
       "      <td>3</td>\n",
       "      <td>Ace Books</td>\n",
       "    </tr>\n",
       "    <tr>\n",
       "      <th>3</th>\n",
       "      <td>4</td>\n",
       "      <td>Ace Hardcover</td>\n",
       "    </tr>\n",
       "    <tr>\n",
       "      <th>4</th>\n",
       "      <td>5</td>\n",
       "      <td>Addison Wesley Publishing Company</td>\n",
       "    </tr>\n",
       "  </tbody>\n",
       "</table>\n",
       "</div>"
      ],
      "text/plain": [
       "   publisher_id                          publisher\n",
       "0             1                                Ace\n",
       "1             2                           Ace Book\n",
       "2             3                          Ace Books\n",
       "3             4                      Ace Hardcover\n",
       "4             5  Addison Wesley Publishing Company"
      ]
     },
     "execution_count": 6,
     "metadata": {},
     "output_type": "execute_result"
    }
   ],
   "source": [
    "query = '''SELECT * FROM publishers LIMIT 5'''\n",
    "con=engine.connect()\n",
    "pd.io.sql.read_sql(sql=text(query), con = con)"
   ]
  },
  {
   "cell_type": "code",
   "execution_count": 7,
   "metadata": {},
   "outputs": [
    {
     "data": {
      "text/html": [
       "<div>\n",
       "<style scoped>\n",
       "    .dataframe tbody tr th:only-of-type {\n",
       "        vertical-align: middle;\n",
       "    }\n",
       "\n",
       "    .dataframe tbody tr th {\n",
       "        vertical-align: top;\n",
       "    }\n",
       "\n",
       "    .dataframe thead th {\n",
       "        text-align: right;\n",
       "    }\n",
       "</style>\n",
       "<table border=\"1\" class=\"dataframe\">\n",
       "  <thead>\n",
       "    <tr style=\"text-align: right;\">\n",
       "      <th></th>\n",
       "      <th>rating_id</th>\n",
       "      <th>book_id</th>\n",
       "      <th>username</th>\n",
       "      <th>rating</th>\n",
       "    </tr>\n",
       "  </thead>\n",
       "  <tbody>\n",
       "    <tr>\n",
       "      <th>0</th>\n",
       "      <td>1</td>\n",
       "      <td>1</td>\n",
       "      <td>ryanfranco</td>\n",
       "      <td>4</td>\n",
       "    </tr>\n",
       "    <tr>\n",
       "      <th>1</th>\n",
       "      <td>2</td>\n",
       "      <td>1</td>\n",
       "      <td>grantpatricia</td>\n",
       "      <td>2</td>\n",
       "    </tr>\n",
       "    <tr>\n",
       "      <th>2</th>\n",
       "      <td>3</td>\n",
       "      <td>1</td>\n",
       "      <td>brandtandrea</td>\n",
       "      <td>5</td>\n",
       "    </tr>\n",
       "    <tr>\n",
       "      <th>3</th>\n",
       "      <td>4</td>\n",
       "      <td>2</td>\n",
       "      <td>lorichen</td>\n",
       "      <td>3</td>\n",
       "    </tr>\n",
       "    <tr>\n",
       "      <th>4</th>\n",
       "      <td>5</td>\n",
       "      <td>2</td>\n",
       "      <td>mariokeller</td>\n",
       "      <td>2</td>\n",
       "    </tr>\n",
       "  </tbody>\n",
       "</table>\n",
       "</div>"
      ],
      "text/plain": [
       "   rating_id  book_id       username  rating\n",
       "0          1        1     ryanfranco       4\n",
       "1          2        1  grantpatricia       2\n",
       "2          3        1   brandtandrea       5\n",
       "3          4        2       lorichen       3\n",
       "4          5        2    mariokeller       2"
      ]
     },
     "execution_count": 7,
     "metadata": {},
     "output_type": "execute_result"
    }
   ],
   "source": [
    "query = '''SELECT * FROM ratings LIMIT 5'''\n",
    "con=engine.connect()\n",
    "pd.io.sql.read_sql(sql=text(query), con = con)"
   ]
  },
  {
   "cell_type": "code",
   "execution_count": 8,
   "metadata": {},
   "outputs": [
    {
     "data": {
      "text/html": [
       "<div>\n",
       "<style scoped>\n",
       "    .dataframe tbody tr th:only-of-type {\n",
       "        vertical-align: middle;\n",
       "    }\n",
       "\n",
       "    .dataframe tbody tr th {\n",
       "        vertical-align: top;\n",
       "    }\n",
       "\n",
       "    .dataframe thead th {\n",
       "        text-align: right;\n",
       "    }\n",
       "</style>\n",
       "<table border=\"1\" class=\"dataframe\">\n",
       "  <thead>\n",
       "    <tr style=\"text-align: right;\">\n",
       "      <th></th>\n",
       "      <th>review_id</th>\n",
       "      <th>book_id</th>\n",
       "      <th>username</th>\n",
       "      <th>text</th>\n",
       "    </tr>\n",
       "  </thead>\n",
       "  <tbody>\n",
       "    <tr>\n",
       "      <th>0</th>\n",
       "      <td>1</td>\n",
       "      <td>1</td>\n",
       "      <td>brandtandrea</td>\n",
       "      <td>Mention society tell send professor analysis. ...</td>\n",
       "    </tr>\n",
       "    <tr>\n",
       "      <th>1</th>\n",
       "      <td>2</td>\n",
       "      <td>1</td>\n",
       "      <td>ryanfranco</td>\n",
       "      <td>Foot glass pretty audience hit themselves. Amo...</td>\n",
       "    </tr>\n",
       "    <tr>\n",
       "      <th>2</th>\n",
       "      <td>3</td>\n",
       "      <td>2</td>\n",
       "      <td>lorichen</td>\n",
       "      <td>Listen treat keep worry. Miss husband tax but ...</td>\n",
       "    </tr>\n",
       "    <tr>\n",
       "      <th>3</th>\n",
       "      <td>4</td>\n",
       "      <td>3</td>\n",
       "      <td>johnsonamanda</td>\n",
       "      <td>Finally month interesting blue could nature cu...</td>\n",
       "    </tr>\n",
       "    <tr>\n",
       "      <th>4</th>\n",
       "      <td>5</td>\n",
       "      <td>3</td>\n",
       "      <td>scotttamara</td>\n",
       "      <td>Nation purpose heavy give wait song will. List...</td>\n",
       "    </tr>\n",
       "  </tbody>\n",
       "</table>\n",
       "</div>"
      ],
      "text/plain": [
       "   review_id  book_id       username  \\\n",
       "0          1        1   brandtandrea   \n",
       "1          2        1     ryanfranco   \n",
       "2          3        2       lorichen   \n",
       "3          4        3  johnsonamanda   \n",
       "4          5        3    scotttamara   \n",
       "\n",
       "                                                text  \n",
       "0  Mention society tell send professor analysis. ...  \n",
       "1  Foot glass pretty audience hit themselves. Amo...  \n",
       "2  Listen treat keep worry. Miss husband tax but ...  \n",
       "3  Finally month interesting blue could nature cu...  \n",
       "4  Nation purpose heavy give wait song will. List...  "
      ]
     },
     "execution_count": 8,
     "metadata": {},
     "output_type": "execute_result"
    }
   ],
   "source": [
    "query = '''SELECT * FROM reviews LIMIT 5'''\n",
    "con=engine.connect()\n",
    "pd.io.sql.read_sql(sql=text(query), con = con)"
   ]
  },
  {
   "cell_type": "markdown",
   "metadata": {},
   "source": [
    "## Количество книг вышедших после 1 января 2000 года"
   ]
  },
  {
   "cell_type": "code",
   "execution_count": 9,
   "metadata": {},
   "outputs": [
    {
     "data": {
      "text/html": [
       "<div>\n",
       "<style scoped>\n",
       "    .dataframe tbody tr th:only-of-type {\n",
       "        vertical-align: middle;\n",
       "    }\n",
       "\n",
       "    .dataframe tbody tr th {\n",
       "        vertical-align: top;\n",
       "    }\n",
       "\n",
       "    .dataframe thead th {\n",
       "        text-align: right;\n",
       "    }\n",
       "</style>\n",
       "<table border=\"1\" class=\"dataframe\">\n",
       "  <thead>\n",
       "    <tr style=\"text-align: right;\">\n",
       "      <th></th>\n",
       "      <th>count</th>\n",
       "    </tr>\n",
       "  </thead>\n",
       "  <tbody>\n",
       "    <tr>\n",
       "      <th>0</th>\n",
       "      <td>819</td>\n",
       "    </tr>\n",
       "  </tbody>\n",
       "</table>\n",
       "</div>"
      ],
      "text/plain": [
       "   count\n",
       "0    819"
      ]
     },
     "execution_count": 9,
     "metadata": {},
     "output_type": "execute_result"
    }
   ],
   "source": [
    "query = '''SELECT COUNT(DISTINCT(book_id))\n",
    "FROM books\n",
    "WHERE CAST(publication_date AS date) > '2000-01-01';'''\n",
    "con=engine.connect()\n",
    "pd.io.sql.read_sql(sql=text(query), con = con)"
   ]
  },
  {
   "cell_type": "markdown",
   "metadata": {},
   "source": [
    "После 1 января 2000 года вышло 819 книг"
   ]
  },
  {
   "cell_type": "markdown",
   "metadata": {},
   "source": [
    "## Количество обзоров и средняя оценка для каждой книги"
   ]
  },
  {
   "cell_type": "code",
   "execution_count": 13,
   "metadata": {},
   "outputs": [
    {
     "data": {
      "text/html": [
       "<div>\n",
       "<style scoped>\n",
       "    .dataframe tbody tr th:only-of-type {\n",
       "        vertical-align: middle;\n",
       "    }\n",
       "\n",
       "    .dataframe tbody tr th {\n",
       "        vertical-align: top;\n",
       "    }\n",
       "\n",
       "    .dataframe thead th {\n",
       "        text-align: right;\n",
       "    }\n",
       "</style>\n",
       "<table border=\"1\" class=\"dataframe\">\n",
       "  <thead>\n",
       "    <tr style=\"text-align: right;\">\n",
       "      <th></th>\n",
       "      <th>title</th>\n",
       "      <th>count_review</th>\n",
       "      <th>avg</th>\n",
       "    </tr>\n",
       "  </thead>\n",
       "  <tbody>\n",
       "    <tr>\n",
       "      <th>0</th>\n",
       "      <td>Twilight (Twilight  #1)</td>\n",
       "      <td>7</td>\n",
       "      <td>3.662500</td>\n",
       "    </tr>\n",
       "    <tr>\n",
       "      <th>1</th>\n",
       "      <td>The Hobbit  or There and Back Again</td>\n",
       "      <td>6</td>\n",
       "      <td>4.125000</td>\n",
       "    </tr>\n",
       "    <tr>\n",
       "      <th>2</th>\n",
       "      <td>The Catcher in the Rye</td>\n",
       "      <td>6</td>\n",
       "      <td>3.825581</td>\n",
       "    </tr>\n",
       "    <tr>\n",
       "      <th>3</th>\n",
       "      <td>Harry Potter and the Prisoner of Azkaban (Harr...</td>\n",
       "      <td>6</td>\n",
       "      <td>4.414634</td>\n",
       "    </tr>\n",
       "    <tr>\n",
       "      <th>4</th>\n",
       "      <td>Harry Potter and the Chamber of Secrets (Harry...</td>\n",
       "      <td>6</td>\n",
       "      <td>4.287500</td>\n",
       "    </tr>\n",
       "    <tr>\n",
       "      <th>...</th>\n",
       "      <td>...</td>\n",
       "      <td>...</td>\n",
       "      <td>...</td>\n",
       "    </tr>\n",
       "    <tr>\n",
       "      <th>995</th>\n",
       "      <td>Essential Tales and Poems</td>\n",
       "      <td>0</td>\n",
       "      <td>4.000000</td>\n",
       "    </tr>\n",
       "    <tr>\n",
       "      <th>996</th>\n",
       "      <td>Leonardo's Notebooks</td>\n",
       "      <td>0</td>\n",
       "      <td>4.000000</td>\n",
       "    </tr>\n",
       "    <tr>\n",
       "      <th>997</th>\n",
       "      <td>The Cat in the Hat and Other Dr. Seuss Favorites</td>\n",
       "      <td>0</td>\n",
       "      <td>5.000000</td>\n",
       "    </tr>\n",
       "    <tr>\n",
       "      <th>998</th>\n",
       "      <td>Anne Rice's The Vampire Lestat: A Graphic Novel</td>\n",
       "      <td>0</td>\n",
       "      <td>3.666667</td>\n",
       "    </tr>\n",
       "    <tr>\n",
       "      <th>999</th>\n",
       "      <td>The Natural Way to Draw</td>\n",
       "      <td>0</td>\n",
       "      <td>3.000000</td>\n",
       "    </tr>\n",
       "  </tbody>\n",
       "</table>\n",
       "<p>1000 rows × 3 columns</p>\n",
       "</div>"
      ],
      "text/plain": [
       "                                                 title  count_review       avg\n",
       "0                              Twilight (Twilight  #1)             7  3.662500\n",
       "1                  The Hobbit  or There and Back Again             6  4.125000\n",
       "2                               The Catcher in the Rye             6  3.825581\n",
       "3    Harry Potter and the Prisoner of Azkaban (Harr...             6  4.414634\n",
       "4    Harry Potter and the Chamber of Secrets (Harry...             6  4.287500\n",
       "..                                                 ...           ...       ...\n",
       "995                          Essential Tales and Poems             0  4.000000\n",
       "996                               Leonardo's Notebooks             0  4.000000\n",
       "997   The Cat in the Hat and Other Dr. Seuss Favorites             0  5.000000\n",
       "998    Anne Rice's The Vampire Lestat: A Graphic Novel             0  3.666667\n",
       "999                            The Natural Way to Draw             0  3.000000\n",
       "\n",
       "[1000 rows x 3 columns]"
      ]
     },
     "execution_count": 13,
     "metadata": {},
     "output_type": "execute_result"
    }
   ],
   "source": [
    "query = '''SELECT b.title,\n",
    "COUNT(DISTINCT re.review_id) AS count_review,\n",
    "AVG(ra.rating)\n",
    "FROM books AS b\n",
    "LEFT JOIN reviews AS re ON b.book_id = re.book_id\n",
    "LEFT JOIN ratings AS ra ON b.book_id = ra.book_id\n",
    "GROUP BY b.book_id\n",
    "ORDER BY COUNT(re.review_id) DESC;'''\n",
    "con=engine.connect()\n",
    "pd.io.sql.read_sql(sql=text(query), con = con)"
   ]
  },
  {
   "cell_type": "markdown",
   "metadata": {},
   "source": [
    "Больше всего обзоров на книгу Twilight#1 - 7"
   ]
  },
  {
   "cell_type": "markdown",
   "metadata": {},
   "source": [
    "## Издательство, которое выпустило наибольшее число книг толще 50 страниц"
   ]
  },
  {
   "cell_type": "code",
   "execution_count": 15,
   "metadata": {},
   "outputs": [
    {
     "data": {
      "text/html": [
       "<div>\n",
       "<style scoped>\n",
       "    .dataframe tbody tr th:only-of-type {\n",
       "        vertical-align: middle;\n",
       "    }\n",
       "\n",
       "    .dataframe tbody tr th {\n",
       "        vertical-align: top;\n",
       "    }\n",
       "\n",
       "    .dataframe thead th {\n",
       "        text-align: right;\n",
       "    }\n",
       "</style>\n",
       "<table border=\"1\" class=\"dataframe\">\n",
       "  <thead>\n",
       "    <tr style=\"text-align: right;\">\n",
       "      <th></th>\n",
       "      <th>publisher</th>\n",
       "      <th>count</th>\n",
       "    </tr>\n",
       "  </thead>\n",
       "  <tbody>\n",
       "    <tr>\n",
       "      <th>0</th>\n",
       "      <td>Penguin Books</td>\n",
       "      <td>42</td>\n",
       "    </tr>\n",
       "    <tr>\n",
       "      <th>1</th>\n",
       "      <td>Vintage</td>\n",
       "      <td>31</td>\n",
       "    </tr>\n",
       "    <tr>\n",
       "      <th>2</th>\n",
       "      <td>Grand Central Publishing</td>\n",
       "      <td>25</td>\n",
       "    </tr>\n",
       "    <tr>\n",
       "      <th>3</th>\n",
       "      <td>Penguin Classics</td>\n",
       "      <td>24</td>\n",
       "    </tr>\n",
       "    <tr>\n",
       "      <th>4</th>\n",
       "      <td>Ballantine Books</td>\n",
       "      <td>19</td>\n",
       "    </tr>\n",
       "    <tr>\n",
       "      <th>...</th>\n",
       "      <td>...</td>\n",
       "      <td>...</td>\n",
       "    </tr>\n",
       "    <tr>\n",
       "      <th>329</th>\n",
       "      <td>Turtleback</td>\n",
       "      <td>1</td>\n",
       "    </tr>\n",
       "    <tr>\n",
       "      <th>330</th>\n",
       "      <td>Atheneum Books for Young Readers: Richard Jack...</td>\n",
       "      <td>1</td>\n",
       "    </tr>\n",
       "    <tr>\n",
       "      <th>331</th>\n",
       "      <td>Penguin Signet</td>\n",
       "      <td>1</td>\n",
       "    </tr>\n",
       "    <tr>\n",
       "      <th>332</th>\n",
       "      <td>Victor Gollancz</td>\n",
       "      <td>1</td>\n",
       "    </tr>\n",
       "    <tr>\n",
       "      <th>333</th>\n",
       "      <td>Harvard Business Review Press</td>\n",
       "      <td>1</td>\n",
       "    </tr>\n",
       "  </tbody>\n",
       "</table>\n",
       "<p>334 rows × 2 columns</p>\n",
       "</div>"
      ],
      "text/plain": [
       "                                             publisher  count\n",
       "0                                        Penguin Books     42\n",
       "1                                              Vintage     31\n",
       "2                             Grand Central Publishing     25\n",
       "3                                     Penguin Classics     24\n",
       "4                                     Ballantine Books     19\n",
       "..                                                 ...    ...\n",
       "329                                         Turtleback      1\n",
       "330  Atheneum Books for Young Readers: Richard Jack...      1\n",
       "331                                     Penguin Signet      1\n",
       "332                                    Victor Gollancz      1\n",
       "333                      Harvard Business Review Press      1\n",
       "\n",
       "[334 rows x 2 columns]"
      ]
     },
     "execution_count": 15,
     "metadata": {},
     "output_type": "execute_result"
    }
   ],
   "source": [
    "query = '''SELECT p.publisher,\n",
    "COUNT(b.book_id)\n",
    "FROM books AS b\n",
    "LEFT JOIN publishers AS p ON b.publisher_id = p.publisher_id\n",
    "WHERE b.num_pages > 50\n",
    "GROUP BY p.publisher\n",
    "ORDER BY COUNT(b.book_id) DESC;'''\n",
    "con=engine.connect()\n",
    "pd.io.sql.read_sql(sql=text(query), con = con)"
   ]
  },
  {
   "cell_type": "markdown",
   "metadata": {},
   "source": [
    "Penguin Books - издательство которое выпустило больше всего книг толщиной более 50 страниц"
   ]
  },
  {
   "cell_type": "markdown",
   "metadata": {},
   "source": [
    "## Автор с самой высокой средней оценкой книг"
   ]
  },
  {
   "cell_type": "code",
   "execution_count": 16,
   "metadata": {},
   "outputs": [
    {
     "data": {
      "text/html": [
       "<div>\n",
       "<style scoped>\n",
       "    .dataframe tbody tr th:only-of-type {\n",
       "        vertical-align: middle;\n",
       "    }\n",
       "\n",
       "    .dataframe tbody tr th {\n",
       "        vertical-align: top;\n",
       "    }\n",
       "\n",
       "    .dataframe thead th {\n",
       "        text-align: right;\n",
       "    }\n",
       "</style>\n",
       "<table border=\"1\" class=\"dataframe\">\n",
       "  <thead>\n",
       "    <tr style=\"text-align: right;\">\n",
       "      <th></th>\n",
       "      <th>author</th>\n",
       "      <th>round</th>\n",
       "    </tr>\n",
       "  </thead>\n",
       "  <tbody>\n",
       "    <tr>\n",
       "      <th>0</th>\n",
       "      <td>J.K. Rowling/Mary GrandPré</td>\n",
       "      <td>4.29</td>\n",
       "    </tr>\n",
       "  </tbody>\n",
       "</table>\n",
       "</div>"
      ],
      "text/plain": [
       "                       author  round\n",
       "0  J.K. Rowling/Mary GrandPré   4.29"
      ]
     },
     "execution_count": 16,
     "metadata": {},
     "output_type": "execute_result"
    }
   ],
   "source": [
    "query = '''SELECT a.author,\n",
    "ROUND(AVG(ra.rating), 2)\n",
    "FROM books AS b\n",
    "LEFT JOIN authors AS a ON b.author_id = a.author_id\n",
    "LEFT JOIN ratings AS ra ON b.book_id = ra.book_id\n",
    "GROUP BY a.author\n",
    "HAVING COUNT(ra.book_id) > 50\n",
    "ORDER BY AVG(ra.rating) DESC\n",
    "LIMIT 1;'''\n",
    "con=engine.connect()\n",
    "pd.io.sql.read_sql(sql=text(query), con = con)"
   ]
  },
  {
   "cell_type": "markdown",
   "metadata": {},
   "source": [
    "Самая высокая оценка у книг J.K. Rowling с иллюстрациями Mary GrandPré - 4,29"
   ]
  },
  {
   "cell_type": "markdown",
   "metadata": {},
   "source": [
    "## Среднее количество обзоров от пользователей, которые поставили больше 48 оценок"
   ]
  },
  {
   "cell_type": "code",
   "execution_count": 17,
   "metadata": {},
   "outputs": [
    {
     "data": {
      "text/html": [
       "<div>\n",
       "<style scoped>\n",
       "    .dataframe tbody tr th:only-of-type {\n",
       "        vertical-align: middle;\n",
       "    }\n",
       "\n",
       "    .dataframe tbody tr th {\n",
       "        vertical-align: top;\n",
       "    }\n",
       "\n",
       "    .dataframe thead th {\n",
       "        text-align: right;\n",
       "    }\n",
       "</style>\n",
       "<table border=\"1\" class=\"dataframe\">\n",
       "  <thead>\n",
       "    <tr style=\"text-align: right;\">\n",
       "      <th></th>\n",
       "      <th>avg</th>\n",
       "    </tr>\n",
       "  </thead>\n",
       "  <tbody>\n",
       "    <tr>\n",
       "      <th>0</th>\n",
       "      <td>24.0</td>\n",
       "    </tr>\n",
       "  </tbody>\n",
       "</table>\n",
       "</div>"
      ],
      "text/plain": [
       "    avg\n",
       "0  24.0"
      ]
     },
     "execution_count": 17,
     "metadata": {},
     "output_type": "execute_result"
    }
   ],
   "source": [
    "query = '''WITH users_48 AS (\n",
    "    SELECT username\n",
    "    FROM ratings\n",
    "    GROUP BY username\n",
    "    HAVING COUNT(rating_id) > 48)\n",
    "    \n",
    "SELECT AVG(review_count)\n",
    "FROM (\n",
    "    SELECT COUNT(re.review_id) AS review_count\n",
    "    FROM reviews AS re\n",
    "    JOIN users_48 AS u ON re.username = u.username\n",
    "    GROUP BY re.username\n",
    ") AS user_reviews;'''\n",
    "con=engine.connect()\n",
    "pd.io.sql.read_sql(sql=text(query), con = con)"
   ]
  },
  {
   "cell_type": "markdown",
   "metadata": {},
   "source": [
    "В среднем пользователи оставившие больше 48 оценок делают по 24 обзора"
   ]
  },
  {
   "cell_type": "markdown",
   "metadata": {},
   "source": [
    "Выводы:\n",
    "- После 1 января 2000 года вышло 819 книг;\n",
    "- Больше всего обзоров на книгу Twilight#1 - 1120, общее количество обзоров 2793;\n",
    "- Penguin Books - издательство которое выпустило больше всего книг толщиной более 50 страниц;\n",
    "- Самая высокая оценка у книг J.K. Rowling с иллюстрациями Mary GrandPré - 4,29;\n",
    "- В среднем пользователи оставившие больше 48 оценок делают по 24 обзора."
   ]
  }
 ],
 "metadata": {
  "ExecuteTimeLog": [
   {
    "duration": 567,
    "start_time": "2024-10-05T12:47:53.454Z"
   },
   {
    "duration": 3,
    "start_time": "2024-10-05T12:48:02.024Z"
   },
   {
    "duration": 7441,
    "start_time": "2024-10-05T12:48:10.854Z"
   },
   {
    "duration": 240,
    "start_time": "2024-10-05T12:48:28.934Z"
   },
   {
    "duration": 64,
    "start_time": "2024-10-05T12:51:48.605Z"
   },
   {
    "duration": 2,
    "start_time": "2024-10-05T12:51:56.372Z"
   },
   {
    "duration": 3,
    "start_time": "2024-10-05T12:52:11.203Z"
   },
   {
    "duration": 152,
    "start_time": "2024-10-05T12:52:18.074Z"
   },
   {
    "duration": 139,
    "start_time": "2024-10-05T12:53:00.299Z"
   },
   {
    "duration": 100,
    "start_time": "2024-10-05T12:53:32.605Z"
   },
   {
    "duration": 4,
    "start_time": "2024-10-06T07:20:13.644Z"
   },
   {
    "duration": 534,
    "start_time": "2024-10-06T07:23:10.556Z"
   },
   {
    "duration": 4,
    "start_time": "2024-10-06T07:23:11.093Z"
   },
   {
    "duration": 7560,
    "start_time": "2024-10-06T07:23:11.099Z"
   },
   {
    "duration": 221,
    "start_time": "2024-10-06T07:23:18.660Z"
   },
   {
    "duration": 124,
    "start_time": "2024-10-06T07:23:18.883Z"
   },
   {
    "duration": 152,
    "start_time": "2024-10-06T07:23:19.009Z"
   },
   {
    "duration": 0,
    "start_time": "2024-10-06T07:23:19.164Z"
   },
   {
    "duration": 0,
    "start_time": "2024-10-06T07:23:19.169Z"
   },
   {
    "duration": 40,
    "start_time": "2024-10-06T07:23:27.613Z"
   },
   {
    "duration": 132,
    "start_time": "2024-10-06T07:23:30.276Z"
   },
   {
    "duration": 52,
    "start_time": "2024-10-06T07:23:31.451Z"
   },
   {
    "duration": 79,
    "start_time": "2024-10-06T07:25:50.391Z"
   },
   {
    "duration": 120,
    "start_time": "2024-10-06T07:26:33.871Z"
   },
   {
    "duration": 58,
    "start_time": "2024-10-06T07:28:12.583Z"
   },
   {
    "duration": 130,
    "start_time": "2024-10-06T07:28:23.811Z"
   },
   {
    "duration": 135,
    "start_time": "2024-10-06T07:28:58.909Z"
   },
   {
    "duration": 66,
    "start_time": "2024-10-06T07:29:49.282Z"
   },
   {
    "duration": 145,
    "start_time": "2024-10-06T07:30:17.226Z"
   },
   {
    "duration": 72,
    "start_time": "2024-10-06T07:31:15.858Z"
   },
   {
    "duration": 71,
    "start_time": "2024-10-06T07:31:39.609Z"
   },
   {
    "duration": 67,
    "start_time": "2024-10-06T07:31:43.288Z"
   },
   {
    "duration": 38,
    "start_time": "2024-10-06T07:31:49.391Z"
   },
   {
    "duration": 83,
    "start_time": "2024-10-06T07:31:57.518Z"
   },
   {
    "duration": 48,
    "start_time": "2024-10-06T07:32:17.400Z"
   },
   {
    "duration": 50,
    "start_time": "2024-10-06T07:32:43.496Z"
   },
   {
    "duration": 50,
    "start_time": "2024-10-06T07:32:56.238Z"
   },
   {
    "duration": 70,
    "start_time": "2024-10-06T07:38:10.350Z"
   },
   {
    "duration": 78,
    "start_time": "2024-10-06T07:39:18.212Z"
   },
   {
    "duration": 84,
    "start_time": "2024-10-06T07:39:46.557Z"
   },
   {
    "duration": 84,
    "start_time": "2024-10-06T07:40:08.765Z"
   },
   {
    "duration": 86,
    "start_time": "2024-10-06T07:40:37.632Z"
   },
   {
    "duration": 88,
    "start_time": "2024-10-06T07:40:53.404Z"
   },
   {
    "duration": 83,
    "start_time": "2024-10-06T07:41:40.882Z"
   },
   {
    "duration": 85,
    "start_time": "2024-10-06T07:41:58.384Z"
   },
   {
    "duration": 85,
    "start_time": "2024-10-06T07:42:10.606Z"
   },
   {
    "duration": 87,
    "start_time": "2024-10-06T07:43:02.886Z"
   },
   {
    "duration": 91,
    "start_time": "2024-10-06T07:43:22.614Z"
   },
   {
    "duration": 90,
    "start_time": "2024-10-06T07:43:33.990Z"
   },
   {
    "duration": 77,
    "start_time": "2024-10-06T07:48:33.754Z"
   },
   {
    "duration": 48,
    "start_time": "2024-10-06T07:49:04.367Z"
   },
   {
    "duration": 80,
    "start_time": "2024-10-06T07:53:48.917Z"
   },
   {
    "duration": 46,
    "start_time": "2024-10-06T07:54:39.970Z"
   },
   {
    "duration": 71,
    "start_time": "2024-10-06T07:55:26.503Z"
   },
   {
    "duration": 46,
    "start_time": "2024-10-06T07:55:34.071Z"
   },
   {
    "duration": 146,
    "start_time": "2024-10-06T07:56:22.499Z"
   },
   {
    "duration": 84,
    "start_time": "2024-10-06T08:01:36.690Z"
   },
   {
    "duration": 78,
    "start_time": "2024-10-06T08:01:46.201Z"
   },
   {
    "duration": 85,
    "start_time": "2024-10-06T08:02:31.382Z"
   },
   {
    "duration": 102,
    "start_time": "2024-10-06T08:02:56.759Z"
   },
   {
    "duration": 54,
    "start_time": "2024-10-06T08:03:05.193Z"
   },
   {
    "duration": 84,
    "start_time": "2024-10-06T08:05:07.227Z"
   },
   {
    "duration": 83,
    "start_time": "2024-10-06T08:06:04.864Z"
   },
   {
    "duration": 91,
    "start_time": "2024-10-06T08:06:10.999Z"
   },
   {
    "duration": 84,
    "start_time": "2024-10-06T08:06:16.744Z"
   },
   {
    "duration": 68,
    "start_time": "2024-10-06T08:06:56.690Z"
   },
   {
    "duration": 61,
    "start_time": "2024-10-06T08:07:03.221Z"
   },
   {
    "duration": 85,
    "start_time": "2024-10-06T08:07:55.547Z"
   },
   {
    "duration": 87,
    "start_time": "2024-10-06T08:08:29.180Z"
   },
   {
    "duration": 81,
    "start_time": "2024-10-06T08:08:35.380Z"
   },
   {
    "duration": 54,
    "start_time": "2024-10-06T08:10:27.971Z"
   },
   {
    "duration": 59,
    "start_time": "2024-10-06T08:11:33.942Z"
   },
   {
    "duration": 75,
    "start_time": "2024-10-06T08:15:35.467Z"
   },
   {
    "duration": 62,
    "start_time": "2024-10-06T08:15:48.971Z"
   },
   {
    "duration": 65,
    "start_time": "2024-10-06T08:16:20.609Z"
   },
   {
    "duration": 81,
    "start_time": "2024-10-06T08:17:03.317Z"
   },
   {
    "duration": 145,
    "start_time": "2024-10-06T08:17:18.682Z"
   },
   {
    "duration": 74,
    "start_time": "2024-10-06T08:18:23.930Z"
   },
   {
    "duration": 44,
    "start_time": "2024-10-06T08:18:33.719Z"
   },
   {
    "duration": 160,
    "start_time": "2024-10-06T08:19:10.653Z"
   },
   {
    "duration": 80,
    "start_time": "2024-10-06T08:19:32.006Z"
   },
   {
    "duration": 70,
    "start_time": "2024-10-06T08:19:41.654Z"
   },
   {
    "duration": 72,
    "start_time": "2024-10-06T08:22:14.550Z"
   },
   {
    "duration": 60,
    "start_time": "2024-10-06T08:23:18.506Z"
   },
   {
    "duration": 65,
    "start_time": "2024-10-06T08:23:41.711Z"
   },
   {
    "duration": 63,
    "start_time": "2024-10-06T08:24:01.173Z"
   },
   {
    "duration": 123,
    "start_time": "2024-10-06T08:24:07.923Z"
   },
   {
    "duration": 58,
    "start_time": "2024-10-06T08:25:14.913Z"
   },
   {
    "duration": 568,
    "start_time": "2024-10-06T08:27:41.436Z"
   },
   {
    "duration": 3,
    "start_time": "2024-10-06T08:27:42.006Z"
   },
   {
    "duration": 7586,
    "start_time": "2024-10-06T08:27:42.011Z"
   },
   {
    "duration": 222,
    "start_time": "2024-10-06T08:27:49.599Z"
   },
   {
    "duration": 137,
    "start_time": "2024-10-06T08:27:49.823Z"
   },
   {
    "duration": 52,
    "start_time": "2024-10-06T08:27:49.962Z"
   },
   {
    "duration": 57,
    "start_time": "2024-10-06T08:27:50.015Z"
   },
   {
    "duration": 64,
    "start_time": "2024-10-06T08:27:50.074Z"
   },
   {
    "duration": 52,
    "start_time": "2024-10-06T08:27:50.140Z"
   },
   {
    "duration": 95,
    "start_time": "2024-10-06T08:27:50.195Z"
   },
   {
    "duration": 55,
    "start_time": "2024-10-06T08:27:50.292Z"
   },
   {
    "duration": 56,
    "start_time": "2024-10-06T08:27:50.349Z"
   },
   {
    "duration": 53,
    "start_time": "2024-10-06T08:27:50.407Z"
   },
   {
    "duration": 472,
    "start_time": "2024-10-06T10:34:33.467Z"
   },
   {
    "duration": 3,
    "start_time": "2024-10-06T10:34:33.941Z"
   },
   {
    "duration": 5956,
    "start_time": "2024-10-06T10:34:33.945Z"
   },
   {
    "duration": 42,
    "start_time": "2024-10-06T10:34:39.902Z"
   },
   {
    "duration": 25,
    "start_time": "2024-10-06T10:34:39.946Z"
   },
   {
    "duration": 9,
    "start_time": "2024-10-06T10:34:39.972Z"
   },
   {
    "duration": 13,
    "start_time": "2024-10-06T10:34:39.983Z"
   },
   {
    "duration": 10,
    "start_time": "2024-10-06T10:34:39.998Z"
   },
   {
    "duration": 9,
    "start_time": "2024-10-06T10:34:40.009Z"
   },
   {
    "duration": 26,
    "start_time": "2024-10-06T10:34:40.019Z"
   },
   {
    "duration": 13,
    "start_time": "2024-10-06T10:34:40.046Z"
   },
   {
    "duration": 13,
    "start_time": "2024-10-06T10:34:40.061Z"
   },
   {
    "duration": 11,
    "start_time": "2024-10-06T10:34:40.076Z"
   },
   {
    "duration": 548,
    "start_time": "2024-10-06T14:02:03.562Z"
   },
   {
    "duration": 3,
    "start_time": "2024-10-06T14:02:04.112Z"
   },
   {
    "duration": 6703,
    "start_time": "2024-10-06T14:02:04.117Z"
   },
   {
    "duration": 212,
    "start_time": "2024-10-06T14:02:10.823Z"
   },
   {
    "duration": 127,
    "start_time": "2024-10-06T14:02:11.038Z"
   },
   {
    "duration": 52,
    "start_time": "2024-10-06T14:02:11.167Z"
   },
   {
    "duration": 52,
    "start_time": "2024-10-06T14:02:11.221Z"
   },
   {
    "duration": 55,
    "start_time": "2024-10-06T14:02:11.276Z"
   },
   {
    "duration": 52,
    "start_time": "2024-10-06T14:02:11.333Z"
   },
   {
    "duration": 88,
    "start_time": "2024-10-06T14:02:11.387Z"
   },
   {
    "duration": 51,
    "start_time": "2024-10-06T14:02:11.477Z"
   },
   {
    "duration": 54,
    "start_time": "2024-10-06T14:02:11.531Z"
   },
   {
    "duration": 55,
    "start_time": "2024-10-06T14:02:11.587Z"
   },
   {
    "duration": 55,
    "start_time": "2024-10-06T14:02:11.645Z"
   },
   {
    "duration": 54,
    "start_time": "2024-10-06T14:02:11.702Z"
   },
   {
    "duration": 79,
    "start_time": "2024-10-06T14:02:26.331Z"
   },
   {
    "duration": 511,
    "start_time": "2024-10-06T16:46:01.704Z"
   },
   {
    "duration": 3,
    "start_time": "2024-10-06T16:46:02.218Z"
   },
   {
    "duration": 7855,
    "start_time": "2024-10-06T16:46:02.223Z"
   },
   {
    "duration": 228,
    "start_time": "2024-10-06T16:46:10.080Z"
   },
   {
    "duration": 132,
    "start_time": "2024-10-06T16:46:10.309Z"
   },
   {
    "duration": 53,
    "start_time": "2024-10-06T16:46:10.443Z"
   },
   {
    "duration": 55,
    "start_time": "2024-10-06T16:46:10.498Z"
   },
   {
    "duration": 56,
    "start_time": "2024-10-06T16:46:10.555Z"
   },
   {
    "duration": 53,
    "start_time": "2024-10-06T16:46:10.613Z"
   },
   {
    "duration": 90,
    "start_time": "2024-10-06T16:46:10.669Z"
   },
   {
    "duration": 51,
    "start_time": "2024-10-06T16:46:10.761Z"
   },
   {
    "duration": 52,
    "start_time": "2024-10-06T16:46:10.814Z"
   },
   {
    "duration": 63,
    "start_time": "2024-10-06T16:46:10.867Z"
   },
   {
    "duration": 57,
    "start_time": "2024-10-06T16:46:10.932Z"
   },
   {
    "duration": 53,
    "start_time": "2024-10-06T16:46:10.991Z"
   },
   {
    "duration": 55,
    "start_time": "2024-10-06T16:46:40.709Z"
   },
   {
    "duration": 83,
    "start_time": "2024-10-06T16:48:31.075Z"
   },
   {
    "duration": 81,
    "start_time": "2024-10-06T16:48:43.378Z"
   },
   {
    "duration": 82,
    "start_time": "2024-10-06T16:48:52.662Z"
   },
   {
    "duration": 85,
    "start_time": "2024-10-06T16:49:05.935Z"
   },
   {
    "duration": 86,
    "start_time": "2024-10-06T16:49:32.445Z"
   },
   {
    "duration": 85,
    "start_time": "2024-10-06T16:50:00.708Z"
   },
   {
    "duration": 523,
    "start_time": "2024-10-06T16:51:29.486Z"
   },
   {
    "duration": 3,
    "start_time": "2024-10-06T16:51:30.012Z"
   },
   {
    "duration": 7549,
    "start_time": "2024-10-06T16:51:30.017Z"
   },
   {
    "duration": 219,
    "start_time": "2024-10-06T16:51:37.567Z"
   },
   {
    "duration": 114,
    "start_time": "2024-10-06T16:51:37.788Z"
   },
   {
    "duration": 52,
    "start_time": "2024-10-06T16:51:37.904Z"
   },
   {
    "duration": 54,
    "start_time": "2024-10-06T16:51:37.958Z"
   },
   {
    "duration": 55,
    "start_time": "2024-10-06T16:51:38.014Z"
   },
   {
    "duration": 54,
    "start_time": "2024-10-06T16:51:38.071Z"
   },
   {
    "duration": 96,
    "start_time": "2024-10-06T16:51:38.127Z"
   },
   {
    "duration": 51,
    "start_time": "2024-10-06T16:51:38.225Z"
   },
   {
    "duration": 54,
    "start_time": "2024-10-06T16:51:38.278Z"
   },
   {
    "duration": 87,
    "start_time": "2024-10-06T16:51:38.334Z"
   },
   {
    "duration": 71,
    "start_time": "2024-10-06T16:51:38.424Z"
   },
   {
    "duration": 55,
    "start_time": "2024-10-06T16:51:38.497Z"
   },
   {
    "duration": 55,
    "start_time": "2024-10-06T16:51:38.553Z"
   },
   {
    "duration": 52,
    "start_time": "2024-10-06T16:51:38.610Z"
   }
  ],
  "kernelspec": {
   "display_name": "Python 3 (ipykernel)",
   "language": "python",
   "name": "python3"
  },
  "language_info": {
   "codemirror_mode": {
    "name": "ipython",
    "version": 3
   },
   "file_extension": ".py",
   "mimetype": "text/x-python",
   "name": "python",
   "nbconvert_exporter": "python",
   "pygments_lexer": "ipython3",
   "version": "3.11.7"
  },
  "toc": {
   "base_numbering": 1,
   "nav_menu": {},
   "number_sections": true,
   "sideBar": true,
   "skip_h1_title": true,
   "title_cell": "Table of Contents",
   "title_sidebar": "Contents",
   "toc_cell": false,
   "toc_position": {},
   "toc_section_display": true,
   "toc_window_display": true
  }
 },
 "nbformat": 4,
 "nbformat_minor": 4
}
