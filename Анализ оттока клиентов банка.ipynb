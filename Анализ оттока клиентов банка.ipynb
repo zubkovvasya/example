{
 "cells": [
  {
   "cell_type": "code",
   "execution_count": 1,
   "metadata": {},
   "outputs": [
    {
     "name": "stdout",
     "output_type": "stream",
     "text": [
      "Requirement already satisfied: phik in /opt/conda/lib/python3.9/site-packages (0.12.4)\n",
      "Requirement already satisfied: numpy>=1.18.0 in /opt/conda/lib/python3.9/site-packages (from phik) (1.21.1)\n",
      "Requirement already satisfied: pandas>=0.25.1 in /opt/conda/lib/python3.9/site-packages (from phik) (1.2.4)\n",
      "Requirement already satisfied: joblib>=0.14.1 in /opt/conda/lib/python3.9/site-packages (from phik) (1.1.0)\n",
      "Requirement already satisfied: matplotlib>=2.2.3 in /opt/conda/lib/python3.9/site-packages (from phik) (3.3.4)\n",
      "Requirement already satisfied: scipy>=1.5.2 in /opt/conda/lib/python3.9/site-packages (from phik) (1.9.1)\n",
      "Requirement already satisfied: pyparsing!=2.0.4,!=2.1.2,!=2.1.6,>=2.0.3 in /opt/conda/lib/python3.9/site-packages (from matplotlib>=2.2.3->phik) (2.4.7)\n",
      "Requirement already satisfied: pillow>=6.2.0 in /opt/conda/lib/python3.9/site-packages (from matplotlib>=2.2.3->phik) (8.4.0)\n",
      "Requirement already satisfied: python-dateutil>=2.1 in /opt/conda/lib/python3.9/site-packages (from matplotlib>=2.2.3->phik) (2.8.1)\n",
      "Requirement already satisfied: kiwisolver>=1.0.1 in /opt/conda/lib/python3.9/site-packages (from matplotlib>=2.2.3->phik) (1.4.4)\n",
      "Requirement already satisfied: cycler>=0.10 in /opt/conda/lib/python3.9/site-packages (from matplotlib>=2.2.3->phik) (0.11.0)\n",
      "Requirement already satisfied: pytz>=2017.3 in /opt/conda/lib/python3.9/site-packages (from pandas>=0.25.1->phik) (2021.1)\n",
      "Requirement already satisfied: six>=1.5 in /opt/conda/lib/python3.9/site-packages (from python-dateutil>=2.1->matplotlib>=2.2.3->phik) (1.16.0)\n",
      "Note: you may need to restart the kernel to use updated packages.\n"
     ]
    }
   ],
   "source": [
    "pip install phik"
   ]
  },
  {
   "cell_type": "markdown",
   "metadata": {},
   "source": [
    "# Банки — Анализ оттока клиентов"
   ]
  },
  {
   "cell_type": "markdown",
   "metadata": {},
   "source": [
    "## Материалы\n",
    "\n",
    "Презентация https://drive.google.com/file/d/1GPaXPrBFDcjrE_5CKcDFzZ9bAbuxVElJ/view?usp=sharing"
   ]
  },
  {
   "cell_type": "markdown",
   "metadata": {},
   "source": [
    "## Описание проекта"
   ]
  },
  {
   "cell_type": "markdown",
   "metadata": {},
   "source": [
    "**«Метанпромбанк» — деньги не пахнут!**\n",
    "\n",
    "🏦 Наш проект связан с анализом оттока клиентов: банковские маркетологи ещё на заре времён выяснили, что удерживать старых клиентов дешевле, чем привлекать новых, а моя задача  - помочь им в этом, чтобы «Метанпромбанк» рос, крепчал и развивался.\n",
    "\n",
    "Наш банк в срочном порядке ищет аналитиков уверенным владением Python. Моя главная задача - анализ оттока клиентов. Анализ покажет, какие клиенты уходят из банка, а так же поможет мне составить сегменты клиентов, которые склонны уходить из банка."
   ]
  },
  {
   "cell_type": "markdown",
   "metadata": {},
   "source": [
    "## Загрузка и описание данных"
   ]
  },
  {
   "cell_type": "code",
   "execution_count": 2,
   "metadata": {},
   "outputs": [],
   "source": [
    "# импорт библиотек\n",
    "import pandas as pd\n",
    "import numpy as np\n",
    "import scipy.stats as stats\n",
    "import matplotlib.pyplot as plt\n",
    "import seaborn as sns\n",
    "from phik import phik_matrix\n",
    "import warnings\n",
    "warnings.filterwarnings(\"ignore\")"
   ]
  },
  {
   "cell_type": "code",
   "execution_count": 3,
   "metadata": {},
   "outputs": [],
   "source": [
    "# настройка отображения экспоненциальных значений\n",
    "pd.set_option('display.float_format', '{:.2f}'.format)"
   ]
  },
  {
   "cell_type": "code",
   "execution_count": 4,
   "metadata": {},
   "outputs": [
    {
     "data": {
      "text/html": [
       "<div>\n",
       "<style scoped>\n",
       "    .dataframe tbody tr th:only-of-type {\n",
       "        vertical-align: middle;\n",
       "    }\n",
       "\n",
       "    .dataframe tbody tr th {\n",
       "        vertical-align: top;\n",
       "    }\n",
       "\n",
       "    .dataframe thead th {\n",
       "        text-align: right;\n",
       "    }\n",
       "</style>\n",
       "<table border=\"1\" class=\"dataframe\">\n",
       "  <thead>\n",
       "    <tr style=\"text-align: right;\">\n",
       "      <th></th>\n",
       "      <th>USERID</th>\n",
       "      <th>score</th>\n",
       "      <th>city</th>\n",
       "      <th>gender</th>\n",
       "      <th>age</th>\n",
       "      <th>equity</th>\n",
       "      <th>balance</th>\n",
       "      <th>products</th>\n",
       "      <th>credit_card</th>\n",
       "      <th>last_activity</th>\n",
       "      <th>EST_SALARY</th>\n",
       "      <th>churn</th>\n",
       "    </tr>\n",
       "  </thead>\n",
       "  <tbody>\n",
       "    <tr>\n",
       "      <th>0</th>\n",
       "      <td>183012</td>\n",
       "      <td>850.00</td>\n",
       "      <td>Рыбинск</td>\n",
       "      <td>Ж</td>\n",
       "      <td>25.00</td>\n",
       "      <td>1</td>\n",
       "      <td>59214.82</td>\n",
       "      <td>2</td>\n",
       "      <td>0</td>\n",
       "      <td>1</td>\n",
       "      <td>75719.14</td>\n",
       "      <td>1</td>\n",
       "    </tr>\n",
       "    <tr>\n",
       "      <th>1</th>\n",
       "      <td>146556</td>\n",
       "      <td>861.00</td>\n",
       "      <td>Рыбинск</td>\n",
       "      <td>Ж</td>\n",
       "      <td>37.00</td>\n",
       "      <td>5</td>\n",
       "      <td>850594.33</td>\n",
       "      <td>3</td>\n",
       "      <td>1</td>\n",
       "      <td>0</td>\n",
       "      <td>86621.77</td>\n",
       "      <td>0</td>\n",
       "    </tr>\n",
       "    <tr>\n",
       "      <th>2</th>\n",
       "      <td>120722</td>\n",
       "      <td>892.00</td>\n",
       "      <td>Рыбинск</td>\n",
       "      <td>Ж</td>\n",
       "      <td>30.00</td>\n",
       "      <td>0</td>\n",
       "      <td>NaN</td>\n",
       "      <td>1</td>\n",
       "      <td>1</td>\n",
       "      <td>1</td>\n",
       "      <td>107683.34</td>\n",
       "      <td>0</td>\n",
       "    </tr>\n",
       "    <tr>\n",
       "      <th>3</th>\n",
       "      <td>225363</td>\n",
       "      <td>866.00</td>\n",
       "      <td>Ярославль</td>\n",
       "      <td>Ж</td>\n",
       "      <td>51.00</td>\n",
       "      <td>5</td>\n",
       "      <td>1524746.26</td>\n",
       "      <td>2</td>\n",
       "      <td>0</td>\n",
       "      <td>1</td>\n",
       "      <td>174423.53</td>\n",
       "      <td>1</td>\n",
       "    </tr>\n",
       "    <tr>\n",
       "      <th>4</th>\n",
       "      <td>157978</td>\n",
       "      <td>730.00</td>\n",
       "      <td>Ярославль</td>\n",
       "      <td>М</td>\n",
       "      <td>34.00</td>\n",
       "      <td>5</td>\n",
       "      <td>174.00</td>\n",
       "      <td>1</td>\n",
       "      <td>1</td>\n",
       "      <td>0</td>\n",
       "      <td>67353.16</td>\n",
       "      <td>1</td>\n",
       "    </tr>\n",
       "    <tr>\n",
       "      <th>...</th>\n",
       "      <td>...</td>\n",
       "      <td>...</td>\n",
       "      <td>...</td>\n",
       "      <td>...</td>\n",
       "      <td>...</td>\n",
       "      <td>...</td>\n",
       "      <td>...</td>\n",
       "      <td>...</td>\n",
       "      <td>...</td>\n",
       "      <td>...</td>\n",
       "      <td>...</td>\n",
       "      <td>...</td>\n",
       "    </tr>\n",
       "    <tr>\n",
       "      <th>9995</th>\n",
       "      <td>120553</td>\n",
       "      <td>814.00</td>\n",
       "      <td>Рыбинск</td>\n",
       "      <td>М</td>\n",
       "      <td>27.00</td>\n",
       "      <td>1</td>\n",
       "      <td>78144.65</td>\n",
       "      <td>1</td>\n",
       "      <td>0</td>\n",
       "      <td>1</td>\n",
       "      <td>18943.64</td>\n",
       "      <td>0</td>\n",
       "    </tr>\n",
       "    <tr>\n",
       "      <th>9996</th>\n",
       "      <td>139170</td>\n",
       "      <td>894.00</td>\n",
       "      <td>Ярославль</td>\n",
       "      <td>М</td>\n",
       "      <td>46.00</td>\n",
       "      <td>0</td>\n",
       "      <td>NaN</td>\n",
       "      <td>1</td>\n",
       "      <td>1</td>\n",
       "      <td>0</td>\n",
       "      <td>196898.29</td>\n",
       "      <td>0</td>\n",
       "    </tr>\n",
       "    <tr>\n",
       "      <th>9997</th>\n",
       "      <td>115639</td>\n",
       "      <td>903.00</td>\n",
       "      <td>Ярославль</td>\n",
       "      <td>М</td>\n",
       "      <td>24.00</td>\n",
       "      <td>0</td>\n",
       "      <td>NaN</td>\n",
       "      <td>2</td>\n",
       "      <td>1</td>\n",
       "      <td>1</td>\n",
       "      <td>108905.09</td>\n",
       "      <td>0</td>\n",
       "    </tr>\n",
       "    <tr>\n",
       "      <th>9998</th>\n",
       "      <td>148700</td>\n",
       "      <td>777.00</td>\n",
       "      <td>Ярославль</td>\n",
       "      <td>Ж</td>\n",
       "      <td>68.00</td>\n",
       "      <td>3</td>\n",
       "      <td>865457.97</td>\n",
       "      <td>3</td>\n",
       "      <td>0</td>\n",
       "      <td>1</td>\n",
       "      <td>86874.90</td>\n",
       "      <td>0</td>\n",
       "    </tr>\n",
       "    <tr>\n",
       "      <th>9999</th>\n",
       "      <td>96267</td>\n",
       "      <td>828.00</td>\n",
       "      <td>Рыбинск</td>\n",
       "      <td>Ж</td>\n",
       "      <td>58.00</td>\n",
       "      <td>3</td>\n",
       "      <td>1180886.70</td>\n",
       "      <td>4</td>\n",
       "      <td>0</td>\n",
       "      <td>1</td>\n",
       "      <td>21422.37</td>\n",
       "      <td>0</td>\n",
       "    </tr>\n",
       "  </tbody>\n",
       "</table>\n",
       "<p>10000 rows × 12 columns</p>\n",
       "</div>"
      ],
      "text/plain": [
       "      USERID  score       city gender   age  equity    balance  products  \\\n",
       "0     183012 850.00    Рыбинск      Ж 25.00       1   59214.82         2   \n",
       "1     146556 861.00    Рыбинск      Ж 37.00       5  850594.33         3   \n",
       "2     120722 892.00    Рыбинск      Ж 30.00       0        NaN         1   \n",
       "3     225363 866.00  Ярославль      Ж 51.00       5 1524746.26         2   \n",
       "4     157978 730.00  Ярославль      М 34.00       5     174.00         1   \n",
       "...      ...    ...        ...    ...   ...     ...        ...       ...   \n",
       "9995  120553 814.00    Рыбинск      М 27.00       1   78144.65         1   \n",
       "9996  139170 894.00  Ярославль      М 46.00       0        NaN         1   \n",
       "9997  115639 903.00  Ярославль      М 24.00       0        NaN         2   \n",
       "9998  148700 777.00  Ярославль      Ж 68.00       3  865457.97         3   \n",
       "9999   96267 828.00    Рыбинск      Ж 58.00       3 1180886.70         4   \n",
       "\n",
       "      credit_card  last_activity  EST_SALARY  churn  \n",
       "0               0              1    75719.14      1  \n",
       "1               1              0    86621.77      0  \n",
       "2               1              1   107683.34      0  \n",
       "3               0              1   174423.53      1  \n",
       "4               1              0    67353.16      1  \n",
       "...           ...            ...         ...    ...  \n",
       "9995            0              1    18943.64      0  \n",
       "9996            1              0   196898.29      0  \n",
       "9997            1              1   108905.09      0  \n",
       "9998            0              1    86874.90      0  \n",
       "9999            0              1    21422.37      0  \n",
       "\n",
       "[10000 rows x 12 columns]"
      ]
     },
     "execution_count": 4,
     "metadata": {},
     "output_type": "execute_result"
    }
   ],
   "source": [
    "# чтение данных\n",
    "data = pd.read_csv('/datasets/bank_scrooge.csv')\n",
    "data"
   ]
  },
  {
   "cell_type": "code",
   "execution_count": 5,
   "metadata": {},
   "outputs": [
    {
     "name": "stdout",
     "output_type": "stream",
     "text": [
      "<class 'pandas.core.frame.DataFrame'>\n",
      "RangeIndex: 10000 entries, 0 to 9999\n",
      "Data columns (total 12 columns):\n",
      " #   Column         Non-Null Count  Dtype  \n",
      "---  ------         --------------  -----  \n",
      " 0   USERID         10000 non-null  int64  \n",
      " 1   score          10000 non-null  float64\n",
      " 2   city           10000 non-null  object \n",
      " 3   gender         10000 non-null  object \n",
      " 4   age            9974 non-null   float64\n",
      " 5   equity         10000 non-null  int64  \n",
      " 6   balance        7705 non-null   float64\n",
      " 7   products       10000 non-null  int64  \n",
      " 8   credit_card    10000 non-null  int64  \n",
      " 9   last_activity  10000 non-null  int64  \n",
      " 10  EST_SALARY     10000 non-null  float64\n",
      " 11  churn          10000 non-null  int64  \n",
      "dtypes: float64(4), int64(6), object(2)\n",
      "memory usage: 937.6+ KB\n"
     ]
    }
   ],
   "source": [
    "data.info()"
   ]
  },
  {
   "cell_type": "code",
   "execution_count": 6,
   "metadata": {},
   "outputs": [],
   "source": [
    "# для удобства привожу названия столбцов к нижнему регистру\n",
    "data.columns = data.columns.str.lower()"
   ]
  },
  {
   "cell_type": "code",
   "execution_count": 7,
   "metadata": {},
   "outputs": [
    {
     "name": "stdout",
     "output_type": "stream",
     "text": [
      "<class 'pandas.core.frame.DataFrame'>\n",
      "Int64Index: 9999 entries, 0 to 9999\n",
      "Data columns (total 12 columns):\n",
      " #   Column         Non-Null Count  Dtype  \n",
      "---  ------         --------------  -----  \n",
      " 0   userid         9999 non-null   int64  \n",
      " 1   score          9999 non-null   float64\n",
      " 2   city           9999 non-null   object \n",
      " 3   gender         9999 non-null   object \n",
      " 4   age            9973 non-null   float64\n",
      " 5   equity         9999 non-null   int64  \n",
      " 6   balance        7705 non-null   float64\n",
      " 7   products       9999 non-null   int64  \n",
      " 8   credit_card    9999 non-null   int64  \n",
      " 9   last_activity  9999 non-null   int64  \n",
      " 10  est_salary     9999 non-null   float64\n",
      " 11  churn          9999 non-null   int64  \n",
      "dtypes: float64(4), int64(6), object(2)\n",
      "memory usage: 1015.5+ KB\n"
     ]
    }
   ],
   "source": [
    "# удаляю строки с нулевым значением в столбце products, тк у клиента должен быть хоть один продукт\n",
    "data = data[data['products'] != 0]\n",
    "data.info()"
   ]
  },
  {
   "cell_type": "code",
   "execution_count": 8,
   "metadata": {},
   "outputs": [
    {
     "data": {
      "text/html": [
       "<div>\n",
       "<style scoped>\n",
       "    .dataframe tbody tr th:only-of-type {\n",
       "        vertical-align: middle;\n",
       "    }\n",
       "\n",
       "    .dataframe tbody tr th {\n",
       "        vertical-align: top;\n",
       "    }\n",
       "\n",
       "    .dataframe thead th {\n",
       "        text-align: right;\n",
       "    }\n",
       "</style>\n",
       "<table border=\"1\" class=\"dataframe\">\n",
       "  <thead>\n",
       "    <tr style=\"text-align: right;\">\n",
       "      <th></th>\n",
       "      <th>userid</th>\n",
       "      <th>score</th>\n",
       "      <th>age</th>\n",
       "      <th>equity</th>\n",
       "      <th>balance</th>\n",
       "      <th>products</th>\n",
       "      <th>credit_card</th>\n",
       "      <th>last_activity</th>\n",
       "      <th>est_salary</th>\n",
       "      <th>churn</th>\n",
       "    </tr>\n",
       "  </thead>\n",
       "  <tbody>\n",
       "    <tr>\n",
       "      <th>count</th>\n",
       "      <td>9999.00</td>\n",
       "      <td>9999.00</td>\n",
       "      <td>9973.00</td>\n",
       "      <td>9999.00</td>\n",
       "      <td>7705.00</td>\n",
       "      <td>9999.00</td>\n",
       "      <td>9999.00</td>\n",
       "      <td>9999.00</td>\n",
       "      <td>9999.00</td>\n",
       "      <td>9999.00</td>\n",
       "    </tr>\n",
       "    <tr>\n",
       "      <th>mean</th>\n",
       "      <td>171817.11</td>\n",
       "      <td>848.69</td>\n",
       "      <td>42.73</td>\n",
       "      <td>2.63</td>\n",
       "      <td>827794.31</td>\n",
       "      <td>1.87</td>\n",
       "      <td>0.68</td>\n",
       "      <td>0.52</td>\n",
       "      <td>147879.17</td>\n",
       "      <td>0.18</td>\n",
       "    </tr>\n",
       "    <tr>\n",
       "      <th>std</th>\n",
       "      <td>33709.07</td>\n",
       "      <td>65.44</td>\n",
       "      <td>12.18</td>\n",
       "      <td>1.98</td>\n",
       "      <td>1980614.15</td>\n",
       "      <td>0.79</td>\n",
       "      <td>0.47</td>\n",
       "      <td>0.50</td>\n",
       "      <td>139390.07</td>\n",
       "      <td>0.39</td>\n",
       "    </tr>\n",
       "    <tr>\n",
       "      <th>min</th>\n",
       "      <td>94561.00</td>\n",
       "      <td>642.00</td>\n",
       "      <td>18.00</td>\n",
       "      <td>0.00</td>\n",
       "      <td>0.00</td>\n",
       "      <td>1.00</td>\n",
       "      <td>0.00</td>\n",
       "      <td>0.00</td>\n",
       "      <td>2546.30</td>\n",
       "      <td>0.00</td>\n",
       "    </tr>\n",
       "    <tr>\n",
       "      <th>25%</th>\n",
       "      <td>142809.50</td>\n",
       "      <td>802.00</td>\n",
       "      <td>33.00</td>\n",
       "      <td>0.00</td>\n",
       "      <td>295554.16</td>\n",
       "      <td>1.00</td>\n",
       "      <td>0.00</td>\n",
       "      <td>0.00</td>\n",
       "      <td>75252.12</td>\n",
       "      <td>0.00</td>\n",
       "    </tr>\n",
       "    <tr>\n",
       "      <th>50%</th>\n",
       "      <td>172740.00</td>\n",
       "      <td>853.00</td>\n",
       "      <td>40.00</td>\n",
       "      <td>3.00</td>\n",
       "      <td>524272.20</td>\n",
       "      <td>2.00</td>\n",
       "      <td>1.00</td>\n",
       "      <td>1.00</td>\n",
       "      <td>119661.51</td>\n",
       "      <td>0.00</td>\n",
       "    </tr>\n",
       "    <tr>\n",
       "      <th>75%</th>\n",
       "      <td>201262.50</td>\n",
       "      <td>900.00</td>\n",
       "      <td>51.00</td>\n",
       "      <td>4.00</td>\n",
       "      <td>980705.85</td>\n",
       "      <td>2.00</td>\n",
       "      <td>1.00</td>\n",
       "      <td>1.00</td>\n",
       "      <td>174501.12</td>\n",
       "      <td>0.00</td>\n",
       "    </tr>\n",
       "    <tr>\n",
       "      <th>max</th>\n",
       "      <td>229145.00</td>\n",
       "      <td>1000.00</td>\n",
       "      <td>86.00</td>\n",
       "      <td>9.00</td>\n",
       "      <td>119113552.01</td>\n",
       "      <td>5.00</td>\n",
       "      <td>1.00</td>\n",
       "      <td>1.00</td>\n",
       "      <td>1395064.45</td>\n",
       "      <td>1.00</td>\n",
       "    </tr>\n",
       "  </tbody>\n",
       "</table>\n",
       "</div>"
      ],
      "text/plain": [
       "         userid   score     age  equity      balance  products  credit_card  \\\n",
       "count   9999.00 9999.00 9973.00 9999.00      7705.00   9999.00      9999.00   \n",
       "mean  171817.11  848.69   42.73    2.63    827794.31      1.87         0.68   \n",
       "std    33709.07   65.44   12.18    1.98   1980614.15      0.79         0.47   \n",
       "min    94561.00  642.00   18.00    0.00         0.00      1.00         0.00   \n",
       "25%   142809.50  802.00   33.00    0.00    295554.16      1.00         0.00   \n",
       "50%   172740.00  853.00   40.00    3.00    524272.20      2.00         1.00   \n",
       "75%   201262.50  900.00   51.00    4.00    980705.85      2.00         1.00   \n",
       "max   229145.00 1000.00   86.00    9.00 119113552.01      5.00         1.00   \n",
       "\n",
       "       last_activity  est_salary   churn  \n",
       "count        9999.00     9999.00 9999.00  \n",
       "mean            0.52   147879.17    0.18  \n",
       "std             0.50   139390.07    0.39  \n",
       "min             0.00     2546.30    0.00  \n",
       "25%             0.00    75252.12    0.00  \n",
       "50%             1.00   119661.51    0.00  \n",
       "75%             1.00   174501.12    0.00  \n",
       "max             1.00  1395064.45    1.00  "
      ]
     },
     "execution_count": 8,
     "metadata": {},
     "output_type": "execute_result"
    }
   ],
   "source": [
    "data.describe()"
   ]
  },
  {
   "cell_type": "markdown",
   "metadata": {},
   "source": [
    "При загрузке данных выполнил следующее:\n",
    "- привел названия столбцов к нижнему регистру;\n",
    "- удалил данные о клиентах без продуктов банка;\n",
    "- данные имеют выбросы по столбцам `balance` и `est_salary` обработаю их при анализе этих параметоров."
   ]
  },
  {
   "cell_type": "markdown",
   "metadata": {},
   "source": [
    "## Подготовка данных"
   ]
  },
  {
   "cell_type": "markdown",
   "metadata": {},
   "source": [
    "### Проверка на дубликаты"
   ]
  },
  {
   "cell_type": "markdown",
   "metadata": {},
   "source": [
    "#### Полные дубликаты"
   ]
  },
  {
   "cell_type": "code",
   "execution_count": 9,
   "metadata": {},
   "outputs": [
    {
     "data": {
      "text/plain": [
       "0"
      ]
     },
     "execution_count": 9,
     "metadata": {},
     "output_type": "execute_result"
    }
   ],
   "source": [
    "# проверяю на дубликаты\n",
    "duplicated_data = data[data.duplicated()]\n",
    "len(duplicated_data)"
   ]
  },
  {
   "cell_type": "markdown",
   "metadata": {},
   "source": [
    "Полных дубликатов в представленных данных нет"
   ]
  },
  {
   "cell_type": "markdown",
   "metadata": {},
   "source": [
    "#### Неявные дубликаты"
   ]
  },
  {
   "cell_type": "code",
   "execution_count": 10,
   "metadata": {},
   "outputs": [
    {
     "data": {
      "text/plain": [
       "73"
      ]
     },
     "execution_count": 10,
     "metadata": {},
     "output_type": "execute_result"
    }
   ],
   "source": [
    "# неявные дубликаты по столбцу userid\n",
    "duplicated_userid = data[data.duplicated(subset='userid')]\n",
    "len(duplicated_userid)"
   ]
  },
  {
   "cell_type": "markdown",
   "metadata": {},
   "source": [
    "73 дубликата по столбцу userid, удалить их все нельзя.\n",
    "\n",
    "Предлагаю среди них найти тех клиентов у которых кроме `userid` дублируются столбцы `city`, `age` и `gender`"
   ]
  },
  {
   "cell_type": "code",
   "execution_count": 11,
   "metadata": {},
   "outputs": [
    {
     "data": {
      "text/plain": [
       "0"
      ]
     },
     "execution_count": 11,
     "metadata": {},
     "output_type": "execute_result"
    }
   ],
   "source": [
    "duplicated_userid_city_age_gender = data[data.duplicated(subset=['userid', 'city', 'age', 'gender'])]\n",
    "len(duplicated_userid_city_age_gender)"
   ]
  },
  {
   "cell_type": "code",
   "execution_count": 12,
   "metadata": {},
   "outputs": [
    {
     "data": {
      "text/html": [
       "<div>\n",
       "<style scoped>\n",
       "    .dataframe tbody tr th:only-of-type {\n",
       "        vertical-align: middle;\n",
       "    }\n",
       "\n",
       "    .dataframe tbody tr th {\n",
       "        vertical-align: top;\n",
       "    }\n",
       "\n",
       "    .dataframe thead th {\n",
       "        text-align: right;\n",
       "    }\n",
       "</style>\n",
       "<table border=\"1\" class=\"dataframe\">\n",
       "  <thead>\n",
       "    <tr style=\"text-align: right;\">\n",
       "      <th></th>\n",
       "      <th>userid</th>\n",
       "      <th>score</th>\n",
       "      <th>city</th>\n",
       "      <th>gender</th>\n",
       "      <th>age</th>\n",
       "      <th>equity</th>\n",
       "      <th>balance</th>\n",
       "      <th>products</th>\n",
       "      <th>credit_card</th>\n",
       "      <th>last_activity</th>\n",
       "      <th>est_salary</th>\n",
       "      <th>churn</th>\n",
       "    </tr>\n",
       "  </thead>\n",
       "  <tbody>\n",
       "    <tr>\n",
       "      <th>3274</th>\n",
       "      <td>155765</td>\n",
       "      <td>863.00</td>\n",
       "      <td>Ярославль</td>\n",
       "      <td>М</td>\n",
       "      <td>30.00</td>\n",
       "      <td>5</td>\n",
       "      <td>1036114.50</td>\n",
       "      <td>5</td>\n",
       "      <td>1</td>\n",
       "      <td>1</td>\n",
       "      <td>150744.50</td>\n",
       "      <td>1</td>\n",
       "    </tr>\n",
       "    <tr>\n",
       "      <th>5197</th>\n",
       "      <td>155765</td>\n",
       "      <td>923.00</td>\n",
       "      <td>Рыбинск</td>\n",
       "      <td>М</td>\n",
       "      <td>30.00</td>\n",
       "      <td>0</td>\n",
       "      <td>NaN</td>\n",
       "      <td>1</td>\n",
       "      <td>1</td>\n",
       "      <td>1</td>\n",
       "      <td>120296.60</td>\n",
       "      <td>0</td>\n",
       "    </tr>\n",
       "    <tr>\n",
       "      <th>8205</th>\n",
       "      <td>227795</td>\n",
       "      <td>840.00</td>\n",
       "      <td>Рыбинск</td>\n",
       "      <td>М</td>\n",
       "      <td>34.00</td>\n",
       "      <td>2</td>\n",
       "      <td>350768.03</td>\n",
       "      <td>1</td>\n",
       "      <td>1</td>\n",
       "      <td>0</td>\n",
       "      <td>102036.14</td>\n",
       "      <td>1</td>\n",
       "    </tr>\n",
       "    <tr>\n",
       "      <th>8497</th>\n",
       "      <td>227795</td>\n",
       "      <td>839.00</td>\n",
       "      <td>Ярославль</td>\n",
       "      <td>М</td>\n",
       "      <td>34.00</td>\n",
       "      <td>2</td>\n",
       "      <td>326593.14</td>\n",
       "      <td>2</td>\n",
       "      <td>1</td>\n",
       "      <td>0</td>\n",
       "      <td>103314.92</td>\n",
       "      <td>0</td>\n",
       "    </tr>\n",
       "  </tbody>\n",
       "</table>\n",
       "</div>"
      ],
      "text/plain": [
       "      userid  score       city gender   age  equity    balance  products  \\\n",
       "3274  155765 863.00  Ярославль      М 30.00       5 1036114.50         5   \n",
       "5197  155765 923.00    Рыбинск      М 30.00       0        NaN         1   \n",
       "8205  227795 840.00    Рыбинск      М 34.00       2  350768.03         1   \n",
       "8497  227795 839.00  Ярославль      М 34.00       2  326593.14         2   \n",
       "\n",
       "      credit_card  last_activity  est_salary  churn  \n",
       "3274            1              1   150744.50      1  \n",
       "5197            1              1   120296.60      0  \n",
       "8205            1              0   102036.14      1  \n",
       "8497            1              0   103314.92      0  "
      ]
     },
     "execution_count": 12,
     "metadata": {},
     "output_type": "execute_result"
    }
   ],
   "source": [
    "duplicated_userid_age_gender = data[data.duplicated(subset=['userid', 'age', 'gender'], keep=False)]\n",
    "duplicated_userid_age_gender.sort_values(by='userid')"
   ]
  },
  {
   "cell_type": "code",
   "execution_count": 13,
   "metadata": {},
   "outputs": [
    {
     "data": {
      "text/html": [
       "<div>\n",
       "<style scoped>\n",
       "    .dataframe tbody tr th:only-of-type {\n",
       "        vertical-align: middle;\n",
       "    }\n",
       "\n",
       "    .dataframe tbody tr th {\n",
       "        vertical-align: top;\n",
       "    }\n",
       "\n",
       "    .dataframe thead th {\n",
       "        text-align: right;\n",
       "    }\n",
       "</style>\n",
       "<table border=\"1\" class=\"dataframe\">\n",
       "  <thead>\n",
       "    <tr style=\"text-align: right;\">\n",
       "      <th></th>\n",
       "      <th>userid</th>\n",
       "      <th>score</th>\n",
       "      <th>city</th>\n",
       "      <th>gender</th>\n",
       "      <th>age</th>\n",
       "      <th>equity</th>\n",
       "      <th>balance</th>\n",
       "      <th>products</th>\n",
       "      <th>credit_card</th>\n",
       "      <th>last_activity</th>\n",
       "      <th>est_salary</th>\n",
       "      <th>churn</th>\n",
       "    </tr>\n",
       "  </thead>\n",
       "  <tbody>\n",
       "    <tr>\n",
       "      <th>7694</th>\n",
       "      <td>116540</td>\n",
       "      <td>887.00</td>\n",
       "      <td>Ярославль</td>\n",
       "      <td>Ж</td>\n",
       "      <td>38.00</td>\n",
       "      <td>0</td>\n",
       "      <td>NaN</td>\n",
       "      <td>1</td>\n",
       "      <td>0</td>\n",
       "      <td>1</td>\n",
       "      <td>119247.61</td>\n",
       "      <td>0</td>\n",
       "    </tr>\n",
       "    <tr>\n",
       "      <th>1893</th>\n",
       "      <td>116540</td>\n",
       "      <td>883.00</td>\n",
       "      <td>Рыбинск</td>\n",
       "      <td>Ж</td>\n",
       "      <td>55.00</td>\n",
       "      <td>1</td>\n",
       "      <td>362756.49</td>\n",
       "      <td>3</td>\n",
       "      <td>0</td>\n",
       "      <td>1</td>\n",
       "      <td>175920.48</td>\n",
       "      <td>1</td>\n",
       "    </tr>\n",
       "    <tr>\n",
       "      <th>7542</th>\n",
       "      <td>117943</td>\n",
       "      <td>880.00</td>\n",
       "      <td>Ярославль</td>\n",
       "      <td>Ж</td>\n",
       "      <td>40.00</td>\n",
       "      <td>0</td>\n",
       "      <td>NaN</td>\n",
       "      <td>1</td>\n",
       "      <td>1</td>\n",
       "      <td>0</td>\n",
       "      <td>137718.93</td>\n",
       "      <td>0</td>\n",
       "    </tr>\n",
       "    <tr>\n",
       "      <th>4866</th>\n",
       "      <td>117943</td>\n",
       "      <td>855.00</td>\n",
       "      <td>Рыбинск</td>\n",
       "      <td>Ж</td>\n",
       "      <td>32.00</td>\n",
       "      <td>6</td>\n",
       "      <td>1036832.93</td>\n",
       "      <td>4</td>\n",
       "      <td>1</td>\n",
       "      <td>1</td>\n",
       "      <td>107792.71</td>\n",
       "      <td>1</td>\n",
       "    </tr>\n",
       "    <tr>\n",
       "      <th>9775</th>\n",
       "      <td>124450</td>\n",
       "      <td>758.00</td>\n",
       "      <td>Рыбинск</td>\n",
       "      <td>Ж</td>\n",
       "      <td>36.00</td>\n",
       "      <td>0</td>\n",
       "      <td>73574.07</td>\n",
       "      <td>2</td>\n",
       "      <td>0</td>\n",
       "      <td>1</td>\n",
       "      <td>79963.59</td>\n",
       "      <td>0</td>\n",
       "    </tr>\n",
       "    <tr>\n",
       "      <th>...</th>\n",
       "      <td>...</td>\n",
       "      <td>...</td>\n",
       "      <td>...</td>\n",
       "      <td>...</td>\n",
       "      <td>...</td>\n",
       "      <td>...</td>\n",
       "      <td>...</td>\n",
       "      <td>...</td>\n",
       "      <td>...</td>\n",
       "      <td>...</td>\n",
       "      <td>...</td>\n",
       "      <td>...</td>\n",
       "    </tr>\n",
       "    <tr>\n",
       "      <th>6412</th>\n",
       "      <td>226550</td>\n",
       "      <td>939.00</td>\n",
       "      <td>Ярославль</td>\n",
       "      <td>М</td>\n",
       "      <td>34.00</td>\n",
       "      <td>0</td>\n",
       "      <td>NaN</td>\n",
       "      <td>1</td>\n",
       "      <td>1</td>\n",
       "      <td>1</td>\n",
       "      <td>145913.73</td>\n",
       "      <td>0</td>\n",
       "    </tr>\n",
       "    <tr>\n",
       "      <th>8497</th>\n",
       "      <td>227795</td>\n",
       "      <td>839.00</td>\n",
       "      <td>Ярославль</td>\n",
       "      <td>М</td>\n",
       "      <td>34.00</td>\n",
       "      <td>2</td>\n",
       "      <td>326593.14</td>\n",
       "      <td>2</td>\n",
       "      <td>1</td>\n",
       "      <td>0</td>\n",
       "      <td>103314.92</td>\n",
       "      <td>0</td>\n",
       "    </tr>\n",
       "    <tr>\n",
       "      <th>8205</th>\n",
       "      <td>227795</td>\n",
       "      <td>840.00</td>\n",
       "      <td>Рыбинск</td>\n",
       "      <td>М</td>\n",
       "      <td>34.00</td>\n",
       "      <td>2</td>\n",
       "      <td>350768.03</td>\n",
       "      <td>1</td>\n",
       "      <td>1</td>\n",
       "      <td>0</td>\n",
       "      <td>102036.14</td>\n",
       "      <td>1</td>\n",
       "    </tr>\n",
       "    <tr>\n",
       "      <th>1247</th>\n",
       "      <td>228075</td>\n",
       "      <td>932.00</td>\n",
       "      <td>Ярославль</td>\n",
       "      <td>М</td>\n",
       "      <td>NaN</td>\n",
       "      <td>5</td>\n",
       "      <td>7601719.20</td>\n",
       "      <td>2</td>\n",
       "      <td>1</td>\n",
       "      <td>1</td>\n",
       "      <td>408121.16</td>\n",
       "      <td>0</td>\n",
       "    </tr>\n",
       "    <tr>\n",
       "      <th>6457</th>\n",
       "      <td>228075</td>\n",
       "      <td>839.00</td>\n",
       "      <td>Рыбинск</td>\n",
       "      <td>М</td>\n",
       "      <td>39.00</td>\n",
       "      <td>5</td>\n",
       "      <td>507199.85</td>\n",
       "      <td>3</td>\n",
       "      <td>0</td>\n",
       "      <td>1</td>\n",
       "      <td>85195.80</td>\n",
       "      <td>0</td>\n",
       "    </tr>\n",
       "  </tbody>\n",
       "</table>\n",
       "<p>82 rows × 12 columns</p>\n",
       "</div>"
      ],
      "text/plain": [
       "      userid  score       city gender   age  equity    balance  products  \\\n",
       "7694  116540 887.00  Ярославль      Ж 38.00       0        NaN         1   \n",
       "1893  116540 883.00    Рыбинск      Ж 55.00       1  362756.49         3   \n",
       "7542  117943 880.00  Ярославль      Ж 40.00       0        NaN         1   \n",
       "4866  117943 855.00    Рыбинск      Ж 32.00       6 1036832.93         4   \n",
       "9775  124450 758.00    Рыбинск      Ж 36.00       0   73574.07         2   \n",
       "...      ...    ...        ...    ...   ...     ...        ...       ...   \n",
       "6412  226550 939.00  Ярославль      М 34.00       0        NaN         1   \n",
       "8497  227795 839.00  Ярославль      М 34.00       2  326593.14         2   \n",
       "8205  227795 840.00    Рыбинск      М 34.00       2  350768.03         1   \n",
       "1247  228075 932.00  Ярославль      М   NaN       5 7601719.20         2   \n",
       "6457  228075 839.00    Рыбинск      М 39.00       5  507199.85         3   \n",
       "\n",
       "      credit_card  last_activity  est_salary  churn  \n",
       "7694            0              1   119247.61      0  \n",
       "1893            0              1   175920.48      1  \n",
       "7542            1              0   137718.93      0  \n",
       "4866            1              1   107792.71      1  \n",
       "9775            0              1    79963.59      0  \n",
       "...           ...            ...         ...    ...  \n",
       "6412            1              1   145913.73      0  \n",
       "8497            1              0   103314.92      0  \n",
       "8205            1              0   102036.14      1  \n",
       "1247            1              1   408121.16      0  \n",
       "6457            0              1    85195.80      0  \n",
       "\n",
       "[82 rows x 12 columns]"
      ]
     },
     "execution_count": 13,
     "metadata": {},
     "output_type": "execute_result"
    }
   ],
   "source": [
    "duplicated_userid_gender = data[data.duplicated(subset=['userid', 'gender'], keep=False)]\n",
    "duplicated_userid_gender.sort_values(by='userid')"
   ]
  },
  {
   "cell_type": "code",
   "execution_count": 14,
   "metadata": {},
   "outputs": [
    {
     "data": {
      "text/html": [
       "<div>\n",
       "<style scoped>\n",
       "    .dataframe tbody tr th:only-of-type {\n",
       "        vertical-align: middle;\n",
       "    }\n",
       "\n",
       "    .dataframe tbody tr th {\n",
       "        vertical-align: top;\n",
       "    }\n",
       "\n",
       "    .dataframe thead th {\n",
       "        text-align: right;\n",
       "    }\n",
       "</style>\n",
       "<table border=\"1\" class=\"dataframe\">\n",
       "  <thead>\n",
       "    <tr style=\"text-align: right;\">\n",
       "      <th></th>\n",
       "      <th>userid</th>\n",
       "      <th>score</th>\n",
       "      <th>city</th>\n",
       "      <th>gender</th>\n",
       "      <th>age</th>\n",
       "      <th>equity</th>\n",
       "      <th>balance</th>\n",
       "      <th>products</th>\n",
       "      <th>credit_card</th>\n",
       "      <th>last_activity</th>\n",
       "      <th>est_salary</th>\n",
       "      <th>churn</th>\n",
       "    </tr>\n",
       "  </thead>\n",
       "  <tbody>\n",
       "    <tr>\n",
       "      <th>8785</th>\n",
       "      <td>127440</td>\n",
       "      <td>663.00</td>\n",
       "      <td>Ярославль</td>\n",
       "      <td>М</td>\n",
       "      <td>NaN</td>\n",
       "      <td>0</td>\n",
       "      <td>NaN</td>\n",
       "      <td>1</td>\n",
       "      <td>1</td>\n",
       "      <td>1</td>\n",
       "      <td>117197.56</td>\n",
       "      <td>0</td>\n",
       "    </tr>\n",
       "    <tr>\n",
       "      <th>9457</th>\n",
       "      <td>141945</td>\n",
       "      <td>929.00</td>\n",
       "      <td>Ярославль</td>\n",
       "      <td>М</td>\n",
       "      <td>NaN</td>\n",
       "      <td>0</td>\n",
       "      <td>NaN</td>\n",
       "      <td>1</td>\n",
       "      <td>1</td>\n",
       "      <td>0</td>\n",
       "      <td>381868.89</td>\n",
       "      <td>0</td>\n",
       "    </tr>\n",
       "    <tr>\n",
       "      <th>5495</th>\n",
       "      <td>151662</td>\n",
       "      <td>884.00</td>\n",
       "      <td>Рыбинск</td>\n",
       "      <td>Ж</td>\n",
       "      <td>NaN</td>\n",
       "      <td>0</td>\n",
       "      <td>NaN</td>\n",
       "      <td>1</td>\n",
       "      <td>1</td>\n",
       "      <td>1</td>\n",
       "      <td>137500.77</td>\n",
       "      <td>0</td>\n",
       "    </tr>\n",
       "    <tr>\n",
       "      <th>9632</th>\n",
       "      <td>185829</td>\n",
       "      <td>927.00</td>\n",
       "      <td>Ярославль</td>\n",
       "      <td>М</td>\n",
       "      <td>NaN</td>\n",
       "      <td>0</td>\n",
       "      <td>NaN</td>\n",
       "      <td>1</td>\n",
       "      <td>1</td>\n",
       "      <td>0</td>\n",
       "      <td>231254.86</td>\n",
       "      <td>0</td>\n",
       "    </tr>\n",
       "    <tr>\n",
       "      <th>9380</th>\n",
       "      <td>187459</td>\n",
       "      <td>894.00</td>\n",
       "      <td>Рыбинск</td>\n",
       "      <td>М</td>\n",
       "      <td>NaN</td>\n",
       "      <td>0</td>\n",
       "      <td>NaN</td>\n",
       "      <td>1</td>\n",
       "      <td>1</td>\n",
       "      <td>0</td>\n",
       "      <td>178012.28</td>\n",
       "      <td>0</td>\n",
       "    </tr>\n",
       "    <tr>\n",
       "      <th>2165</th>\n",
       "      <td>187635</td>\n",
       "      <td>692.00</td>\n",
       "      <td>Рыбинск</td>\n",
       "      <td>Ж</td>\n",
       "      <td>NaN</td>\n",
       "      <td>0</td>\n",
       "      <td>NaN</td>\n",
       "      <td>1</td>\n",
       "      <td>1</td>\n",
       "      <td>1</td>\n",
       "      <td>160368.82</td>\n",
       "      <td>0</td>\n",
       "    </tr>\n",
       "    <tr>\n",
       "      <th>8015</th>\n",
       "      <td>198635</td>\n",
       "      <td>670.00</td>\n",
       "      <td>Ярославль</td>\n",
       "      <td>Ж</td>\n",
       "      <td>NaN</td>\n",
       "      <td>0</td>\n",
       "      <td>NaN</td>\n",
       "      <td>1</td>\n",
       "      <td>1</td>\n",
       "      <td>1</td>\n",
       "      <td>168699.33</td>\n",
       "      <td>0</td>\n",
       "    </tr>\n",
       "    <tr>\n",
       "      <th>9301</th>\n",
       "      <td>202983</td>\n",
       "      <td>942.00</td>\n",
       "      <td>Рыбинск</td>\n",
       "      <td>Ж</td>\n",
       "      <td>NaN</td>\n",
       "      <td>0</td>\n",
       "      <td>NaN</td>\n",
       "      <td>1</td>\n",
       "      <td>1</td>\n",
       "      <td>1</td>\n",
       "      <td>163804.73</td>\n",
       "      <td>0</td>\n",
       "    </tr>\n",
       "    <tr>\n",
       "      <th>8385</th>\n",
       "      <td>206759</td>\n",
       "      <td>915.00</td>\n",
       "      <td>Рыбинск</td>\n",
       "      <td>М</td>\n",
       "      <td>NaN</td>\n",
       "      <td>0</td>\n",
       "      <td>NaN</td>\n",
       "      <td>1</td>\n",
       "      <td>1</td>\n",
       "      <td>0</td>\n",
       "      <td>71179.53</td>\n",
       "      <td>0</td>\n",
       "    </tr>\n",
       "    <tr>\n",
       "      <th>8449</th>\n",
       "      <td>210898</td>\n",
       "      <td>805.00</td>\n",
       "      <td>Ярославль</td>\n",
       "      <td>Ж</td>\n",
       "      <td>NaN</td>\n",
       "      <td>0</td>\n",
       "      <td>NaN</td>\n",
       "      <td>1</td>\n",
       "      <td>0</td>\n",
       "      <td>1</td>\n",
       "      <td>922080.25</td>\n",
       "      <td>0</td>\n",
       "    </tr>\n",
       "    <tr>\n",
       "      <th>8293</th>\n",
       "      <td>216848</td>\n",
       "      <td>930.00</td>\n",
       "      <td>Ярославль</td>\n",
       "      <td>М</td>\n",
       "      <td>NaN</td>\n",
       "      <td>0</td>\n",
       "      <td>NaN</td>\n",
       "      <td>1</td>\n",
       "      <td>1</td>\n",
       "      <td>1</td>\n",
       "      <td>199542.51</td>\n",
       "      <td>0</td>\n",
       "    </tr>\n",
       "    <tr>\n",
       "      <th>7248</th>\n",
       "      <td>219343</td>\n",
       "      <td>920.00</td>\n",
       "      <td>Рыбинск</td>\n",
       "      <td>Ж</td>\n",
       "      <td>NaN</td>\n",
       "      <td>0</td>\n",
       "      <td>NaN</td>\n",
       "      <td>1</td>\n",
       "      <td>1</td>\n",
       "      <td>0</td>\n",
       "      <td>159248.67</td>\n",
       "      <td>0</td>\n",
       "    </tr>\n",
       "    <tr>\n",
       "      <th>2444</th>\n",
       "      <td>221156</td>\n",
       "      <td>913.00</td>\n",
       "      <td>Ярославль</td>\n",
       "      <td>М</td>\n",
       "      <td>NaN</td>\n",
       "      <td>0</td>\n",
       "      <td>NaN</td>\n",
       "      <td>1</td>\n",
       "      <td>1</td>\n",
       "      <td>1</td>\n",
       "      <td>135693.24</td>\n",
       "      <td>0</td>\n",
       "    </tr>\n",
       "    <tr>\n",
       "      <th>8632</th>\n",
       "      <td>221197</td>\n",
       "      <td>893.00</td>\n",
       "      <td>Ярославль</td>\n",
       "      <td>М</td>\n",
       "      <td>NaN</td>\n",
       "      <td>0</td>\n",
       "      <td>NaN</td>\n",
       "      <td>1</td>\n",
       "      <td>1</td>\n",
       "      <td>0</td>\n",
       "      <td>173929.92</td>\n",
       "      <td>0</td>\n",
       "    </tr>\n",
       "    <tr>\n",
       "      <th>9634</th>\n",
       "      <td>221809</td>\n",
       "      <td>917.00</td>\n",
       "      <td>Ярославль</td>\n",
       "      <td>М</td>\n",
       "      <td>NaN</td>\n",
       "      <td>0</td>\n",
       "      <td>NaN</td>\n",
       "      <td>1</td>\n",
       "      <td>1</td>\n",
       "      <td>1</td>\n",
       "      <td>192644.15</td>\n",
       "      <td>0</td>\n",
       "    </tr>\n",
       "    <tr>\n",
       "      <th>8070</th>\n",
       "      <td>226550</td>\n",
       "      <td>940.00</td>\n",
       "      <td>Рыбинск</td>\n",
       "      <td>М</td>\n",
       "      <td>NaN</td>\n",
       "      <td>0</td>\n",
       "      <td>NaN</td>\n",
       "      <td>1</td>\n",
       "      <td>0</td>\n",
       "      <td>1</td>\n",
       "      <td>147696.95</td>\n",
       "      <td>0</td>\n",
       "    </tr>\n",
       "  </tbody>\n",
       "</table>\n",
       "</div>"
      ],
      "text/plain": [
       "      userid  score       city gender  age  equity  balance  products  \\\n",
       "8785  127440 663.00  Ярославль      М  NaN       0      NaN         1   \n",
       "9457  141945 929.00  Ярославль      М  NaN       0      NaN         1   \n",
       "5495  151662 884.00    Рыбинск      Ж  NaN       0      NaN         1   \n",
       "9632  185829 927.00  Ярославль      М  NaN       0      NaN         1   \n",
       "9380  187459 894.00    Рыбинск      М  NaN       0      NaN         1   \n",
       "2165  187635 692.00    Рыбинск      Ж  NaN       0      NaN         1   \n",
       "8015  198635 670.00  Ярославль      Ж  NaN       0      NaN         1   \n",
       "9301  202983 942.00    Рыбинск      Ж  NaN       0      NaN         1   \n",
       "8385  206759 915.00    Рыбинск      М  NaN       0      NaN         1   \n",
       "8449  210898 805.00  Ярославль      Ж  NaN       0      NaN         1   \n",
       "8293  216848 930.00  Ярославль      М  NaN       0      NaN         1   \n",
       "7248  219343 920.00    Рыбинск      Ж  NaN       0      NaN         1   \n",
       "2444  221156 913.00  Ярославль      М  NaN       0      NaN         1   \n",
       "8632  221197 893.00  Ярославль      М  NaN       0      NaN         1   \n",
       "9634  221809 917.00  Ярославль      М  NaN       0      NaN         1   \n",
       "8070  226550 940.00    Рыбинск      М  NaN       0      NaN         1   \n",
       "\n",
       "      credit_card  last_activity  est_salary  churn  \n",
       "8785            1              1   117197.56      0  \n",
       "9457            1              0   381868.89      0  \n",
       "5495            1              1   137500.77      0  \n",
       "9632            1              0   231254.86      0  \n",
       "9380            1              0   178012.28      0  \n",
       "2165            1              1   160368.82      0  \n",
       "8015            1              1   168699.33      0  \n",
       "9301            1              1   163804.73      0  \n",
       "8385            1              0    71179.53      0  \n",
       "8449            0              1   922080.25      0  \n",
       "8293            1              1   199542.51      0  \n",
       "7248            1              0   159248.67      0  \n",
       "2444            1              1   135693.24      0  \n",
       "8632            1              0   173929.92      0  \n",
       "9634            1              1   192644.15      0  \n",
       "8070            0              1   147696.95      0  "
      ]
     },
     "execution_count": 14,
     "metadata": {},
     "output_type": "execute_result"
    }
   ],
   "source": [
    "# проверяю дубликаты по пропускам\n",
    "duplicated_userid_balance = duplicated_userid[duplicated_userid['balance'].isna()]\n",
    "duplicated_userid_balance_age = duplicated_userid_balance[duplicated_userid_balance['age'].isna()]\n",
    "duplicated_userid_balance_age.sort_values(by='userid')"
   ]
  },
  {
   "cell_type": "markdown",
   "metadata": {},
   "source": [
    "У дубликатов по `userid` с пропусками в столбцах `balance` и `age` есть данные об активности и заработной плате"
   ]
  },
  {
   "cell_type": "code",
   "execution_count": 15,
   "metadata": {},
   "outputs": [
    {
     "data": {
      "text/html": [
       "<div>\n",
       "<style scoped>\n",
       "    .dataframe tbody tr th:only-of-type {\n",
       "        vertical-align: middle;\n",
       "    }\n",
       "\n",
       "    .dataframe tbody tr th {\n",
       "        vertical-align: top;\n",
       "    }\n",
       "\n",
       "    .dataframe thead th {\n",
       "        text-align: right;\n",
       "    }\n",
       "</style>\n",
       "<table border=\"1\" class=\"dataframe\">\n",
       "  <thead>\n",
       "    <tr style=\"text-align: right;\">\n",
       "      <th></th>\n",
       "      <th>userid</th>\n",
       "      <th>score</th>\n",
       "      <th>city</th>\n",
       "      <th>gender</th>\n",
       "      <th>age</th>\n",
       "      <th>equity</th>\n",
       "      <th>balance</th>\n",
       "      <th>products</th>\n",
       "      <th>credit_card</th>\n",
       "      <th>last_activity</th>\n",
       "      <th>est_salary</th>\n",
       "      <th>churn</th>\n",
       "    </tr>\n",
       "  </thead>\n",
       "  <tbody>\n",
       "    <tr>\n",
       "      <th>4343</th>\n",
       "      <td>141945</td>\n",
       "      <td>929.00</td>\n",
       "      <td>Рыбинск</td>\n",
       "      <td>М</td>\n",
       "      <td>33.00</td>\n",
       "      <td>0</td>\n",
       "      <td>NaN</td>\n",
       "      <td>1</td>\n",
       "      <td>1</td>\n",
       "      <td>0</td>\n",
       "      <td>381868.89</td>\n",
       "      <td>0</td>\n",
       "    </tr>\n",
       "    <tr>\n",
       "      <th>9457</th>\n",
       "      <td>141945</td>\n",
       "      <td>929.00</td>\n",
       "      <td>Ярославль</td>\n",
       "      <td>М</td>\n",
       "      <td>NaN</td>\n",
       "      <td>0</td>\n",
       "      <td>NaN</td>\n",
       "      <td>1</td>\n",
       "      <td>1</td>\n",
       "      <td>0</td>\n",
       "      <td>381868.89</td>\n",
       "      <td>0</td>\n",
       "    </tr>\n",
       "  </tbody>\n",
       "</table>\n",
       "</div>"
      ],
      "text/plain": [
       "      userid  score       city gender   age  equity  balance  products  \\\n",
       "4343  141945 929.00    Рыбинск      М 33.00       0      NaN         1   \n",
       "9457  141945 929.00  Ярославль      М   NaN       0      NaN         1   \n",
       "\n",
       "      credit_card  last_activity  est_salary  churn  \n",
       "4343            1              0   381868.89      0  \n",
       "9457            1              0   381868.89      0  "
      ]
     },
     "execution_count": 15,
     "metadata": {},
     "output_type": "execute_result"
    }
   ],
   "source": [
    "# проверяю дубликаты по userid и est_salary\n",
    "duplicated_userid_salary = data[data.duplicated(subset=['userid', 'est_salary'], keep=False)]\n",
    "duplicated_userid_salary.sort_values(by='userid')"
   ]
  },
  {
   "cell_type": "code",
   "execution_count": 16,
   "metadata": {},
   "outputs": [
    {
     "data": {
      "text/html": [
       "<div>\n",
       "<style scoped>\n",
       "    .dataframe tbody tr th:only-of-type {\n",
       "        vertical-align: middle;\n",
       "    }\n",
       "\n",
       "    .dataframe tbody tr th {\n",
       "        vertical-align: top;\n",
       "    }\n",
       "\n",
       "    .dataframe thead th {\n",
       "        text-align: right;\n",
       "    }\n",
       "</style>\n",
       "<table border=\"1\" class=\"dataframe\">\n",
       "  <thead>\n",
       "    <tr style=\"text-align: right;\">\n",
       "      <th></th>\n",
       "      <th>userid</th>\n",
       "      <th>score</th>\n",
       "      <th>city</th>\n",
       "      <th>gender</th>\n",
       "      <th>age</th>\n",
       "      <th>equity</th>\n",
       "      <th>balance</th>\n",
       "      <th>products</th>\n",
       "      <th>credit_card</th>\n",
       "      <th>last_activity</th>\n",
       "      <th>est_salary</th>\n",
       "      <th>churn</th>\n",
       "    </tr>\n",
       "  </thead>\n",
       "  <tbody>\n",
       "    <tr>\n",
       "      <th>4343</th>\n",
       "      <td>141945</td>\n",
       "      <td>929.00</td>\n",
       "      <td>Рыбинск</td>\n",
       "      <td>М</td>\n",
       "      <td>33.00</td>\n",
       "      <td>0</td>\n",
       "      <td>NaN</td>\n",
       "      <td>1</td>\n",
       "      <td>1</td>\n",
       "      <td>0</td>\n",
       "      <td>381868.89</td>\n",
       "      <td>0</td>\n",
       "    </tr>\n",
       "    <tr>\n",
       "      <th>9457</th>\n",
       "      <td>141945</td>\n",
       "      <td>929.00</td>\n",
       "      <td>Ярославль</td>\n",
       "      <td>М</td>\n",
       "      <td>NaN</td>\n",
       "      <td>0</td>\n",
       "      <td>NaN</td>\n",
       "      <td>1</td>\n",
       "      <td>1</td>\n",
       "      <td>0</td>\n",
       "      <td>381868.89</td>\n",
       "      <td>0</td>\n",
       "    </tr>\n",
       "    <tr>\n",
       "      <th>9322</th>\n",
       "      <td>221809</td>\n",
       "      <td>917.00</td>\n",
       "      <td>Рыбинск</td>\n",
       "      <td>М</td>\n",
       "      <td>45.00</td>\n",
       "      <td>0</td>\n",
       "      <td>NaN</td>\n",
       "      <td>1</td>\n",
       "      <td>1</td>\n",
       "      <td>1</td>\n",
       "      <td>199728.29</td>\n",
       "      <td>0</td>\n",
       "    </tr>\n",
       "    <tr>\n",
       "      <th>9634</th>\n",
       "      <td>221809</td>\n",
       "      <td>917.00</td>\n",
       "      <td>Ярославль</td>\n",
       "      <td>М</td>\n",
       "      <td>NaN</td>\n",
       "      <td>0</td>\n",
       "      <td>NaN</td>\n",
       "      <td>1</td>\n",
       "      <td>1</td>\n",
       "      <td>1</td>\n",
       "      <td>192644.15</td>\n",
       "      <td>0</td>\n",
       "    </tr>\n",
       "    <tr>\n",
       "      <th>6446</th>\n",
       "      <td>222480</td>\n",
       "      <td>776.00</td>\n",
       "      <td>Ярославль</td>\n",
       "      <td>Ж</td>\n",
       "      <td>38.00</td>\n",
       "      <td>5</td>\n",
       "      <td>823145.83</td>\n",
       "      <td>2</td>\n",
       "      <td>1</td>\n",
       "      <td>1</td>\n",
       "      <td>55777.44</td>\n",
       "      <td>0</td>\n",
       "    </tr>\n",
       "    <tr>\n",
       "      <th>9104</th>\n",
       "      <td>222480</td>\n",
       "      <td>776.00</td>\n",
       "      <td>Рыбинск</td>\n",
       "      <td>Ж</td>\n",
       "      <td>NaN</td>\n",
       "      <td>5</td>\n",
       "      <td>796735.09</td>\n",
       "      <td>1</td>\n",
       "      <td>1</td>\n",
       "      <td>1</td>\n",
       "      <td>55073.63</td>\n",
       "      <td>0</td>\n",
       "    </tr>\n",
       "  </tbody>\n",
       "</table>\n",
       "</div>"
      ],
      "text/plain": [
       "      userid  score       city gender   age  equity   balance  products  \\\n",
       "4343  141945 929.00    Рыбинск      М 33.00       0       NaN         1   \n",
       "9457  141945 929.00  Ярославль      М   NaN       0       NaN         1   \n",
       "9322  221809 917.00    Рыбинск      М 45.00       0       NaN         1   \n",
       "9634  221809 917.00  Ярославль      М   NaN       0       NaN         1   \n",
       "6446  222480 776.00  Ярославль      Ж 38.00       5 823145.83         2   \n",
       "9104  222480 776.00    Рыбинск      Ж   NaN       5 796735.09         1   \n",
       "\n",
       "      credit_card  last_activity  est_salary  churn  \n",
       "4343            1              0   381868.89      0  \n",
       "9457            1              0   381868.89      0  \n",
       "9322            1              1   199728.29      0  \n",
       "9634            1              1   192644.15      0  \n",
       "6446            1              1    55777.44      0  \n",
       "9104            1              1    55073.63      0  "
      ]
     },
     "execution_count": 16,
     "metadata": {},
     "output_type": "execute_result"
    }
   ],
   "source": [
    "# проверяю дубликаты по userid и score\n",
    "duplicated_userid_score = data[data.duplicated(subset=['userid', 'score'], keep=False)]\n",
    "duplicated_userid_score.sort_values(by='userid')"
   ]
  },
  {
   "cell_type": "code",
   "execution_count": 17,
   "metadata": {},
   "outputs": [
    {
     "name": "stdout",
     "output_type": "stream",
     "text": [
      "<class 'pandas.core.frame.DataFrame'>\n",
      "Int64Index: 9996 entries, 0 to 9999\n",
      "Data columns (total 12 columns):\n",
      " #   Column         Non-Null Count  Dtype  \n",
      "---  ------         --------------  -----  \n",
      " 0   userid         9996 non-null   int64  \n",
      " 1   score          9996 non-null   float64\n",
      " 2   city           9996 non-null   object \n",
      " 3   gender         9996 non-null   object \n",
      " 4   age            9973 non-null   float64\n",
      " 5   equity         9996 non-null   int64  \n",
      " 6   balance        7704 non-null   float64\n",
      " 7   products       9996 non-null   int64  \n",
      " 8   credit_card    9996 non-null   int64  \n",
      " 9   last_activity  9996 non-null   int64  \n",
      " 10  est_salary     9996 non-null   float64\n",
      " 11  churn          9996 non-null   int64  \n",
      "dtypes: float64(4), int64(6), object(2)\n",
      "memory usage: 1015.2+ KB\n"
     ]
    }
   ],
   "source": [
    "data_clean = data[data.duplicated(subset=['userid', 'score'])]\n",
    "data = data.drop(data_clean.index)\n",
    "data.info()"
   ]
  },
  {
   "cell_type": "markdown",
   "metadata": {},
   "source": [
    "### Проверка на пропуски"
   ]
  },
  {
   "cell_type": "code",
   "execution_count": 18,
   "metadata": {},
   "outputs": [
    {
     "data": {
      "text/html": [
       "<div>\n",
       "<style scoped>\n",
       "    .dataframe tbody tr th:only-of-type {\n",
       "        vertical-align: middle;\n",
       "    }\n",
       "\n",
       "    .dataframe tbody tr th {\n",
       "        vertical-align: top;\n",
       "    }\n",
       "\n",
       "    .dataframe thead th {\n",
       "        text-align: right;\n",
       "    }\n",
       "</style>\n",
       "<table border=\"1\" class=\"dataframe\">\n",
       "  <thead>\n",
       "    <tr style=\"text-align: right;\">\n",
       "      <th></th>\n",
       "      <th>userid</th>\n",
       "      <th>score</th>\n",
       "      <th>city</th>\n",
       "      <th>gender</th>\n",
       "      <th>age</th>\n",
       "      <th>equity</th>\n",
       "      <th>balance</th>\n",
       "      <th>products</th>\n",
       "      <th>credit_card</th>\n",
       "      <th>last_activity</th>\n",
       "      <th>est_salary</th>\n",
       "      <th>churn</th>\n",
       "      <th>age_missing</th>\n",
       "      <th>balance_missing</th>\n",
       "    </tr>\n",
       "  </thead>\n",
       "  <tbody>\n",
       "    <tr>\n",
       "      <th>0</th>\n",
       "      <td>183012</td>\n",
       "      <td>850.00</td>\n",
       "      <td>Рыбинск</td>\n",
       "      <td>Ж</td>\n",
       "      <td>25.00</td>\n",
       "      <td>1</td>\n",
       "      <td>59214.82</td>\n",
       "      <td>2</td>\n",
       "      <td>0</td>\n",
       "      <td>1</td>\n",
       "      <td>75719.14</td>\n",
       "      <td>1</td>\n",
       "      <td>0</td>\n",
       "      <td>0</td>\n",
       "    </tr>\n",
       "    <tr>\n",
       "      <th>1</th>\n",
       "      <td>146556</td>\n",
       "      <td>861.00</td>\n",
       "      <td>Рыбинск</td>\n",
       "      <td>Ж</td>\n",
       "      <td>37.00</td>\n",
       "      <td>5</td>\n",
       "      <td>850594.33</td>\n",
       "      <td>3</td>\n",
       "      <td>1</td>\n",
       "      <td>0</td>\n",
       "      <td>86621.77</td>\n",
       "      <td>0</td>\n",
       "      <td>0</td>\n",
       "      <td>0</td>\n",
       "    </tr>\n",
       "    <tr>\n",
       "      <th>2</th>\n",
       "      <td>120722</td>\n",
       "      <td>892.00</td>\n",
       "      <td>Рыбинск</td>\n",
       "      <td>Ж</td>\n",
       "      <td>30.00</td>\n",
       "      <td>0</td>\n",
       "      <td>NaN</td>\n",
       "      <td>1</td>\n",
       "      <td>1</td>\n",
       "      <td>1</td>\n",
       "      <td>107683.34</td>\n",
       "      <td>0</td>\n",
       "      <td>0</td>\n",
       "      <td>1</td>\n",
       "    </tr>\n",
       "    <tr>\n",
       "      <th>3</th>\n",
       "      <td>225363</td>\n",
       "      <td>866.00</td>\n",
       "      <td>Ярославль</td>\n",
       "      <td>Ж</td>\n",
       "      <td>51.00</td>\n",
       "      <td>5</td>\n",
       "      <td>1524746.26</td>\n",
       "      <td>2</td>\n",
       "      <td>0</td>\n",
       "      <td>1</td>\n",
       "      <td>174423.53</td>\n",
       "      <td>1</td>\n",
       "      <td>0</td>\n",
       "      <td>0</td>\n",
       "    </tr>\n",
       "    <tr>\n",
       "      <th>4</th>\n",
       "      <td>157978</td>\n",
       "      <td>730.00</td>\n",
       "      <td>Ярославль</td>\n",
       "      <td>М</td>\n",
       "      <td>34.00</td>\n",
       "      <td>5</td>\n",
       "      <td>174.00</td>\n",
       "      <td>1</td>\n",
       "      <td>1</td>\n",
       "      <td>0</td>\n",
       "      <td>67353.16</td>\n",
       "      <td>1</td>\n",
       "      <td>0</td>\n",
       "      <td>0</td>\n",
       "    </tr>\n",
       "    <tr>\n",
       "      <th>...</th>\n",
       "      <td>...</td>\n",
       "      <td>...</td>\n",
       "      <td>...</td>\n",
       "      <td>...</td>\n",
       "      <td>...</td>\n",
       "      <td>...</td>\n",
       "      <td>...</td>\n",
       "      <td>...</td>\n",
       "      <td>...</td>\n",
       "      <td>...</td>\n",
       "      <td>...</td>\n",
       "      <td>...</td>\n",
       "      <td>...</td>\n",
       "      <td>...</td>\n",
       "    </tr>\n",
       "    <tr>\n",
       "      <th>9995</th>\n",
       "      <td>120553</td>\n",
       "      <td>814.00</td>\n",
       "      <td>Рыбинск</td>\n",
       "      <td>М</td>\n",
       "      <td>27.00</td>\n",
       "      <td>1</td>\n",
       "      <td>78144.65</td>\n",
       "      <td>1</td>\n",
       "      <td>0</td>\n",
       "      <td>1</td>\n",
       "      <td>18943.64</td>\n",
       "      <td>0</td>\n",
       "      <td>0</td>\n",
       "      <td>0</td>\n",
       "    </tr>\n",
       "    <tr>\n",
       "      <th>9996</th>\n",
       "      <td>139170</td>\n",
       "      <td>894.00</td>\n",
       "      <td>Ярославль</td>\n",
       "      <td>М</td>\n",
       "      <td>46.00</td>\n",
       "      <td>0</td>\n",
       "      <td>NaN</td>\n",
       "      <td>1</td>\n",
       "      <td>1</td>\n",
       "      <td>0</td>\n",
       "      <td>196898.29</td>\n",
       "      <td>0</td>\n",
       "      <td>0</td>\n",
       "      <td>1</td>\n",
       "    </tr>\n",
       "    <tr>\n",
       "      <th>9997</th>\n",
       "      <td>115639</td>\n",
       "      <td>903.00</td>\n",
       "      <td>Ярославль</td>\n",
       "      <td>М</td>\n",
       "      <td>24.00</td>\n",
       "      <td>0</td>\n",
       "      <td>NaN</td>\n",
       "      <td>2</td>\n",
       "      <td>1</td>\n",
       "      <td>1</td>\n",
       "      <td>108905.09</td>\n",
       "      <td>0</td>\n",
       "      <td>0</td>\n",
       "      <td>1</td>\n",
       "    </tr>\n",
       "    <tr>\n",
       "      <th>9998</th>\n",
       "      <td>148700</td>\n",
       "      <td>777.00</td>\n",
       "      <td>Ярославль</td>\n",
       "      <td>Ж</td>\n",
       "      <td>68.00</td>\n",
       "      <td>3</td>\n",
       "      <td>865457.97</td>\n",
       "      <td>3</td>\n",
       "      <td>0</td>\n",
       "      <td>1</td>\n",
       "      <td>86874.90</td>\n",
       "      <td>0</td>\n",
       "      <td>0</td>\n",
       "      <td>0</td>\n",
       "    </tr>\n",
       "    <tr>\n",
       "      <th>9999</th>\n",
       "      <td>96267</td>\n",
       "      <td>828.00</td>\n",
       "      <td>Рыбинск</td>\n",
       "      <td>Ж</td>\n",
       "      <td>58.00</td>\n",
       "      <td>3</td>\n",
       "      <td>1180886.70</td>\n",
       "      <td>4</td>\n",
       "      <td>0</td>\n",
       "      <td>1</td>\n",
       "      <td>21422.37</td>\n",
       "      <td>0</td>\n",
       "      <td>0</td>\n",
       "      <td>0</td>\n",
       "    </tr>\n",
       "  </tbody>\n",
       "</table>\n",
       "<p>9996 rows × 14 columns</p>\n",
       "</div>"
      ],
      "text/plain": [
       "      userid  score       city gender   age  equity    balance  products  \\\n",
       "0     183012 850.00    Рыбинск      Ж 25.00       1   59214.82         2   \n",
       "1     146556 861.00    Рыбинск      Ж 37.00       5  850594.33         3   \n",
       "2     120722 892.00    Рыбинск      Ж 30.00       0        NaN         1   \n",
       "3     225363 866.00  Ярославль      Ж 51.00       5 1524746.26         2   \n",
       "4     157978 730.00  Ярославль      М 34.00       5     174.00         1   \n",
       "...      ...    ...        ...    ...   ...     ...        ...       ...   \n",
       "9995  120553 814.00    Рыбинск      М 27.00       1   78144.65         1   \n",
       "9996  139170 894.00  Ярославль      М 46.00       0        NaN         1   \n",
       "9997  115639 903.00  Ярославль      М 24.00       0        NaN         2   \n",
       "9998  148700 777.00  Ярославль      Ж 68.00       3  865457.97         3   \n",
       "9999   96267 828.00    Рыбинск      Ж 58.00       3 1180886.70         4   \n",
       "\n",
       "      credit_card  last_activity  est_salary  churn  age_missing  \\\n",
       "0               0              1    75719.14      1            0   \n",
       "1               1              0    86621.77      0            0   \n",
       "2               1              1   107683.34      0            0   \n",
       "3               0              1   174423.53      1            0   \n",
       "4               1              0    67353.16      1            0   \n",
       "...           ...            ...         ...    ...          ...   \n",
       "9995            0              1    18943.64      0            0   \n",
       "9996            1              0   196898.29      0            0   \n",
       "9997            1              1   108905.09      0            0   \n",
       "9998            0              1    86874.90      0            0   \n",
       "9999            0              1    21422.37      0            0   \n",
       "\n",
       "      balance_missing  \n",
       "0                   0  \n",
       "1                   0  \n",
       "2                   1  \n",
       "3                   0  \n",
       "4                   0  \n",
       "...               ...  \n",
       "9995                0  \n",
       "9996                1  \n",
       "9997                1  \n",
       "9998                0  \n",
       "9999                0  \n",
       "\n",
       "[9996 rows x 14 columns]"
      ]
     },
     "execution_count": 18,
     "metadata": {},
     "output_type": "execute_result"
    }
   ],
   "source": [
    "# создаю столбцы с индикатором, есть пропуск или нет в столбцах age и balance\n",
    "data['age_missing'] = data['age'].isna().astype(int)\n",
    "data['balance_missing'] = data['balance'].isna().astype(int)\n",
    "data"
   ]
  },
  {
   "cell_type": "code",
   "execution_count": 19,
   "metadata": {},
   "outputs": [],
   "source": [
    "data_age = data.groupby('age_missing').agg({\n",
    "    'est_salary': ['mean'],\n",
    "    'age': ['mean'],\n",
    "    'products': ['median'],\n",
    "    'equity': ['median'],\n",
    "    'city': lambda x: x.mode(),\n",
    "    'gender': lambda x: x.mode()\n",
    "}).reset_index()"
   ]
  },
  {
   "cell_type": "code",
   "execution_count": 20,
   "metadata": {},
   "outputs": [
    {
     "data": {
      "text/html": [
       "<div>\n",
       "<style scoped>\n",
       "    .dataframe tbody tr th:only-of-type {\n",
       "        vertical-align: middle;\n",
       "    }\n",
       "\n",
       "    .dataframe tbody tr th {\n",
       "        vertical-align: top;\n",
       "    }\n",
       "\n",
       "    .dataframe thead th {\n",
       "        text-align: right;\n",
       "    }\n",
       "</style>\n",
       "<table border=\"1\" class=\"dataframe\">\n",
       "  <thead>\n",
       "    <tr style=\"text-align: right;\">\n",
       "      <th></th>\n",
       "      <th></th>\n",
       "      <th>0</th>\n",
       "      <th>1</th>\n",
       "    </tr>\n",
       "  </thead>\n",
       "  <tbody>\n",
       "    <tr>\n",
       "      <th>age_missing</th>\n",
       "      <th></th>\n",
       "      <td>0</td>\n",
       "      <td>1</td>\n",
       "    </tr>\n",
       "    <tr>\n",
       "      <th>est_salary</th>\n",
       "      <th>mean</th>\n",
       "      <td>147799.12</td>\n",
       "      <td>174505.59</td>\n",
       "    </tr>\n",
       "    <tr>\n",
       "      <th>age</th>\n",
       "      <th>mean</th>\n",
       "      <td>42.73</td>\n",
       "      <td>NaN</td>\n",
       "    </tr>\n",
       "    <tr>\n",
       "      <th>products</th>\n",
       "      <th>median</th>\n",
       "      <td>2</td>\n",
       "      <td>1</td>\n",
       "    </tr>\n",
       "    <tr>\n",
       "      <th>equity</th>\n",
       "      <th>median</th>\n",
       "      <td>3</td>\n",
       "      <td>0</td>\n",
       "    </tr>\n",
       "    <tr>\n",
       "      <th>city</th>\n",
       "      <th>&lt;lambda&gt;</th>\n",
       "      <td>Ярославль</td>\n",
       "      <td>[Рыбинск, Ярославль]</td>\n",
       "    </tr>\n",
       "    <tr>\n",
       "      <th>gender</th>\n",
       "      <th>&lt;lambda&gt;</th>\n",
       "      <td>М</td>\n",
       "      <td>М</td>\n",
       "    </tr>\n",
       "  </tbody>\n",
       "</table>\n",
       "</div>"
      ],
      "text/plain": [
       "                              0                     1\n",
       "age_missing                   0                     1\n",
       "est_salary  mean      147799.12             174505.59\n",
       "age         mean          42.73                   NaN\n",
       "products    median            2                     1\n",
       "equity      median            3                     0\n",
       "city        <lambda>  Ярославль  [Рыбинск, Ярославль]\n",
       "gender      <lambda>          М                     М"
      ]
     },
     "execution_count": 20,
     "metadata": {},
     "output_type": "execute_result"
    }
   ],
   "source": [
    "data_age.T"
   ]
  },
  {
   "cell_type": "code",
   "execution_count": 21,
   "metadata": {},
   "outputs": [
    {
     "data": {
      "text/plain": [
       "userid             0.03\n",
       "score              0.00\n",
       "age                 NaN\n",
       "equity            -0.03\n",
       "balance            0.01\n",
       "products          -0.03\n",
       "credit_card        0.01\n",
       "last_activity      0.02\n",
       "est_salary         0.01\n",
       "churn             -0.02\n",
       "age_missing        1.00\n",
       "balance_missing    0.04\n",
       "Name: age_missing, dtype: float64"
      ]
     },
     "execution_count": 21,
     "metadata": {},
     "output_type": "execute_result"
    }
   ],
   "source": [
    "correlation_matrix = data.corr()\n",
    "correlation_matrix['age_missing']"
   ]
  },
  {
   "cell_type": "markdown",
   "metadata": {},
   "source": [
    "У всех показателей не наблюдается корреляции. \n",
    "\n",
    "Это говорит о том, что пропуски в столбце age относятся к классу `MCAR` (отсутствуют совершенно случайно). "
   ]
  },
  {
   "cell_type": "code",
   "execution_count": 23,
   "metadata": {},
   "outputs": [],
   "source": [
    "data_balance = data.groupby('balance_missing').agg({\n",
    "    'est_salary': ['mean'],\n",
    "    'age': ['mean'],\n",
    "    'products': ['median'],\n",
    "    'equity': ['median'],\n",
    "    'city': lambda x: x.mode(),\n",
    "    'gender': lambda x: x.mode()\n",
    "}).reset_index()"
   ]
  },
  {
   "cell_type": "code",
   "execution_count": 24,
   "metadata": {},
   "outputs": [
    {
     "data": {
      "text/html": [
       "<div>\n",
       "<style scoped>\n",
       "    .dataframe tbody tr th:only-of-type {\n",
       "        vertical-align: middle;\n",
       "    }\n",
       "\n",
       "    .dataframe tbody tr th {\n",
       "        vertical-align: top;\n",
       "    }\n",
       "\n",
       "    .dataframe thead th {\n",
       "        text-align: right;\n",
       "    }\n",
       "</style>\n",
       "<table border=\"1\" class=\"dataframe\">\n",
       "  <thead>\n",
       "    <tr style=\"text-align: right;\">\n",
       "      <th></th>\n",
       "      <th></th>\n",
       "      <th>0</th>\n",
       "      <th>1</th>\n",
       "    </tr>\n",
       "  </thead>\n",
       "  <tbody>\n",
       "    <tr>\n",
       "      <th>balance_missing</th>\n",
       "      <th></th>\n",
       "      <td>0</td>\n",
       "      <td>1</td>\n",
       "    </tr>\n",
       "    <tr>\n",
       "      <th>est_salary</th>\n",
       "      <th>mean</th>\n",
       "      <td>124510.88</td>\n",
       "      <td>226344.83</td>\n",
       "    </tr>\n",
       "    <tr>\n",
       "      <th>age</th>\n",
       "      <th>mean</th>\n",
       "      <td>42.92</td>\n",
       "      <td>42.08</td>\n",
       "    </tr>\n",
       "    <tr>\n",
       "      <th>products</th>\n",
       "      <th>median</th>\n",
       "      <td>2</td>\n",
       "      <td>1</td>\n",
       "    </tr>\n",
       "    <tr>\n",
       "      <th>equity</th>\n",
       "      <th>median</th>\n",
       "      <td>4</td>\n",
       "      <td>0</td>\n",
       "    </tr>\n",
       "    <tr>\n",
       "      <th>city</th>\n",
       "      <th>&lt;lambda&gt;</th>\n",
       "      <td>Ярославль</td>\n",
       "      <td>Ярославль</td>\n",
       "    </tr>\n",
       "    <tr>\n",
       "      <th>gender</th>\n",
       "      <th>&lt;lambda&gt;</th>\n",
       "      <td>Ж</td>\n",
       "      <td>М</td>\n",
       "    </tr>\n",
       "  </tbody>\n",
       "</table>\n",
       "</div>"
      ],
      "text/plain": [
       "                                  0          1\n",
       "balance_missing                   0          1\n",
       "est_salary      mean      124510.88  226344.83\n",
       "age             mean          42.92      42.08\n",
       "products        median            2          1\n",
       "equity          median            4          0\n",
       "city            <lambda>  Ярославль  Ярославль\n",
       "gender          <lambda>          Ж          М"
      ]
     },
     "execution_count": 24,
     "metadata": {},
     "output_type": "execute_result"
    }
   ],
   "source": [
    "data_balance.T"
   ]
  },
  {
   "cell_type": "code",
   "execution_count": 25,
   "metadata": {},
   "outputs": [
    {
     "data": {
      "text/plain": [
       "userid             0.00\n",
       "score              0.14\n",
       "age               -0.03\n",
       "equity            -0.71\n",
       "balance             NaN\n",
       "products          -0.49\n",
       "credit_card        0.16\n",
       "last_activity      0.03\n",
       "est_salary         0.31\n",
       "churn             -0.25\n",
       "age_missing        0.04\n",
       "balance_missing    1.00\n",
       "Name: balance_missing, dtype: float64"
      ]
     },
     "execution_count": 25,
     "metadata": {},
     "output_type": "execute_result"
    }
   ],
   "source": [
    "correlation_matrix['balance_missing']"
   ]
  },
  {
   "cell_type": "markdown",
   "metadata": {},
   "source": [
    "У следующих показателей наблюдается корреляция:\n",
    "- `equity`отрицательная высокая;\n",
    "- `products` отрицательная слабая;\n",
    "- `est_salary` положительная слабая;\n",
    "- `churn` отрицательная очень слабая;\n",
    "- `score` положительная очень слабая;\n",
    "- `credit_card` положительная очень слабая;\n",
    "\n",
    "у показателей `userid`, `age` и `last_activity` корреляция отсутствует. \n",
    "\n",
    "Это говорит о том, что пропуски в столбце `balance` относятся к классу `MNAR` (отсутствуют не случайно).\n",
    "\n",
    "Заполнение пропусков медианным значением, сгруппировав по количеству баллов собственности, приведёт к заметным искажениям."
   ]
  },
  {
   "cell_type": "markdown",
   "metadata": {},
   "source": [
    "## Исследовательский анализ данных"
   ]
  },
  {
   "cell_type": "markdown",
   "metadata": {},
   "source": [
    "### Распределение ухода клиентов от возраста"
   ]
  },
  {
   "cell_type": "code",
   "execution_count": 26,
   "metadata": {},
   "outputs": [
    {
     "data": {
      "text/plain": [
       "68.0"
      ]
     },
     "execution_count": 26,
     "metadata": {},
     "output_type": "execute_result"
    }
   ],
   "source": [
    "age_bins = data['age'].max() - data['age'].min()\n",
    "age_bins"
   ]
  },
  {
   "cell_type": "code",
   "execution_count": 27,
   "metadata": {},
   "outputs": [
    {
     "data": {
      "image/png": "[encoded data removed]",
      "text/plain": [
       "<Figure size 1800x720 with 1 Axes>"
      ]
     },
     "metadata": {
      "needs_background": "light"
     },
     "output_type": "display_data"
    }
   ],
   "source": [
    "plt.figure(figsize=(25, 10))\n",
    "sns.histplot(data=data, x='age', hue='churn', stat='density', common_norm=False, \n",
    "             bins=68, kde=False, palette='coolwarm', alpha=0.6)\n",
    "\n",
    "#plt.xticks(data['age'], rotation=90) \n",
    "plt.title('Распределение возрастов клиентов по признаку оттока')\n",
    "plt.xlabel('Возраст')\n",
    "plt.ylabel('Распределение')\n",
    "plt.show()"
   ]
  },
  {
   "cell_type": "markdown",
   "metadata": {},
   "source": [
    "Интервалы возрастов в которых клиенты чаще уходят:\n",
    "- 25-35 лет;\n",
    "- 37 лет;\n",
    "- 50-60 лет."
   ]
  },
  {
   "cell_type": "markdown",
   "metadata": {},
   "source": [
    "### Распределение ухода клиентов от кредитного рейтинга"
   ]
  },
  {
   "cell_type": "code",
   "execution_count": 28,
   "metadata": {},
   "outputs": [
    {
     "data": {
      "text/plain": [
       "358.0"
      ]
     },
     "execution_count": 28,
     "metadata": {},
     "output_type": "execute_result"
    }
   ],
   "source": [
    "score_bins = data['score'].max() - data['score'].min()\n",
    "score_bins"
   ]
  },
  {
   "cell_type": "code",
   "execution_count": 29,
   "metadata": {},
   "outputs": [
    {
     "data": {
      "image/png": "[encoded data removed]",
      "text/plain": [
       "<Figure size 1800x720 with 1 Axes>"
      ]
     },
     "metadata": {
      "needs_background": "light"
     },
     "output_type": "display_data"
    }
   ],
   "source": [
    "plt.figure(figsize=(25, 10))\n",
    "sns.histplot(data=data, x='score', hue='churn', stat='density', common_norm=False, \n",
    "             bins=36, kde=False, palette='coolwarm', alpha=0.6)\n",
    "\n",
    "plt.title('Распределение кредитного рейтинга клиентов по признаку оттока')\n",
    "plt.xlabel('Кредитный рейтинг')\n",
    "plt.ylabel('Распределение')\n",
    "plt.show()"
   ]
  },
  {
   "cell_type": "markdown",
   "metadata": {},
   "source": [
    "Интервалы кредитного рейтинга в которых клиенты чаще уходят:\n",
    "- 830 - 910 баллов;\n",
    "- 930 - 940 баллов."
   ]
  },
  {
   "cell_type": "markdown",
   "metadata": {},
   "source": [
    "### Распределение ухода клиентов от баланса"
   ]
  },
  {
   "cell_type": "code",
   "execution_count": 30,
   "metadata": {},
   "outputs": [
    {
     "data": {
      "text/plain": [
       "119113552.01"
      ]
     },
     "execution_count": 30,
     "metadata": {},
     "output_type": "execute_result"
    }
   ],
   "source": [
    "balance_bins = data['balance'].max() - data['balance'].min()\n",
    "balance_bins"
   ]
  },
  {
   "cell_type": "code",
   "execution_count": 31,
   "metadata": {},
   "outputs": [
    {
     "data": {
      "image/png": "[encoded data removed]",
      "text/plain": [
       "<Figure size 1800x720 with 1 Axes>"
      ]
     },
     "metadata": {
      "needs_background": "light"
     },
     "output_type": "display_data"
    }
   ],
   "source": [
    "plt.figure(figsize=(25, 10))\n",
    "sns.histplot(data=data, x='balance', hue='churn', stat='density', common_norm=False, \n",
    "             bins=120, kde=False, palette='coolwarm', alpha=0.6)\n",
    "\n",
    "plt.title('Распределение баланса клиентов по признаку оттока')\n",
    "plt.xlabel('Баланс')\n",
    "plt.ylabel('Распределение')\n",
    "plt.show()"
   ]
  },
  {
   "cell_type": "markdown",
   "metadata": {},
   "source": [
    "В данных о балансе большие выбросы, которые мешают оценить отток клиентов, уберу выбросы и построю новое распределение"
   ]
  },
  {
   "cell_type": "code",
   "execution_count": 32,
   "metadata": {},
   "outputs": [
    {
     "data": {
      "text/plain": [
       "count        7704.00\n",
       "mean       827798.34\n",
       "std       1980742.67\n",
       "min             0.00\n",
       "25%        295526.57\n",
       "50%        524225.14\n",
       "75%        980753.67\n",
       "max     119113552.01\n",
       "Name: balance, dtype: float64"
      ]
     },
     "execution_count": 32,
     "metadata": {},
     "output_type": "execute_result"
    }
   ],
   "source": [
    "data['balance'].describe()"
   ]
  },
  {
   "cell_type": "code",
   "execution_count": 33,
   "metadata": {},
   "outputs": [],
   "source": [
    "data_balance_clean = data[data['balance'] <= 980753.67]"
   ]
  },
  {
   "cell_type": "code",
   "execution_count": 34,
   "metadata": {},
   "outputs": [
    {
     "data": {
      "text/plain": [
       "0.75"
      ]
     },
     "execution_count": 34,
     "metadata": {},
     "output_type": "execute_result"
    }
   ],
   "source": [
    "balance_ratio = data_balance_clean['balance'].count() / data['balance'].count()\n",
    "balance_ratio"
   ]
  },
  {
   "cell_type": "markdown",
   "metadata": {},
   "source": [
    "В датафрейме без выбросов осталось 75% данных на уровне третьего квартиля, потерял четверть данных, сделаю расчет по верхнюю границу"
   ]
  },
  {
   "cell_type": "code",
   "execution_count": 35,
   "metadata": {},
   "outputs": [
    {
     "data": {
      "text/plain": [
       "2008594.3162499997"
      ]
     },
     "execution_count": 35,
     "metadata": {},
     "output_type": "execute_result"
    }
   ],
   "source": [
    "Q1 = data['balance'].quantile(0.25)\n",
    "Q3 = data['balance'].quantile(0.75)\n",
    "IQR = Q3 - Q1\n",
    "\n",
    "upper_bound = Q3 + 1.5 * IQR\n",
    "upper_bound"
   ]
  },
  {
   "cell_type": "markdown",
   "metadata": {},
   "source": [
    "Ограничу данные 2 009 000 тр"
   ]
  },
  {
   "cell_type": "code",
   "execution_count": 36,
   "metadata": {},
   "outputs": [],
   "source": [
    "data_balance_clean = data[data['balance'] <= 2009000]"
   ]
  },
  {
   "cell_type": "code",
   "execution_count": 37,
   "metadata": {},
   "outputs": [
    {
     "data": {
      "image/png": "[encoded data removed]",
      "text/plain": [
       "<Figure size 1800x720 with 1 Axes>"
      ]
     },
     "metadata": {
      "needs_background": "light"
     },
     "output_type": "display_data"
    }
   ],
   "source": [
    "plt.figure(figsize=(25, 10))\n",
    "sns.histplot(data=data_balance_clean, x='balance', hue='churn', stat='density', common_norm=False, \n",
    "             bins=100, kde=False, palette='coolwarm', alpha=0.6)\n",
    "plt.ticklabel_format(style='plain', axis='x')\n",
    "plt.title('Распределение баланса клиентов по признаку оттока')\n",
    "plt.xlabel('Баланс')\n",
    "plt.ylabel('Распределение')\n",
    "plt.show()"
   ]
  },
  {
   "cell_type": "markdown",
   "metadata": {},
   "source": [
    "Интервалы значений баланса в которых клиенты чаще уходят:\n",
    "- 760000 - 2000000 тр."
   ]
  },
  {
   "cell_type": "markdown",
   "metadata": {},
   "source": [
    "### Распределение ухода клиентов от зарплаты"
   ]
  },
  {
   "cell_type": "code",
   "execution_count": 38,
   "metadata": {},
   "outputs": [
    {
     "data": {
      "text/plain": [
       "1392518.15"
      ]
     },
     "execution_count": 38,
     "metadata": {},
     "output_type": "execute_result"
    }
   ],
   "source": [
    "est_salary_bins = data['est_salary'].max() - data['est_salary'].min()\n",
    "est_salary_bins"
   ]
  },
  {
   "cell_type": "code",
   "execution_count": 39,
   "metadata": {},
   "outputs": [
    {
     "data": {
      "image/png": "[encoded data removed]",
      "text/plain": [
       "<Figure size 1800x720 with 1 Axes>"
      ]
     },
     "metadata": {
      "needs_background": "light"
     },
     "output_type": "display_data"
    }
   ],
   "source": [
    "plt.figure(figsize=(25, 10))\n",
    "sns.histplot(data=data, x='est_salary', hue='churn', stat='density', common_norm=False, \n",
    "             bins=140, kde=False, palette='coolwarm', alpha=0.6)\n",
    "plt.ticklabel_format(style='plain', axis='x')\n",
    "plt.title('Распределение зарплаты клиентов по признаку оттока')\n",
    "plt.xlabel('Зарплатат')\n",
    "plt.ylabel('Распределение')\n",
    "plt.show()"
   ]
  },
  {
   "cell_type": "code",
   "execution_count": 40,
   "metadata": {},
   "outputs": [
    {
     "data": {
      "text/plain": [
       "count      9996.00\n",
       "mean     147860.56\n",
       "std      139387.53\n",
       "min        2546.30\n",
       "25%       75252.18\n",
       "50%      119658.10\n",
       "75%      174499.52\n",
       "max     1395064.45\n",
       "Name: est_salary, dtype: float64"
      ]
     },
     "execution_count": 40,
     "metadata": {},
     "output_type": "execute_result"
    }
   ],
   "source": [
    "data['est_salary'].describe()"
   ]
  },
  {
   "cell_type": "code",
   "execution_count": 41,
   "metadata": {},
   "outputs": [],
   "source": [
    "data_salary_clean = data[data['est_salary'] <= 155061.52]"
   ]
  },
  {
   "cell_type": "code",
   "execution_count": 42,
   "metadata": {},
   "outputs": [
    {
     "data": {
      "text/plain": [
       "323370.52749999997"
      ]
     },
     "execution_count": 42,
     "metadata": {},
     "output_type": "execute_result"
    }
   ],
   "source": [
    "Q1_salary = data['est_salary'].quantile(0.25)\n",
    "Q3_salary = data['est_salary'].quantile(0.75)\n",
    "IQR_salary = Q3_salary - Q1_salary\n",
    "\n",
    "upper_bound_salary = Q3_salary + 1.5 * IQR_salary\n",
    "upper_bound_salary"
   ]
  },
  {
   "cell_type": "code",
   "execution_count": 43,
   "metadata": {},
   "outputs": [],
   "source": [
    "data_salary_clean = data[data['est_salary'] <= 323400]"
   ]
  },
  {
   "cell_type": "code",
   "execution_count": 44,
   "metadata": {},
   "outputs": [
    {
     "data": {
      "image/png": "[encoded data removed]",
      "text/plain": [
       "<Figure size 1800x720 with 1 Axes>"
      ]
     },
     "metadata": {
      "needs_background": "light"
     },
     "output_type": "display_data"
    }
   ],
   "source": [
    "plt.figure(figsize=(25, 10))\n",
    "sns.histplot(data=data_salary_clean, x='est_salary', hue='churn', stat='density', common_norm=False, \n",
    "             bins=32, kde=False, palette='coolwarm', alpha=0.6)\n",
    "plt.ticklabel_format(style='plain', axis='x')\n",
    "plt.title('Распределение зарплаты клиентов по признаку оттока')\n",
    "plt.xlabel('Зарплатат')\n",
    "plt.ylabel('Распределение')\n",
    "plt.show()"
   ]
  },
  {
   "cell_type": "markdown",
   "metadata": {},
   "source": [
    "Интервалы значений зарплаты в которых клиенты чаще уходят:\n",
    "- от 100000 тр."
   ]
  },
  {
   "cell_type": "markdown",
   "metadata": {},
   "source": [
    "### Распределение ухода клиентов от дискретных величин"
   ]
  },
  {
   "cell_type": "code",
   "execution_count": 45,
   "metadata": {},
   "outputs": [],
   "source": [
    "def plot_churn_by_category(data, category_col):\n",
    "    \n",
    "    plt.figure(figsize=(12, 6))\n",
    "    \n",
    "    \n",
    "    sns.barplot(data=data, x=category_col, y='churn', estimator=lambda x: sum(x) / len(x), ci=None, palette='coolwarm')\n",
    "\n",
    "    mean_churn = data['churn'].mean()\n",
    "    plt.axhline(mean_churn, color='red', linestyle='--', label='Средний уровень оттока')\n",
    "\n",
    "    plt.title(f'Зависимость оттока клиентов от {category_col}')\n",
    "    plt.xlabel(category_col)\n",
    "    plt.ylabel('Уровень оттока')\n",
    "    plt.legend()\n",
    "    plt.show()"
   ]
  },
  {
   "cell_type": "code",
   "execution_count": 46,
   "metadata": {},
   "outputs": [
    {
     "data": {
      "image/png": "[encoded data removed]",
      "text/plain": [
       "<Figure size 864x432 with 1 Axes>"
      ]
     },
     "metadata": {
      "needs_background": "light"
     },
     "output_type": "display_data"
    },
    {
     "data": {
      "image/png": "[encoded data removed]",
      "text/plain": [
       "<Figure size 864x432 with 1 Axes>"
      ]
     },
     "metadata": {
      "needs_background": "light"
     },
     "output_type": "display_data"
    },
    {
     "data": {
      "image/png": "[encoded data removed]",
      "text/plain": [
       "<Figure size 864x432 with 1 Axes>"
      ]
     },
     "metadata": {
      "needs_background": "light"
     },
     "output_type": "display_data"
    },
    {
     "data": {
      "image/png": "[encoded data removed]",
      "text/plain": [
       "<Figure size 864x432 with 1 Axes>"
      ]
     },
     "metadata": {
      "needs_background": "light"
     },
     "output_type": "display_data"
    },
    {
     "data": {
      "image/png": "[encoded data removed]",
      "text/plain": [
       "<Figure size 864x432 with 1 Axes>"
      ]
     },
     "metadata": {
      "needs_background": "light"
     },
     "output_type": "display_data"
    },
    {
     "data": {
      "image/png": "[encoded data removed]",
      "text/plain": [
       "<Figure size 864x432 with 1 Axes>"
      ]
     },
     "metadata": {
      "needs_background": "light"
     },
     "output_type": "display_data"
    }
   ],
   "source": [
    "categorical_columns = ['city', 'gender', 'equity', 'products', 'credit_card', 'last_activity']\n",
    "\n",
    "for column in categorical_columns:\n",
    "    plot_churn_by_category(data, column)"
   ]
  },
  {
   "cell_type": "markdown",
   "metadata": {},
   "source": [
    "Чаще отказываются от услуг банка клиенты:\n",
    "- из Ярославля и Ростова;\n",
    "- мужчины;\n",
    "- владельцы от 3 до 9 объектов недвижимости;\n",
    "- пользователи от 2 до 5 продуктов;\n",
    "- без кредитной карты;\n",
    "- имевшие активность в последнее время."
   ]
  },
  {
   "cell_type": "markdown",
   "metadata": {},
   "source": [
    "### Корреляцилнный анализ"
   ]
  },
  {
   "cell_type": "code",
   "execution_count": 47,
   "metadata": {},
   "outputs": [
    {
     "data": {
      "image/png": "[encoded data removed]",
      "text/plain": [
       "<Figure size 864x576 with 2 Axes>"
      ]
     },
     "metadata": {
      "needs_background": "light"
     },
     "output_type": "display_data"
    },
    {
     "name": "stdout",
     "output_type": "stream",
     "text": [
      "Корреляция признаков с признаком оттока (churn):\n"
     ]
    },
    {
     "data": {
      "text/plain": [
       "churn             1.00\n",
       "balance_missing   0.38\n",
       "equity            0.35\n",
       "last_activity     0.26\n",
       "products          0.26\n",
       "score             0.23\n",
       "gender            0.22\n",
       "credit_card       0.20\n",
       "age               0.19\n",
       "est_salary        0.05\n",
       "balance           0.02\n",
       "city              0.02\n",
       "age_missing       0.02\n",
       "userid            0.00\n",
       "Name: churn, dtype: float64"
      ]
     },
     "execution_count": 47,
     "metadata": {},
     "output_type": "execute_result"
    }
   ],
   "source": [
    "interval_cols = ['age', 'balance', 'est_salary', 'score']\n",
    "\n",
    "correlation_matrix = phik_matrix(data, interval_cols=interval_cols)\n",
    "\n",
    "plt.figure(figsize=(12, 8))\n",
    "sns.heatmap(correlation_matrix, cmap='coolwarm', center=0, annot=True, fmt='.2f')\n",
    "plt.title('Корреляция признаков')\n",
    "plt.show()\n",
    "\n",
    "churn_correlation = correlation_matrix['churn'].sort_values(ascending=False)\n",
    "print(\"Корреляция признаков с признаком оттока (churn):\")\n",
    "churn_correlation"
   ]
  },
  {
   "cell_type": "markdown",
   "metadata": {},
   "source": [
    "Корреляция с оттоком `churn`:\n",
    "- `score`: Корреляция = 0.26 — это очень слабая корреляция. У клиентов с более высоким оценочным баллом вероятность оттока незначительно выше;\n",
    "- `last_activity`: Корреляция = 0.26 — очень слабая корреляция, активность клиентов также слабо связана с их вероятностью оттока;\n",
    "- `gender`: Корреляция = 0.22 — также очень слабая корреляция. Гендер практически не влияет на отток клиентов;\n",
    "- `age`: Корреляция = 0.19 — это также очень слабая корреляция, то есть возраст слабо связан с оттоком;\n",
    "- `products`: Корреляция = 0.26 — очень слабая корреляция, что может указывать на небольшое влияние количества используемых продуктов на вероятность ухода клиентов;\n",
    "- `credit card`: Корреляция = 0.20 — очень слабая корреляция, что означает слабое влияние наличия кредитной карты на отток;\n",
    "- `est_salary`: Корреляция = 0.02 — это практически отсутствие корреляции, то есть уровень зарплаты клиентов практически не влияет на их отток;"
   ]
  },
  {
   "cell_type": "markdown",
   "metadata": {},
   "source": [
    "Взаимосвязь других признаков:\n",
    "- `equity` и `balance_missing`: Корреляция = 0.98 — очень высокая корреляция. Это говорит о том, чтоу клиентов с большим количеством баллов недвижимости практически всегда отсутствуют данные о балансе;\n",
    "- `equity` и `products`, `score`: 0,53/0,58 средняя корреляция, чем больше недвижимости, тем больше продуктов и кредитный рейтинг;\n",
    "- `est_salary` и `score`, `balance`, `age`: 0,40/0,36/0,37 говорит о том, чточем выше зарплата, тем выше кредитный рейтинг, баланс на счете и возраст, что вполне логично;\n",
    "- `userid` и `age`, `equity`, `balance`, `est_salary`: Высокие корреляции, но они не имеют смысла тк userid это уникальный номер клиента. Если он присваивается последовательно, то можно сделать предположение, что клиенты имеющие более высокий номер клиента (те пришедшие позже) имеют более высокую зарплату, баланс, возрас и количество недвижимости, это может говорить о результатах маркетинговых кампаний, но в данной работе мы их не рассматриваем. Но вероятнее всего уникальный номер клиента устанавливается в зависимости от города и филиала."
   ]
  },
  {
   "cell_type": "markdown",
   "metadata": {},
   "source": [
    "## Проверка статистических гипотез"
   ]
  },
  {
   "cell_type": "markdown",
   "metadata": {},
   "source": [
    "### Различия дохода между теми клиентами, которые ушли и теми, которые остались"
   ]
  },
  {
   "cell_type": "markdown",
   "metadata": {},
   "source": [
    "**Нулевая гипотеза (H0)**: Средний доход клиентов, которые ушли, равен среднему доходу клиентов, которые остались.\n",
    "\n",
    "**Альтернативная гипотеза (H1)**: Средний доход клиентов, которые ушли, не равен среднему доходу клиентов, которые остались."
   ]
  },
  {
   "cell_type": "code",
   "execution_count": 48,
   "metadata": {},
   "outputs": [
    {
     "name": "stdout",
     "output_type": "stream",
     "text": [
      "Тест Шапиро-Уилка для ушедших клиентов: ShapiroResult(statistic=0.6440083980560303, pvalue=0.0)\n",
      "Тест Шапиро-Уилка для оставшихся клиентов: ShapiroResult(statistic=0.61471027135849, pvalue=0.0)\n"
     ]
    }
   ],
   "source": [
    "# провожу тест Шапиро чтобы проверить нормальность распределения\n",
    "group_churned_salary = data[data['churn'] == 1]['est_salary']\n",
    "group_retained_salary = data[data['churn'] == 0]['est_salary']\n",
    "\n",
    "shapiro_churned = stats.shapiro(group_churned_salary)\n",
    "shapiro_retained = stats.shapiro(group_retained_salary)\n",
    "\n",
    "print(\"Тест Шапиро-Уилка для ушедших клиентов:\", shapiro_churned)\n",
    "print(\"Тест Шапиро-Уилка для оставшихся клиентов:\", shapiro_retained)"
   ]
  },
  {
   "cell_type": "markdown",
   "metadata": {},
   "source": [
    "p-value равен нулю это говорит о том, что распределение данных о доходах значительно отличается от нормального, следовательно, нужно использовать тест Манна-Уитни"
   ]
  },
  {
   "cell_type": "code",
   "execution_count": 49,
   "metadata": {},
   "outputs": [
    {
     "name": "stdout",
     "output_type": "stream",
     "text": [
      "Результат теста Манна-Уитни:\n",
      "Статистика: 7850230.0\n",
      "p-value: 0.00020531411053738532\n",
      "Существует статистически значимая разница между доходами ушедших и оставшихся клиентов.\n"
     ]
    }
   ],
   "source": [
    "mann_whitney_result = stats.mannwhitneyu(group_churned_salary, group_retained_salary)\n",
    "\n",
    "print(\"Результат теста Манна-Уитни:\")\n",
    "print(\"Статистика:\", mann_whitney_result.statistic)\n",
    "print(\"p-value:\", mann_whitney_result.pvalue)\n",
    "\n",
    "alpha = 0.05\n",
    "if mann_whitney_result.pvalue < alpha:\n",
    "    print(\"Существует статистически значимая разница между доходами ушедших и оставшихся клиентов.\")\n",
    "else:\n",
    "    print(\"Нет статистически значимой разницы между доходами ушедших и оставшихся клиентов.\")"
   ]
  },
  {
   "cell_type": "markdown",
   "metadata": {},
   "source": [
    "Отвергаем нулевую гипотезу (Н0)"
   ]
  },
  {
   "cell_type": "markdown",
   "metadata": {},
   "source": [
    "### Различия возраста между теми клиентами, которые ушли и теми, которые остались"
   ]
  },
  {
   "cell_type": "markdown",
   "metadata": {},
   "source": [
    "**Нулевая гипотеза (H0)**: Средний возраст клиентов, которые ушли, равен среднему возрасту клиентов, которые остались.\n",
    "\n",
    "**Альтернативная гипотеза (H1)**: Средний возраст клиентов, которые ушли, не равен среднему возрасту клиентов, которые остались."
   ]
  },
  {
   "cell_type": "code",
   "execution_count": 50,
   "metadata": {},
   "outputs": [
    {
     "name": "stdout",
     "output_type": "stream",
     "text": [
      "Тест Шапиро-Уилка для ушедших клиентов: ShapiroResult(statistic=nan, pvalue=1.0)\n",
      "Тест Шапиро-Уилка для оставшихся клиентов: ShapiroResult(statistic=nan, pvalue=1.0)\n"
     ]
    }
   ],
   "source": [
    "# провожу тест Шапиро чтобы проверить нормальность распределения\n",
    "group_churned_age = data[data['churn'] == 1]['age']\n",
    "group_retained_age = data[data['churn'] == 0]['age']\n",
    "\n",
    "shapiro_churned = stats.shapiro(group_churned_age)\n",
    "shapiro_retained = stats.shapiro(group_retained_age)\n",
    "\n",
    "print(\"Тест Шапиро-Уилка для ушедших клиентов:\", shapiro_churned)\n",
    "print(\"Тест Шапиро-Уилка для оставшихся клиентов:\", shapiro_retained)"
   ]
  },
  {
   "cell_type": "markdown",
   "metadata": {},
   "source": [
    "p-value очень мал, близок к нулю это говорит о том, что распределение данных о возрасте значительно отличается от нормального, следовательно, нужно использовать тест Манна-Уитни"
   ]
  },
  {
   "cell_type": "code",
   "execution_count": 51,
   "metadata": {},
   "outputs": [
    {
     "name": "stdout",
     "output_type": "stream",
     "text": [
      "Результат теста Манна-Уитни:\n",
      "Статистика: nan\n",
      "p-value: nan\n",
      "Нет статистически значимой разницы между возрастом ушедших и оставшихся клиентов.\n"
     ]
    }
   ],
   "source": [
    "mann_whitney_result = stats.mannwhitneyu(group_churned_age, group_retained_age)\n",
    "\n",
    "print(\"Результат теста Манна-Уитни:\")\n",
    "print(\"Статистика:\", mann_whitney_result.statistic)\n",
    "print(\"p-value:\", mann_whitney_result.pvalue)\n",
    "\n",
    "alpha = 0.05\n",
    "if mann_whitney_result.pvalue < alpha:\n",
    "    print(\"Существует статистически значимая разница между возрастом ушедших и оставшихся клиентов.\")\n",
    "else:\n",
    "    print(\"Нет статистически значимой разницы между возрастом ушедших и оставшихся клиентов.\")"
   ]
  },
  {
   "cell_type": "markdown",
   "metadata": {},
   "source": [
    "Отвергаем нулевую гипотезу (Н0)"
   ]
  },
  {
   "cell_type": "markdown",
   "metadata": {},
   "source": [
    "## Подведение промежуточных итогов"
   ]
  },
  {
   "cell_type": "markdown",
   "metadata": {},
   "source": [
    "По результатам исследовательского анализа данных, корреляционного анализа, а также статистических тестов могу выделить следующие признаки которые лягут в основу сегментации:\n",
    "- возраст, интервалы 25-35 лет и 50-60 лет;\n",
    "- кредитный рейтинг 830-910 баллов;\n",
    "- баланс 740000 - 980000 тр;\n",
    "- зарплата от 100000 тр;\n",
    "- города Ярославль и Ростов;\n",
    "- пол: мужчины;\n",
    "- более 3 баллов недвижимости;\n",
    "- более 3 продуктов;\n",
    "- нет кредитных карт;\n",
    "- проявляли активность в последнее время."
   ]
  },
  {
   "cell_type": "markdown",
   "metadata": {},
   "source": [
    "## Сегментация"
   ]
  },
  {
   "cell_type": "markdown",
   "metadata": {},
   "source": [
    "### Сегмент 1 \"Мужчины с зарплатой от 100000 и без кредитных карт\""
   ]
  },
  {
   "cell_type": "code",
   "execution_count": 52,
   "metadata": {},
   "outputs": [],
   "source": [
    "segment_1 = data[(data['gender'] == 'М') & (data['credit_card'] == 0) & (data['est_salary'] > 100000)]"
   ]
  },
  {
   "cell_type": "code",
   "execution_count": 53,
   "metadata": {},
   "outputs": [
    {
     "name": "stdout",
     "output_type": "stream",
     "text": [
      "Количество клиентов в сегменте мужчин без кредитной карты с зарплатой от 100 000 рублей: 855\n"
     ]
    }
   ],
   "source": [
    "print('Количество клиентов в сегменте мужчин без кредитной карты с зарплатой от 100 000 рублей:', len(segment_1))"
   ]
  },
  {
   "cell_type": "code",
   "execution_count": 54,
   "metadata": {},
   "outputs": [
    {
     "name": "stdout",
     "output_type": "stream",
     "text": [
      "Уровень оттока клиентов сегмента мужчин без кредитной карты с зарплатой от 100 000 рублей: 37.43%\n"
     ]
    }
   ],
   "source": [
    "# уровень оттока\n",
    "segment_1_churn = 100 * (segment_1['churn'].sum()/segment_1['churn'].count())\n",
    "print(f\"Уровень оттока клиентов сегмента мужчин без кредитной карты с зарплатой от 100 000 рублей: {segment_1_churn:.2f}%\")"
   ]
  },
  {
   "cell_type": "markdown",
   "metadata": {},
   "source": [
    "### Сегмент 2 \"Клиенты с 3 и более баллами недвижимости, проявлявшие активность и кредитным рейтингом 830-910 баллов\""
   ]
  },
  {
   "cell_type": "code",
   "execution_count": 55,
   "metadata": {},
   "outputs": [],
   "source": [
    "segment_2 = data[(data['equity'] > 3) & (data['last_activity'] == 1) & (data['score'] > 830) & (data['score'] < 910)]"
   ]
  },
  {
   "cell_type": "code",
   "execution_count": 56,
   "metadata": {},
   "outputs": [
    {
     "name": "stdout",
     "output_type": "stream",
     "text": [
      "Количество клиентов в сегменте клиентов с 3 и более баллами недвижимости, проявлявшими активность и кредитным рейтингом 830-910: 1096\n"
     ]
    }
   ],
   "source": [
    "print('Количество клиентов в сегменте клиентов с 3 и более баллами недвижимости, проявлявшими активность и кредитным рейтингом 830-910:', len(segment_2))"
   ]
  },
  {
   "cell_type": "code",
   "execution_count": 57,
   "metadata": {},
   "outputs": [
    {
     "name": "stdout",
     "output_type": "stream",
     "text": [
      "Уровень оттока сегмента клиентов с 3 и более баллами недвижимости, проявлявшими активность и кредитным рейтингом 830-910: 50.00%\n"
     ]
    }
   ],
   "source": [
    "# уровень оттока\n",
    "segment_2_churn = 100 * (segment_2['churn'].sum()/segment_2['churn'].count())\n",
    "print(f\"Уровень оттока сегмента клиентов с 3 и более баллами недвижимости, проявлявшими активность и кредитным рейтингом 830-910: {segment_2_churn:.2f}%\")"
   ]
  },
  {
   "cell_type": "markdown",
   "metadata": {},
   "source": [
    "### Сегмент 3 \"Клиенты из Ярославля и Ростова в возрасте от 50 до 60 лет\""
   ]
  },
  {
   "cell_type": "code",
   "execution_count": 58,
   "metadata": {},
   "outputs": [],
   "source": [
    "segment_3 = data[(data['age'] > 50) & (data['age'] < 60) & (data['city'] != 'Рыбинск') & (data['last_activity'] == 1)]"
   ]
  },
  {
   "cell_type": "code",
   "execution_count": 59,
   "metadata": {},
   "outputs": [
    {
     "name": "stdout",
     "output_type": "stream",
     "text": [
      "Количество клиентов в сегменте из Ярославля и Ростова в возрасте от 50 до 60 лет: 481\n"
     ]
    }
   ],
   "source": [
    "print('Количество клиентов в сегменте из Ярославля и Ростова в возрасте от 50 до 60 лет:', len(segment_3))"
   ]
  },
  {
   "cell_type": "code",
   "execution_count": 60,
   "metadata": {},
   "outputs": [
    {
     "name": "stdout",
     "output_type": "stream",
     "text": [
      "Уровень оттока клиентов в сегменте из Ярославля и Росттова в возрасте от 50 до 60 лет: 35.97%\n"
     ]
    }
   ],
   "source": [
    "segment_3_churn = 100 * (segment_3['churn'].sum()/segment_3['churn'].count())\n",
    "print(f\"Уровень оттока клиентов в сегменте из Ярославля и Росттова в возрасте от 50 до 60 лет: {segment_3_churn:.2f}%\")"
   ]
  },
  {
   "cell_type": "markdown",
   "metadata": {},
   "source": [
    "У данного сегмента количество пользователей меньше 500, но высокий показатель отточности, предлагаю его оставить"
   ]
  },
  {
   "cell_type": "markdown",
   "metadata": {},
   "source": [
    "## Приоритезация сегментов"
   ]
  },
  {
   "cell_type": "markdown",
   "metadata": {},
   "source": [
    "Приоритезация сегментов по показателям оттока и количеству клиентов в сегменте"
   ]
  },
  {
   "cell_type": "code",
   "execution_count": 61,
   "metadata": {},
   "outputs": [
    {
     "data": {
      "text/html": [
       "<div>\n",
       "<style scoped>\n",
       "    .dataframe tbody tr th:only-of-type {\n",
       "        vertical-align: middle;\n",
       "    }\n",
       "\n",
       "    .dataframe tbody tr th {\n",
       "        vertical-align: top;\n",
       "    }\n",
       "\n",
       "    .dataframe thead th {\n",
       "        text-align: right;\n",
       "    }\n",
       "</style>\n",
       "<table border=\"1\" class=\"dataframe\">\n",
       "  <thead>\n",
       "    <tr style=\"text-align: right;\">\n",
       "      <th></th>\n",
       "      <th>name</th>\n",
       "      <th>count</th>\n",
       "      <th>churn</th>\n",
       "    </tr>\n",
       "  </thead>\n",
       "  <tbody>\n",
       "    <tr>\n",
       "      <th>1</th>\n",
       "      <td>2</td>\n",
       "      <td>1096</td>\n",
       "      <td>50.00</td>\n",
       "    </tr>\n",
       "    <tr>\n",
       "      <th>0</th>\n",
       "      <td>1</td>\n",
       "      <td>855</td>\n",
       "      <td>37.43</td>\n",
       "    </tr>\n",
       "    <tr>\n",
       "      <th>2</th>\n",
       "      <td>3</td>\n",
       "      <td>481</td>\n",
       "      <td>35.97</td>\n",
       "    </tr>\n",
       "  </tbody>\n",
       "</table>\n",
       "</div>"
      ],
      "text/plain": [
       "   name  count  churn\n",
       "1     2   1096  50.00\n",
       "0     1    855  37.43\n",
       "2     3    481  35.97"
      ]
     },
     "execution_count": 61,
     "metadata": {},
     "output_type": "execute_result"
    }
   ],
   "source": [
    "segment_id = [1, 2, 3]\n",
    "segment_count = [len(segment_1), len(segment_2), len(segment_3)]\n",
    "segment_churn = [segment_1_churn, segment_2_churn, segment_3_churn]\n",
    "\n",
    "segments = pd.DataFrame({\n",
    "    'name': segment_id,\n",
    "    'count': segment_count,\n",
    "    'churn': segment_churn\n",
    "})\n",
    "\n",
    "segments.sort_values(by='churn', ascending=False)"
   ]
  },
  {
   "cell_type": "markdown",
   "metadata": {},
   "source": [
    "Приоритет сегментов:\n",
    "1. Сегмент 2 \"Клиенты с 3 и более баллами недвижимости, проявлявшие активность и кредитным рейтингом 830-910 баллов\"\n",
    "2. Сегмент 1 \"Мужчины с зарплатой от 100000 и без кредитных карт\"\n",
    "3. Сегмент 3 \"Клиенты из Ярославля и Ростова в возрасте от 50 до 60 лет\""
   ]
  },
  {
   "cell_type": "markdown",
   "metadata": {},
   "source": [
    "## Формирование рекомендаций"
   ]
  },
  {
   "cell_type": "markdown",
   "metadata": {},
   "source": [
    "1. Предложить кредитные карты клиентам без них, у клиентов с \"кредитками\" уровень оттока ниже среднебанковского;\n",
    "2. 75% клиентов из второго сегмента от 32 лет, учитывая, что у них высокий кредитный рейтинг и уже есть недвижимость, можно предложить им инвестиционные программы, торговлю ценными бумагами, сниженные проценты на перевод денег;\n",
    "3. У сегмента 3 высокий показатель отточности (в 2 раза выше среднебанковского) при этом клиенты активны, возможно, клиенты не могут найти нужный функционал или одна из часто используемых функций \"запрятана\" и нужно вывести ее на глаза, чтобы клиенты не использовали дискомфорт при выполнении операций;\n",
    "4. Вообще высокий уровень отточности у клиентов использующих приложение, следовательно их что-то не устраивает нужно сделатть UX анализ."
   ]
  }
 ],
 "metadata": {
  "ExecuteTimeLog": [
   {
    "duration": 1415,
    "start_time": "2024-10-02T10:00:41.431Z"
   },
   {
    "duration": 3,
    "start_time": "2024-10-02T10:00:59.286Z"
   },
   {
    "duration": 193,
    "start_time": "2024-10-02T10:01:49.879Z"
   },
   {
    "duration": 58,
    "start_time": "2024-10-02T10:02:11.769Z"
   },
   {
    "duration": 14,
    "start_time": "2024-10-02T10:02:56.479Z"
   },
   {
    "duration": 4,
    "start_time": "2024-10-02T10:03:35.708Z"
   },
   {
    "duration": 23,
    "start_time": "2024-10-02T10:03:39.127Z"
   },
   {
    "duration": 3,
    "start_time": "2024-10-02T10:05:58.019Z"
   },
   {
    "duration": 11,
    "start_time": "2024-10-02T10:06:32.039Z"
   },
   {
    "duration": 108,
    "start_time": "2024-10-02T10:09:20.668Z"
   },
   {
    "duration": 13,
    "start_time": "2024-10-02T10:09:36.229Z"
   },
   {
    "duration": 9,
    "start_time": "2024-10-02T10:09:50.389Z"
   },
   {
    "duration": 9,
    "start_time": "2024-10-02T10:09:58.129Z"
   },
   {
    "duration": 7,
    "start_time": "2024-10-02T10:10:02.569Z"
   },
   {
    "duration": 5,
    "start_time": "2024-10-02T10:10:14.918Z"
   },
   {
    "duration": 6,
    "start_time": "2024-10-02T10:11:34.809Z"
   },
   {
    "duration": 7,
    "start_time": "2024-10-02T10:12:00.099Z"
   },
   {
    "duration": 6,
    "start_time": "2024-10-02T10:13:04.599Z"
   },
   {
    "duration": 21,
    "start_time": "2024-10-02T10:13:13.708Z"
   },
   {
    "duration": 3,
    "start_time": "2024-10-02T10:14:15.169Z"
   },
   {
    "duration": 7,
    "start_time": "2024-10-02T10:14:30.586Z"
   },
   {
    "duration": 17,
    "start_time": "2024-10-02T10:14:35.077Z"
   },
   {
    "duration": 9,
    "start_time": "2024-10-02T10:15:00.059Z"
   },
   {
    "duration": 7,
    "start_time": "2024-10-02T10:15:16.044Z"
   },
   {
    "duration": 7,
    "start_time": "2024-10-02T10:15:17.364Z"
   },
   {
    "duration": 1139,
    "start_time": "2024-10-02T10:15:24.587Z"
   },
   {
    "duration": 63,
    "start_time": "2024-10-02T10:15:25.728Z"
   },
   {
    "duration": 12,
    "start_time": "2024-10-02T10:15:25.793Z"
   },
   {
    "duration": 42,
    "start_time": "2024-10-02T10:15:25.806Z"
   },
   {
    "duration": 12,
    "start_time": "2024-10-02T10:15:25.850Z"
   },
   {
    "duration": 9,
    "start_time": "2024-10-02T10:15:25.864Z"
   },
   {
    "duration": 9,
    "start_time": "2024-10-02T10:15:25.875Z"
   },
   {
    "duration": 7,
    "start_time": "2024-10-02T10:16:07.337Z"
   },
   {
    "duration": 25,
    "start_time": "2024-10-02T10:16:08.396Z"
   },
   {
    "duration": 6,
    "start_time": "2024-10-02T10:17:16.446Z"
   },
   {
    "duration": 27,
    "start_time": "2024-10-02T10:17:19.876Z"
   },
   {
    "duration": 20,
    "start_time": "2024-10-02T10:17:47.119Z"
   },
   {
    "duration": 7,
    "start_time": "2024-10-02T10:18:23.436Z"
   },
   {
    "duration": 12,
    "start_time": "2024-10-02T10:18:26.695Z"
   },
   {
    "duration": 6,
    "start_time": "2024-10-02T10:19:15.328Z"
   },
   {
    "duration": 12,
    "start_time": "2024-10-02T10:19:16.186Z"
   },
   {
    "duration": 7,
    "start_time": "2024-10-02T10:19:57.215Z"
   },
   {
    "duration": 12,
    "start_time": "2024-10-02T10:20:01.966Z"
   },
   {
    "duration": 6,
    "start_time": "2024-10-02T10:21:12.657Z"
   },
   {
    "duration": 12,
    "start_time": "2024-10-02T10:21:13.527Z"
   },
   {
    "duration": 6,
    "start_time": "2024-10-02T10:21:23.907Z"
   },
   {
    "duration": 26,
    "start_time": "2024-10-02T10:21:24.977Z"
   },
   {
    "duration": 6,
    "start_time": "2024-10-02T10:22:15.827Z"
   },
   {
    "duration": 12,
    "start_time": "2024-10-02T10:22:26.799Z"
   },
   {
    "duration": 11,
    "start_time": "2024-10-02T10:22:32.857Z"
   },
   {
    "duration": 6,
    "start_time": "2024-10-02T10:22:38.197Z"
   },
   {
    "duration": 21,
    "start_time": "2024-10-02T10:22:39.367Z"
   },
   {
    "duration": 1115,
    "start_time": "2024-10-02T10:25:18.546Z"
   },
   {
    "duration": 8,
    "start_time": "2024-10-02T10:25:35.366Z"
   },
   {
    "duration": 9,
    "start_time": "2024-10-02T10:25:50.495Z"
   },
   {
    "duration": 29,
    "start_time": "2024-10-02T10:27:56.266Z"
   },
   {
    "duration": 10,
    "start_time": "2024-10-02T10:28:04.298Z"
   },
   {
    "duration": 28,
    "start_time": "2024-10-02T10:28:33.856Z"
   },
   {
    "duration": 9,
    "start_time": "2024-10-02T10:29:15.556Z"
   },
   {
    "duration": 1202,
    "start_time": "2024-10-02T10:29:26.312Z"
   },
   {
    "duration": 61,
    "start_time": "2024-10-02T10:29:27.516Z"
   },
   {
    "duration": 77,
    "start_time": "2024-10-02T10:29:27.579Z"
   },
   {
    "duration": 3,
    "start_time": "2024-10-02T10:29:27.658Z"
   },
   {
    "duration": 12,
    "start_time": "2024-10-02T10:29:27.663Z"
   },
   {
    "duration": 6,
    "start_time": "2024-10-02T10:29:27.676Z"
   },
   {
    "duration": 20,
    "start_time": "2024-10-02T10:29:27.683Z"
   },
   {
    "duration": 40,
    "start_time": "2024-10-02T10:29:27.704Z"
   },
   {
    "duration": 6,
    "start_time": "2024-10-02T10:29:27.746Z"
   },
   {
    "duration": 23,
    "start_time": "2024-10-02T10:29:27.754Z"
   },
   {
    "duration": 5,
    "start_time": "2024-10-02T10:31:30.042Z"
   },
   {
    "duration": 1233,
    "start_time": "2024-10-02T10:32:10.062Z"
   },
   {
    "duration": 63,
    "start_time": "2024-10-02T10:32:11.297Z"
   },
   {
    "duration": 14,
    "start_time": "2024-10-02T10:32:11.362Z"
   },
   {
    "duration": 3,
    "start_time": "2024-10-02T10:32:11.377Z"
   },
   {
    "duration": 13,
    "start_time": "2024-10-02T10:32:11.382Z"
   },
   {
    "duration": 6,
    "start_time": "2024-10-02T10:32:11.397Z"
   },
   {
    "duration": 43,
    "start_time": "2024-10-02T10:32:11.404Z"
   },
   {
    "duration": 86,
    "start_time": "2024-10-02T10:32:11.448Z"
   },
   {
    "duration": 163,
    "start_time": "2024-10-02T10:32:11.536Z"
   },
   {
    "duration": 26,
    "start_time": "2024-10-02T10:32:11.701Z"
   },
   {
    "duration": 23,
    "start_time": "2024-10-02T10:32:29.690Z"
   },
   {
    "duration": 1120,
    "start_time": "2024-10-02T10:34:40.871Z"
   },
   {
    "duration": 62,
    "start_time": "2024-10-02T10:34:41.993Z"
   },
   {
    "duration": 12,
    "start_time": "2024-10-02T10:34:42.056Z"
   },
   {
    "duration": 4,
    "start_time": "2024-10-02T10:34:42.071Z"
   },
   {
    "duration": 12,
    "start_time": "2024-10-02T10:34:42.077Z"
   },
   {
    "duration": 5,
    "start_time": "2024-10-02T10:34:42.091Z"
   },
   {
    "duration": 46,
    "start_time": "2024-10-02T10:34:42.098Z"
   },
   {
    "duration": 22,
    "start_time": "2024-10-02T10:34:42.145Z"
   },
   {
    "duration": 12,
    "start_time": "2024-10-02T10:34:42.168Z"
   },
   {
    "duration": 23,
    "start_time": "2024-10-02T10:34:42.182Z"
   },
   {
    "duration": 8,
    "start_time": "2024-10-02T10:34:56.252Z"
   },
   {
    "duration": 11,
    "start_time": "2024-10-02T10:35:05.140Z"
   },
   {
    "duration": 1241,
    "start_time": "2024-10-02T10:35:12.834Z"
   },
   {
    "duration": 62,
    "start_time": "2024-10-02T10:35:14.077Z"
   },
   {
    "duration": 13,
    "start_time": "2024-10-02T10:35:14.141Z"
   },
   {
    "duration": 3,
    "start_time": "2024-10-02T10:35:14.156Z"
   },
   {
    "duration": 12,
    "start_time": "2024-10-02T10:35:14.161Z"
   },
   {
    "duration": 6,
    "start_time": "2024-10-02T10:35:14.174Z"
   },
   {
    "duration": 21,
    "start_time": "2024-10-02T10:35:14.181Z"
   },
   {
    "duration": 42,
    "start_time": "2024-10-02T10:35:14.203Z"
   },
   {
    "duration": 6,
    "start_time": "2024-10-02T10:35:14.247Z"
   },
   {
    "duration": 48,
    "start_time": "2024-10-02T10:35:14.255Z"
   },
   {
    "duration": 22,
    "start_time": "2024-10-02T10:37:03.033Z"
   },
   {
    "duration": 72,
    "start_time": "2024-10-02T10:40:00.872Z"
   },
   {
    "duration": 20,
    "start_time": "2024-10-02T10:40:01.523Z"
   },
   {
    "duration": 72,
    "start_time": "2024-10-02T10:40:51.678Z"
   },
   {
    "duration": 1240,
    "start_time": "2024-10-02T10:40:57.158Z"
   },
   {
    "duration": 63,
    "start_time": "2024-10-02T10:40:58.400Z"
   },
   {
    "duration": 16,
    "start_time": "2024-10-02T10:40:58.465Z"
   },
   {
    "duration": 8,
    "start_time": "2024-10-02T10:40:58.483Z"
   },
   {
    "duration": 16,
    "start_time": "2024-10-02T10:40:58.492Z"
   },
   {
    "duration": 64,
    "start_time": "2024-10-02T10:40:58.510Z"
   },
   {
    "duration": 0,
    "start_time": "2024-10-02T10:40:58.576Z"
   },
   {
    "duration": 0,
    "start_time": "2024-10-02T10:40:58.577Z"
   },
   {
    "duration": 0,
    "start_time": "2024-10-02T10:40:58.578Z"
   },
   {
    "duration": 0,
    "start_time": "2024-10-02T10:40:58.579Z"
   },
   {
    "duration": 6,
    "start_time": "2024-10-02T10:42:13.987Z"
   },
   {
    "duration": 22,
    "start_time": "2024-10-02T10:42:18.537Z"
   },
   {
    "duration": 22,
    "start_time": "2024-10-02T10:42:37.898Z"
   },
   {
    "duration": 7,
    "start_time": "2024-10-02T10:43:01.678Z"
   },
   {
    "duration": 23,
    "start_time": "2024-10-02T10:43:02.778Z"
   },
   {
    "duration": 20,
    "start_time": "2024-10-02T10:43:08.548Z"
   },
   {
    "duration": 7,
    "start_time": "2024-10-02T10:45:38.161Z"
   },
   {
    "duration": 25,
    "start_time": "2024-10-02T10:45:42.743Z"
   },
   {
    "duration": 6,
    "start_time": "2024-10-02T10:45:55.598Z"
   },
   {
    "duration": 11,
    "start_time": "2024-10-02T10:45:57.258Z"
   },
   {
    "duration": 7,
    "start_time": "2024-10-02T10:46:16.388Z"
   },
   {
    "duration": 11,
    "start_time": "2024-10-02T10:46:52.142Z"
   },
   {
    "duration": 7,
    "start_time": "2024-10-02T10:47:21.192Z"
   },
   {
    "duration": 7,
    "start_time": "2024-10-02T10:47:35.971Z"
   },
   {
    "duration": 21,
    "start_time": "2024-10-02T10:47:58.741Z"
   },
   {
    "duration": 20,
    "start_time": "2024-10-02T10:49:05.158Z"
   },
   {
    "duration": 23,
    "start_time": "2024-10-02T10:49:20.095Z"
   },
   {
    "duration": 7,
    "start_time": "2024-10-02T10:49:39.877Z"
   },
   {
    "duration": 5,
    "start_time": "2024-10-02T10:49:44.328Z"
   },
   {
    "duration": 22,
    "start_time": "2024-10-02T10:51:54.730Z"
   },
   {
    "duration": 22,
    "start_time": "2024-10-02T10:52:37.443Z"
   },
   {
    "duration": 16,
    "start_time": "2024-10-02T10:53:11.893Z"
   },
   {
    "duration": 8,
    "start_time": "2024-10-02T10:54:33.181Z"
   },
   {
    "duration": 22,
    "start_time": "2024-10-02T10:54:52.067Z"
   },
   {
    "duration": 24,
    "start_time": "2024-10-02T10:54:59.994Z"
   },
   {
    "duration": 4,
    "start_time": "2024-10-02T10:58:22.803Z"
   },
   {
    "duration": 22,
    "start_time": "2024-10-02T10:58:28.663Z"
   },
   {
    "duration": 22,
    "start_time": "2024-10-02T10:59:22.023Z"
   },
   {
    "duration": 6,
    "start_time": "2024-10-02T10:59:45.555Z"
   },
   {
    "duration": 16,
    "start_time": "2024-10-02T10:59:51.232Z"
   },
   {
    "duration": 8,
    "start_time": "2024-10-02T11:00:38.535Z"
   },
   {
    "duration": 16,
    "start_time": "2024-10-02T11:00:42.535Z"
   },
   {
    "duration": 17,
    "start_time": "2024-10-02T11:01:07.315Z"
   },
   {
    "duration": 6,
    "start_time": "2024-10-02T11:01:42.135Z"
   },
   {
    "duration": 15,
    "start_time": "2024-10-02T11:04:52.707Z"
   },
   {
    "duration": 21,
    "start_time": "2024-10-02T11:05:18.775Z"
   },
   {
    "duration": 23,
    "start_time": "2024-10-02T11:05:36.147Z"
   },
   {
    "duration": 13,
    "start_time": "2024-10-02T11:05:46.589Z"
   },
   {
    "duration": 1220,
    "start_time": "2024-10-02T11:07:01.764Z"
   },
   {
    "duration": 62,
    "start_time": "2024-10-02T11:07:02.986Z"
   },
   {
    "duration": 13,
    "start_time": "2024-10-02T11:07:03.050Z"
   },
   {
    "duration": 30,
    "start_time": "2024-10-02T11:07:03.064Z"
   },
   {
    "duration": 17,
    "start_time": "2024-10-02T11:07:03.096Z"
   },
   {
    "duration": 11,
    "start_time": "2024-10-02T11:07:03.115Z"
   },
   {
    "duration": 8,
    "start_time": "2024-10-02T11:07:03.128Z"
   },
   {
    "duration": 27,
    "start_time": "2024-10-02T11:07:03.138Z"
   },
   {
    "duration": 41,
    "start_time": "2024-10-02T11:07:03.167Z"
   },
   {
    "duration": 22,
    "start_time": "2024-10-02T11:07:03.210Z"
   },
   {
    "duration": 18,
    "start_time": "2024-10-02T11:07:03.234Z"
   },
   {
    "duration": 17,
    "start_time": "2024-10-02T11:08:12.718Z"
   },
   {
    "duration": 16,
    "start_time": "2024-10-02T11:14:32.783Z"
   },
   {
    "duration": 23,
    "start_time": "2024-10-02T11:15:01.003Z"
   },
   {
    "duration": 19,
    "start_time": "2024-10-02T11:16:53.831Z"
   },
   {
    "duration": 21,
    "start_time": "2024-10-02T11:17:38.771Z"
   },
   {
    "duration": 14,
    "start_time": "2024-10-02T11:18:30.311Z"
   },
   {
    "duration": 14,
    "start_time": "2024-10-02T11:18:37.132Z"
   },
   {
    "duration": 13,
    "start_time": "2024-10-02T11:20:50.420Z"
   },
   {
    "duration": 1167,
    "start_time": "2024-10-02T11:21:55.450Z"
   },
   {
    "duration": 62,
    "start_time": "2024-10-02T11:21:56.619Z"
   },
   {
    "duration": 13,
    "start_time": "2024-10-02T11:21:56.682Z"
   },
   {
    "duration": 3,
    "start_time": "2024-10-02T11:21:56.696Z"
   },
   {
    "duration": 21,
    "start_time": "2024-10-02T11:21:56.701Z"
   },
   {
    "duration": 26,
    "start_time": "2024-10-02T11:21:56.723Z"
   },
   {
    "duration": 6,
    "start_time": "2024-10-02T11:21:56.751Z"
   },
   {
    "duration": 16,
    "start_time": "2024-10-02T11:21:56.758Z"
   },
   {
    "duration": 16,
    "start_time": "2024-10-02T11:21:56.775Z"
   },
   {
    "duration": 23,
    "start_time": "2024-10-02T11:21:56.792Z"
   },
   {
    "duration": 42,
    "start_time": "2024-10-02T11:21:56.817Z"
   },
   {
    "duration": 17,
    "start_time": "2024-10-02T11:21:56.861Z"
   },
   {
    "duration": 15,
    "start_time": "2024-10-02T11:21:56.880Z"
   },
   {
    "duration": 14,
    "start_time": "2024-10-02T11:21:56.898Z"
   },
   {
    "duration": 6,
    "start_time": "2024-10-02T11:27:48.499Z"
   },
   {
    "duration": 24,
    "start_time": "2024-10-02T11:27:52.889Z"
   },
   {
    "duration": 20,
    "start_time": "2024-10-02T11:28:09.879Z"
   },
   {
    "duration": 24,
    "start_time": "2024-10-02T11:28:35.104Z"
   },
   {
    "duration": 24,
    "start_time": "2024-10-02T11:29:52.832Z"
   },
   {
    "duration": 102,
    "start_time": "2024-10-02T11:32:43.947Z"
   },
   {
    "duration": 23,
    "start_time": "2024-10-02T11:32:59.165Z"
   },
   {
    "duration": 11,
    "start_time": "2024-10-02T11:33:05.524Z"
   },
   {
    "duration": 10,
    "start_time": "2024-10-02T11:34:54.266Z"
   },
   {
    "duration": 18,
    "start_time": "2024-10-02T11:36:13.944Z"
   },
   {
    "duration": 10,
    "start_time": "2024-10-02T11:36:14.816Z"
   },
   {
    "duration": 925,
    "start_time": "2024-10-02T11:41:35.887Z"
   },
   {
    "duration": 19,
    "start_time": "2024-10-02T11:41:53.567Z"
   },
   {
    "duration": 10,
    "start_time": "2024-10-02T11:41:54.947Z"
   },
   {
    "duration": 949,
    "start_time": "2024-10-02T11:42:01.507Z"
   },
   {
    "duration": 923,
    "start_time": "2024-10-02T11:42:14.537Z"
   },
   {
    "duration": 11,
    "start_time": "2024-10-02T11:44:18.458Z"
   },
   {
    "duration": 11,
    "start_time": "2024-10-02T11:44:41.058Z"
   },
   {
    "duration": 11,
    "start_time": "2024-10-02T11:46:16.333Z"
   },
   {
    "duration": 3,
    "start_time": "2024-10-02T11:46:36.760Z"
   },
   {
    "duration": 1175,
    "start_time": "2024-10-02T11:46:41.296Z"
   },
   {
    "duration": 23,
    "start_time": "2024-10-02T11:47:50.523Z"
   },
   {
    "duration": 18,
    "start_time": "2024-10-02T11:49:15.922Z"
   },
   {
    "duration": 17,
    "start_time": "2024-10-02T11:49:51.315Z"
   },
   {
    "duration": 214,
    "start_time": "2024-10-02T11:50:43.518Z"
   },
   {
    "duration": 19,
    "start_time": "2024-10-02T11:56:49.532Z"
   },
   {
    "duration": 15,
    "start_time": "2024-10-02T11:57:05.361Z"
   },
   {
    "duration": 8,
    "start_time": "2024-10-02T11:57:57.691Z"
   },
   {
    "duration": 15,
    "start_time": "2024-10-02T11:58:00.871Z"
   },
   {
    "duration": 9,
    "start_time": "2024-10-02T11:59:05.391Z"
   },
   {
    "duration": 368,
    "start_time": "2024-10-02T11:59:06.051Z"
   },
   {
    "duration": 13,
    "start_time": "2024-10-02T11:59:52.040Z"
   },
   {
    "duration": 19,
    "start_time": "2024-10-02T12:01:28.715Z"
   },
   {
    "duration": 10,
    "start_time": "2024-10-02T12:01:40.887Z"
   },
   {
    "duration": 6,
    "start_time": "2024-10-02T12:01:55.556Z"
   },
   {
    "duration": 69,
    "start_time": "2024-10-03T07:55:21.172Z"
   },
   {
    "duration": 1553,
    "start_time": "2024-10-03T07:55:27.455Z"
   },
   {
    "duration": 204,
    "start_time": "2024-10-03T07:55:29.011Z"
   },
   {
    "duration": 19,
    "start_time": "2024-10-03T07:55:29.217Z"
   },
   {
    "duration": 3,
    "start_time": "2024-10-03T07:55:29.239Z"
   },
   {
    "duration": 29,
    "start_time": "2024-10-03T07:55:29.244Z"
   },
   {
    "duration": 16,
    "start_time": "2024-10-03T07:55:29.275Z"
   },
   {
    "duration": 7,
    "start_time": "2024-10-03T07:55:29.293Z"
   },
   {
    "duration": 8,
    "start_time": "2024-10-03T07:55:29.302Z"
   },
   {
    "duration": 21,
    "start_time": "2024-10-03T07:55:29.312Z"
   },
   {
    "duration": 26,
    "start_time": "2024-10-03T07:55:29.363Z"
   },
   {
    "duration": 23,
    "start_time": "2024-10-03T07:55:29.391Z"
   },
   {
    "duration": 36,
    "start_time": "2024-10-03T07:55:29.416Z"
   },
   {
    "duration": 27,
    "start_time": "2024-10-03T07:55:29.454Z"
   },
   {
    "duration": 22,
    "start_time": "2024-10-03T07:55:29.483Z"
   },
   {
    "duration": 23,
    "start_time": "2024-10-03T07:55:29.507Z"
   },
   {
    "duration": 42,
    "start_time": "2024-10-03T07:55:29.532Z"
   },
   {
    "duration": 10,
    "start_time": "2024-10-03T07:55:29.576Z"
   },
   {
    "duration": 13,
    "start_time": "2024-10-03T07:55:29.588Z"
   },
   {
    "duration": 18,
    "start_time": "2024-10-03T07:55:29.603Z"
   },
   {
    "duration": 9,
    "start_time": "2024-10-03T07:55:29.623Z"
   },
   {
    "duration": 30,
    "start_time": "2024-10-03T07:55:29.633Z"
   },
   {
    "duration": 26,
    "start_time": "2024-10-03T07:55:29.665Z"
   },
   {
    "duration": 12,
    "start_time": "2024-10-03T07:55:44.929Z"
   },
   {
    "duration": 16,
    "start_time": "2024-10-03T07:55:56.364Z"
   },
   {
    "duration": 23,
    "start_time": "2024-10-03T07:56:04.200Z"
   },
   {
    "duration": 13,
    "start_time": "2024-10-03T07:56:39.023Z"
   },
   {
    "duration": 14,
    "start_time": "2024-10-03T07:57:07.252Z"
   },
   {
    "duration": 7,
    "start_time": "2024-10-03T07:57:17.504Z"
   },
   {
    "duration": 16,
    "start_time": "2024-10-03T08:01:49.276Z"
   },
   {
    "duration": 1311,
    "start_time": "2024-10-03T08:02:32.715Z"
   },
   {
    "duration": 71,
    "start_time": "2024-10-03T08:02:34.028Z"
   },
   {
    "duration": 13,
    "start_time": "2024-10-03T08:02:34.101Z"
   },
   {
    "duration": 9,
    "start_time": "2024-10-03T08:02:34.116Z"
   },
   {
    "duration": 32,
    "start_time": "2024-10-03T08:02:34.127Z"
   },
   {
    "duration": 16,
    "start_time": "2024-10-03T08:02:34.160Z"
   },
   {
    "duration": 58,
    "start_time": "2024-10-03T08:02:34.178Z"
   },
   {
    "duration": 36,
    "start_time": "2024-10-03T08:02:34.237Z"
   },
   {
    "duration": 25,
    "start_time": "2024-10-03T08:02:34.275Z"
   },
   {
    "duration": 28,
    "start_time": "2024-10-03T08:02:34.304Z"
   },
   {
    "duration": 19,
    "start_time": "2024-10-03T08:02:34.334Z"
   },
   {
    "duration": 19,
    "start_time": "2024-10-03T08:02:34.360Z"
   },
   {
    "duration": 27,
    "start_time": "2024-10-03T08:02:34.381Z"
   },
   {
    "duration": 61,
    "start_time": "2024-10-03T08:02:34.410Z"
   },
   {
    "duration": 31,
    "start_time": "2024-10-03T08:02:34.474Z"
   },
   {
    "duration": 83,
    "start_time": "2024-10-03T08:02:34.507Z"
   },
   {
    "duration": 12,
    "start_time": "2024-10-03T08:02:34.592Z"
   },
   {
    "duration": 25,
    "start_time": "2024-10-03T08:02:34.606Z"
   },
   {
    "duration": 14,
    "start_time": "2024-10-03T08:02:34.632Z"
   },
   {
    "duration": 28,
    "start_time": "2024-10-03T08:02:34.648Z"
   },
   {
    "duration": 12,
    "start_time": "2024-10-03T08:02:34.677Z"
   },
   {
    "duration": 36,
    "start_time": "2024-10-03T08:02:34.691Z"
   },
   {
    "duration": 1364,
    "start_time": "2024-10-03T08:04:27.181Z"
   },
   {
    "duration": 12,
    "start_time": "2024-10-03T08:18:39.828Z"
   },
   {
    "duration": 22,
    "start_time": "2024-10-03T08:18:44.007Z"
   },
   {
    "duration": 1190,
    "start_time": "2024-10-03T08:20:27.899Z"
   },
   {
    "duration": 2227,
    "start_time": "2024-10-03T08:21:14.136Z"
   },
   {
    "duration": 2095,
    "start_time": "2024-10-03T08:21:24.387Z"
   },
   {
    "duration": 28,
    "start_time": "2024-10-03T08:24:19.989Z"
   },
   {
    "duration": 384,
    "start_time": "2024-10-03T08:34:08.325Z"
   },
   {
    "duration": 4,
    "start_time": "2024-10-03T08:36:38.041Z"
   },
   {
    "duration": 6,
    "start_time": "2024-10-03T08:36:44.131Z"
   },
   {
    "duration": 597,
    "start_time": "2024-10-03T08:36:52.957Z"
   },
   {
    "duration": 553,
    "start_time": "2024-10-03T08:38:06.021Z"
   },
   {
    "duration": 481,
    "start_time": "2024-10-03T08:39:17.699Z"
   },
   {
    "duration": 502,
    "start_time": "2024-10-03T08:39:31.339Z"
   },
   {
    "duration": 570,
    "start_time": "2024-10-03T08:40:23.267Z"
   },
   {
    "duration": 588,
    "start_time": "2024-10-03T08:41:01.536Z"
   },
   {
    "duration": 1231,
    "start_time": "2024-10-03T08:41:38.450Z"
   },
   {
    "duration": 37392,
    "start_time": "2024-10-03T08:42:44.214Z"
   },
   {
    "duration": 38499,
    "start_time": "2024-10-03T08:43:50.461Z"
   },
   {
    "duration": 37542,
    "start_time": "2024-10-03T08:46:51.695Z"
   },
   {
    "duration": 6,
    "start_time": "2024-10-03T08:55:57.643Z"
   },
   {
    "duration": 5,
    "start_time": "2024-10-03T08:56:02.714Z"
   },
   {
    "duration": 630,
    "start_time": "2024-10-03T08:56:50.716Z"
   },
   {
    "duration": 658,
    "start_time": "2024-10-03T08:57:06.232Z"
   },
   {
    "duration": 1541,
    "start_time": "2024-10-03T08:57:22.773Z"
   },
   {
    "duration": 100237,
    "start_time": "2024-10-03T08:57:53.593Z"
   },
   {
    "duration": 97151,
    "start_time": "2024-10-03T09:00:58.604Z"
   },
   {
    "duration": 404,
    "start_time": "2024-10-03T09:03:54.346Z"
   },
   {
    "duration": 405,
    "start_time": "2024-10-03T09:05:14.700Z"
   },
   {
    "duration": 403,
    "start_time": "2024-10-03T09:06:23.104Z"
   },
   {
    "duration": 624,
    "start_time": "2024-10-03T09:06:59.338Z"
   },
   {
    "duration": 378,
    "start_time": "2024-10-03T09:09:49.513Z"
   },
   {
    "duration": 418,
    "start_time": "2024-10-03T09:10:52.212Z"
   },
   {
    "duration": 6,
    "start_time": "2024-10-03T09:12:50.889Z"
   },
   {
    "duration": 700,
    "start_time": "2024-10-03T09:13:31.478Z"
   },
   {
    "duration": 63,
    "start_time": "2024-10-03T09:14:46.429Z"
   },
   {
    "duration": 222,
    "start_time": "2024-10-03T09:16:12.018Z"
   },
   {
    "duration": 126,
    "start_time": "2024-10-03T09:16:46.795Z"
   },
   {
    "duration": 156,
    "start_time": "2024-10-03T09:18:48.485Z"
   },
   {
    "duration": 9,
    "start_time": "2024-10-03T09:19:49.546Z"
   },
   {
    "duration": 2,
    "start_time": "2024-10-03T09:20:55.248Z"
   },
   {
    "duration": 10,
    "start_time": "2024-10-03T09:20:59.525Z"
   },
   {
    "duration": 18,
    "start_time": "2024-10-03T09:23:38.120Z"
   },
   {
    "duration": 680,
    "start_time": "2024-10-03T09:24:07.662Z"
   },
   {
    "duration": 5,
    "start_time": "2024-10-03T09:24:55.883Z"
   },
   {
    "duration": 316,
    "start_time": "2024-10-03T09:25:08.420Z"
   },
   {
    "duration": 634,
    "start_time": "2024-10-03T09:25:23.957Z"
   },
   {
    "duration": 1228,
    "start_time": "2024-10-03T09:25:38.347Z"
   },
   {
    "duration": 496,
    "start_time": "2024-10-03T09:26:08.169Z"
   },
   {
    "duration": 496,
    "start_time": "2024-10-03T09:26:24.337Z"
   },
   {
    "duration": 1285,
    "start_time": "2024-10-03T09:27:29.287Z"
   },
   {
    "duration": 3,
    "start_time": "2024-10-03T09:27:30.575Z"
   },
   {
    "duration": 108,
    "start_time": "2024-10-03T09:27:30.580Z"
   },
   {
    "duration": 13,
    "start_time": "2024-10-03T09:27:30.689Z"
   },
   {
    "duration": 52,
    "start_time": "2024-10-03T09:27:30.705Z"
   },
   {
    "duration": 33,
    "start_time": "2024-10-03T09:27:30.759Z"
   },
   {
    "duration": 11,
    "start_time": "2024-10-03T09:27:30.793Z"
   },
   {
    "duration": 23,
    "start_time": "2024-10-03T09:27:30.806Z"
   },
   {
    "duration": 9,
    "start_time": "2024-10-03T09:27:30.831Z"
   },
   {
    "duration": 28,
    "start_time": "2024-10-03T09:27:30.842Z"
   },
   {
    "duration": 21,
    "start_time": "2024-10-03T09:27:30.871Z"
   },
   {
    "duration": 15,
    "start_time": "2024-10-03T09:27:30.894Z"
   },
   {
    "duration": 20,
    "start_time": "2024-10-03T09:27:30.911Z"
   },
   {
    "duration": 43,
    "start_time": "2024-10-03T09:27:30.934Z"
   },
   {
    "duration": 48,
    "start_time": "2024-10-03T09:27:30.979Z"
   },
   {
    "duration": 23,
    "start_time": "2024-10-03T09:27:31.029Z"
   },
   {
    "duration": 27,
    "start_time": "2024-10-03T09:27:31.054Z"
   },
   {
    "duration": 14,
    "start_time": "2024-10-03T09:27:31.083Z"
   },
   {
    "duration": 28,
    "start_time": "2024-10-03T09:27:31.099Z"
   },
   {
    "duration": 34,
    "start_time": "2024-10-03T09:27:31.129Z"
   },
   {
    "duration": 23,
    "start_time": "2024-10-03T09:27:31.165Z"
   },
   {
    "duration": 11,
    "start_time": "2024-10-03T09:27:31.190Z"
   },
   {
    "duration": 25,
    "start_time": "2024-10-03T09:27:31.203Z"
   },
   {
    "duration": 40,
    "start_time": "2024-10-03T09:27:31.231Z"
   },
   {
    "duration": 7,
    "start_time": "2024-10-03T09:27:31.273Z"
   },
   {
    "duration": 38102,
    "start_time": "2024-10-03T09:27:31.282Z"
   },
   {
    "duration": 5,
    "start_time": "2024-10-03T09:28:09.386Z"
   },
   {
    "duration": 431,
    "start_time": "2024-10-03T09:28:09.393Z"
   },
   {
    "duration": 5,
    "start_time": "2024-10-03T09:28:09.826Z"
   },
   {
    "duration": 745,
    "start_time": "2024-10-03T09:28:09.833Z"
   },
   {
    "duration": 10,
    "start_time": "2024-10-03T09:28:10.580Z"
   },
   {
    "duration": 43,
    "start_time": "2024-10-03T09:28:10.592Z"
   },
   {
    "duration": 485,
    "start_time": "2024-10-03T09:28:10.637Z"
   },
   {
    "duration": 466,
    "start_time": "2024-10-03T09:29:50.477Z"
   },
   {
    "duration": 469,
    "start_time": "2024-10-03T09:30:18.629Z"
   },
   {
    "duration": 712,
    "start_time": "2024-10-03T09:32:39.921Z"
   },
   {
    "duration": 440,
    "start_time": "2024-10-03T09:33:23.461Z"
   },
   {
    "duration": 447,
    "start_time": "2024-10-03T09:33:57.826Z"
   },
   {
    "duration": 1319,
    "start_time": "2024-10-03T09:35:38.866Z"
   },
   {
    "duration": 3,
    "start_time": "2024-10-03T09:35:40.188Z"
   },
   {
    "duration": 64,
    "start_time": "2024-10-03T09:35:40.193Z"
   },
   {
    "duration": 24,
    "start_time": "2024-10-03T09:35:40.259Z"
   },
   {
    "duration": 8,
    "start_time": "2024-10-03T09:35:40.285Z"
   },
   {
    "duration": 15,
    "start_time": "2024-10-03T09:35:40.295Z"
   },
   {
    "duration": 21,
    "start_time": "2024-10-03T09:35:40.312Z"
   },
   {
    "duration": 25,
    "start_time": "2024-10-03T09:35:40.334Z"
   },
   {
    "duration": 51,
    "start_time": "2024-10-03T09:35:40.361Z"
   },
   {
    "duration": 17,
    "start_time": "2024-10-03T09:35:40.414Z"
   },
   {
    "duration": 24,
    "start_time": "2024-10-03T09:35:40.432Z"
   },
   {
    "duration": 22,
    "start_time": "2024-10-03T09:35:40.458Z"
   },
   {
    "duration": 13,
    "start_time": "2024-10-03T09:35:40.482Z"
   },
   {
    "duration": 24,
    "start_time": "2024-10-03T09:35:40.498Z"
   },
   {
    "duration": 43,
    "start_time": "2024-10-03T09:35:40.524Z"
   },
   {
    "duration": 24,
    "start_time": "2024-10-03T09:35:40.570Z"
   },
   {
    "duration": 41,
    "start_time": "2024-10-03T09:35:40.596Z"
   },
   {
    "duration": 18,
    "start_time": "2024-10-03T09:35:40.639Z"
   },
   {
    "duration": 19,
    "start_time": "2024-10-03T09:35:40.660Z"
   },
   {
    "duration": 16,
    "start_time": "2024-10-03T09:35:40.680Z"
   },
   {
    "duration": 20,
    "start_time": "2024-10-03T09:35:40.698Z"
   },
   {
    "duration": 65,
    "start_time": "2024-10-03T09:35:40.720Z"
   },
   {
    "duration": 12,
    "start_time": "2024-10-03T09:35:40.786Z"
   },
   {
    "duration": 27,
    "start_time": "2024-10-03T09:35:40.799Z"
   },
   {
    "duration": 5,
    "start_time": "2024-10-03T09:35:40.827Z"
   },
   {
    "duration": 39624,
    "start_time": "2024-10-03T09:35:40.834Z"
   },
   {
    "duration": 7,
    "start_time": "2024-10-03T09:36:20.461Z"
   },
   {
    "duration": 531,
    "start_time": "2024-10-03T09:36:20.471Z"
   },
   {
    "duration": 7,
    "start_time": "2024-10-03T09:36:21.004Z"
   },
   {
    "duration": 749,
    "start_time": "2024-10-03T09:36:21.013Z"
   },
   {
    "duration": 12,
    "start_time": "2024-10-03T09:36:21.765Z"
   },
   {
    "duration": 513,
    "start_time": "2024-10-03T09:36:21.779Z"
   },
   {
    "duration": 19,
    "start_time": "2024-10-03T09:36:22.294Z"
   },
   {
    "duration": 512,
    "start_time": "2024-10-03T09:36:22.316Z"
   },
   {
    "duration": 7095,
    "start_time": "2024-10-03T09:38:10.960Z"
   },
   {
    "duration": 370,
    "start_time": "2024-10-03T09:39:08.205Z"
   },
   {
    "duration": 1085,
    "start_time": "2024-10-03T09:39:14.601Z"
   },
   {
    "duration": 6868,
    "start_time": "2024-10-03T09:39:38.498Z"
   },
   {
    "duration": 480,
    "start_time": "2024-10-03T09:40:02.463Z"
   },
   {
    "duration": 6,
    "start_time": "2024-10-03T09:40:47.501Z"
   },
   {
    "duration": 101975,
    "start_time": "2024-10-03T09:41:24.921Z"
   },
   {
    "duration": 607,
    "start_time": "2024-10-03T09:43:28.877Z"
   },
   {
    "duration": 7,
    "start_time": "2024-10-03T09:48:05.583Z"
   },
   {
    "duration": 1313,
    "start_time": "2024-10-03T09:48:26.615Z"
   },
   {
    "duration": 674,
    "start_time": "2024-10-03T09:48:54.236Z"
   },
   {
    "duration": 817,
    "start_time": "2024-10-03T09:49:32.259Z"
   },
   {
    "duration": 794,
    "start_time": "2024-10-03T09:50:03.764Z"
   },
   {
    "duration": 609,
    "start_time": "2024-10-03T09:50:11.451Z"
   },
   {
    "duration": 604,
    "start_time": "2024-10-03T09:50:23.822Z"
   },
   {
    "duration": 15,
    "start_time": "2024-10-03T09:50:45.546Z"
   },
   {
    "duration": 796,
    "start_time": "2024-10-03T09:51:17.571Z"
   },
   {
    "duration": 784,
    "start_time": "2024-10-03T09:51:24.511Z"
   },
   {
    "duration": 339,
    "start_time": "2024-10-03T09:52:23.853Z"
   },
   {
    "duration": 897,
    "start_time": "2024-10-03T09:52:39.293Z"
   },
   {
    "duration": 671,
    "start_time": "2024-10-03T09:54:00.346Z"
   },
   {
    "duration": 3678,
    "start_time": "2024-10-03T09:54:05.844Z"
   },
   {
    "duration": 5,
    "start_time": "2024-10-03T09:54:59.779Z"
   },
   {
    "duration": 316,
    "start_time": "2024-10-03T09:55:15.320Z"
   },
   {
    "duration": 19,
    "start_time": "2024-10-03T09:56:44.115Z"
   },
   {
    "duration": 2,
    "start_time": "2024-10-03T09:57:35.502Z"
   },
   {
    "duration": 277,
    "start_time": "2024-10-03T09:58:11.925Z"
   },
   {
    "duration": 261,
    "start_time": "2024-10-03T09:58:23.645Z"
   },
   {
    "duration": 48,
    "start_time": "2024-10-03T09:58:59.494Z"
   },
   {
    "duration": 280,
    "start_time": "2024-10-03T09:59:10.412Z"
   },
   {
    "duration": 312,
    "start_time": "2024-10-03T10:00:55.967Z"
   },
   {
    "duration": 1168,
    "start_time": "2024-10-03T10:01:33.210Z"
   },
   {
    "duration": 327,
    "start_time": "2024-10-03T10:01:43.720Z"
   },
   {
    "duration": 244,
    "start_time": "2024-10-03T10:02:24.990Z"
   },
   {
    "duration": 1264,
    "start_time": "2024-10-03T10:03:56.366Z"
   },
   {
    "duration": 5,
    "start_time": "2024-10-03T10:03:57.632Z"
   },
   {
    "duration": 72,
    "start_time": "2024-10-03T10:03:57.638Z"
   },
   {
    "duration": 19,
    "start_time": "2024-10-03T10:03:57.713Z"
   },
   {
    "duration": 8,
    "start_time": "2024-10-03T10:03:57.734Z"
   },
   {
    "duration": 18,
    "start_time": "2024-10-03T10:03:57.743Z"
   },
   {
    "duration": 37,
    "start_time": "2024-10-03T10:03:57.763Z"
   },
   {
    "duration": 10,
    "start_time": "2024-10-03T10:03:57.802Z"
   },
   {
    "duration": 6,
    "start_time": "2024-10-03T10:03:57.813Z"
   },
   {
    "duration": 35,
    "start_time": "2024-10-03T10:03:57.821Z"
   },
   {
    "duration": 14,
    "start_time": "2024-10-03T10:03:57.858Z"
   },
   {
    "duration": 21,
    "start_time": "2024-10-03T10:03:57.874Z"
   },
   {
    "duration": 22,
    "start_time": "2024-10-03T10:03:57.896Z"
   },
   {
    "duration": 49,
    "start_time": "2024-10-03T10:03:57.919Z"
   },
   {
    "duration": 16,
    "start_time": "2024-10-03T10:03:57.970Z"
   },
   {
    "duration": 17,
    "start_time": "2024-10-03T10:03:57.988Z"
   },
   {
    "duration": 68,
    "start_time": "2024-10-03T10:03:58.007Z"
   },
   {
    "duration": 22,
    "start_time": "2024-10-03T10:03:58.077Z"
   },
   {
    "duration": 11,
    "start_time": "2024-10-03T10:03:58.100Z"
   },
   {
    "duration": 15,
    "start_time": "2024-10-03T10:03:58.112Z"
   },
   {
    "duration": 48,
    "start_time": "2024-10-03T10:03:58.129Z"
   },
   {
    "duration": 20,
    "start_time": "2024-10-03T10:03:58.181Z"
   },
   {
    "duration": 12,
    "start_time": "2024-10-03T10:03:58.203Z"
   },
   {
    "duration": 22,
    "start_time": "2024-10-03T10:03:58.217Z"
   },
   {
    "duration": 39,
    "start_time": "2024-10-03T10:03:58.241Z"
   },
   {
    "duration": 5,
    "start_time": "2024-10-03T10:03:58.282Z"
   },
   {
    "duration": 36351,
    "start_time": "2024-10-03T10:03:58.288Z"
   },
   {
    "duration": 7,
    "start_time": "2024-10-03T10:04:34.655Z"
   },
   {
    "duration": 623,
    "start_time": "2024-10-03T10:04:34.664Z"
   },
   {
    "duration": 6,
    "start_time": "2024-10-03T10:04:35.289Z"
   },
   {
    "duration": 817,
    "start_time": "2024-10-03T10:04:35.296Z"
   },
   {
    "duration": 9,
    "start_time": "2024-10-03T10:04:36.115Z"
   },
   {
    "duration": 33,
    "start_time": "2024-10-03T10:04:36.126Z"
   },
   {
    "duration": 460,
    "start_time": "2024-10-03T10:04:36.161Z"
   },
   {
    "duration": 5,
    "start_time": "2024-10-03T10:04:36.623Z"
   },
   {
    "duration": 735,
    "start_time": "2024-10-03T10:04:36.629Z"
   },
   {
    "duration": 9,
    "start_time": "2024-10-03T10:04:37.366Z"
   },
   {
    "duration": 16,
    "start_time": "2024-10-03T10:04:37.376Z"
   },
   {
    "duration": 398,
    "start_time": "2024-10-03T10:04:37.394Z"
   },
   {
    "duration": 364,
    "start_time": "2024-10-03T10:04:37.794Z"
   },
   {
    "duration": 258,
    "start_time": "2024-10-03T10:04:38.160Z"
   },
   {
    "duration": 1290,
    "start_time": "2024-10-03T10:05:22.722Z"
   },
   {
    "duration": 2,
    "start_time": "2024-10-03T10:05:24.015Z"
   },
   {
    "duration": 72,
    "start_time": "2024-10-03T10:05:24.019Z"
   },
   {
    "duration": 13,
    "start_time": "2024-10-03T10:05:24.093Z"
   },
   {
    "duration": 3,
    "start_time": "2024-10-03T10:05:24.109Z"
   },
   {
    "duration": 24,
    "start_time": "2024-10-03T10:05:24.113Z"
   },
   {
    "duration": 53,
    "start_time": "2024-10-03T10:05:24.138Z"
   },
   {
    "duration": 11,
    "start_time": "2024-10-03T10:05:24.192Z"
   },
   {
    "duration": 7,
    "start_time": "2024-10-03T10:05:24.205Z"
   },
   {
    "duration": 42,
    "start_time": "2024-10-03T10:05:24.214Z"
   },
   {
    "duration": 15,
    "start_time": "2024-10-03T10:05:24.257Z"
   },
   {
    "duration": 22,
    "start_time": "2024-10-03T10:05:24.274Z"
   },
   {
    "duration": 16,
    "start_time": "2024-10-03T10:05:24.297Z"
   },
   {
    "duration": 46,
    "start_time": "2024-10-03T10:05:24.316Z"
   },
   {
    "duration": 14,
    "start_time": "2024-10-03T10:05:24.364Z"
   },
   {
    "duration": 30,
    "start_time": "2024-10-03T10:05:24.380Z"
   },
   {
    "duration": 22,
    "start_time": "2024-10-03T10:05:24.413Z"
   },
   {
    "duration": 40,
    "start_time": "2024-10-03T10:05:24.437Z"
   },
   {
    "duration": 12,
    "start_time": "2024-10-03T10:05:24.479Z"
   },
   {
    "duration": 22,
    "start_time": "2024-10-03T10:05:24.493Z"
   },
   {
    "duration": 42,
    "start_time": "2024-10-03T10:05:24.517Z"
   },
   {
    "duration": 29,
    "start_time": "2024-10-03T10:05:24.561Z"
   },
   {
    "duration": 12,
    "start_time": "2024-10-03T10:05:24.592Z"
   },
   {
    "duration": 12,
    "start_time": "2024-10-03T10:05:24.606Z"
   },
   {
    "duration": 53,
    "start_time": "2024-10-03T10:05:24.620Z"
   },
   {
    "duration": 7,
    "start_time": "2024-10-03T10:05:24.675Z"
   },
   {
    "duration": 36673,
    "start_time": "2024-10-03T10:05:24.684Z"
   },
   {
    "duration": 6,
    "start_time": "2024-10-03T10:06:01.359Z"
   },
   {
    "duration": 424,
    "start_time": "2024-10-03T10:06:01.367Z"
   },
   {
    "duration": 6,
    "start_time": "2024-10-03T10:06:01.793Z"
   },
   {
    "duration": 732,
    "start_time": "2024-10-03T10:06:01.801Z"
   },
   {
    "duration": 10,
    "start_time": "2024-10-03T10:06:02.534Z"
   },
   {
    "duration": 51,
    "start_time": "2024-10-03T10:06:02.557Z"
   },
   {
    "duration": 455,
    "start_time": "2024-10-03T10:06:02.610Z"
   },
   {
    "duration": 6,
    "start_time": "2024-10-03T10:06:03.067Z"
   },
   {
    "duration": 795,
    "start_time": "2024-10-03T10:06:03.075Z"
   },
   {
    "duration": 9,
    "start_time": "2024-10-03T10:06:03.872Z"
   },
   {
    "duration": 23,
    "start_time": "2024-10-03T10:06:03.882Z"
   },
   {
    "duration": 345,
    "start_time": "2024-10-03T10:06:03.906Z"
   },
   {
    "duration": 311,
    "start_time": "2024-10-03T10:06:04.254Z"
   },
   {
    "duration": 254,
    "start_time": "2024-10-03T10:06:04.569Z"
   },
   {
    "duration": 1281,
    "start_time": "2024-10-03T10:06:56.700Z"
   },
   {
    "duration": 3,
    "start_time": "2024-10-03T10:06:57.983Z"
   },
   {
    "duration": 69,
    "start_time": "2024-10-03T10:06:57.988Z"
   },
   {
    "duration": 13,
    "start_time": "2024-10-03T10:06:58.059Z"
   },
   {
    "duration": 3,
    "start_time": "2024-10-03T10:06:58.074Z"
   },
   {
    "duration": 21,
    "start_time": "2024-10-03T10:06:58.079Z"
   },
   {
    "duration": 61,
    "start_time": "2024-10-03T10:06:58.101Z"
   },
   {
    "duration": 10,
    "start_time": "2024-10-03T10:06:58.164Z"
   },
   {
    "duration": 6,
    "start_time": "2024-10-03T10:06:58.176Z"
   },
   {
    "duration": 10,
    "start_time": "2024-10-03T10:06:58.184Z"
   },
   {
    "duration": 15,
    "start_time": "2024-10-03T10:06:58.196Z"
   },
   {
    "duration": 54,
    "start_time": "2024-10-03T10:06:58.212Z"
   },
   {
    "duration": 15,
    "start_time": "2024-10-03T10:06:58.268Z"
   },
   {
    "duration": 13,
    "start_time": "2024-10-03T10:06:58.287Z"
   },
   {
    "duration": 14,
    "start_time": "2024-10-03T10:06:58.302Z"
   },
   {
    "duration": 47,
    "start_time": "2024-10-03T10:06:58.318Z"
   },
   {
    "duration": 21,
    "start_time": "2024-10-03T10:06:58.367Z"
   },
   {
    "duration": 21,
    "start_time": "2024-10-03T10:06:58.390Z"
   },
   {
    "duration": 10,
    "start_time": "2024-10-03T10:06:58.413Z"
   },
   {
    "duration": 40,
    "start_time": "2024-10-03T10:06:58.425Z"
   },
   {
    "duration": 14,
    "start_time": "2024-10-03T10:06:58.468Z"
   },
   {
    "duration": 25,
    "start_time": "2024-10-03T10:06:58.483Z"
   },
   {
    "duration": 10,
    "start_time": "2024-10-03T10:06:58.510Z"
   },
   {
    "duration": 35,
    "start_time": "2024-10-03T10:06:58.522Z"
   },
   {
    "duration": 119,
    "start_time": "2024-10-03T10:06:58.558Z"
   },
   {
    "duration": 0,
    "start_time": "2024-10-03T10:06:58.679Z"
   },
   {
    "duration": 0,
    "start_time": "2024-10-03T10:06:58.681Z"
   },
   {
    "duration": 0,
    "start_time": "2024-10-03T10:06:58.682Z"
   },
   {
    "duration": 0,
    "start_time": "2024-10-03T10:06:58.683Z"
   },
   {
    "duration": 0,
    "start_time": "2024-10-03T10:06:58.684Z"
   },
   {
    "duration": 0,
    "start_time": "2024-10-03T10:06:58.685Z"
   },
   {
    "duration": 0,
    "start_time": "2024-10-03T10:06:58.686Z"
   },
   {
    "duration": 0,
    "start_time": "2024-10-03T10:06:58.687Z"
   },
   {
    "duration": 0,
    "start_time": "2024-10-03T10:06:58.688Z"
   },
   {
    "duration": 0,
    "start_time": "2024-10-03T10:06:58.690Z"
   },
   {
    "duration": 0,
    "start_time": "2024-10-03T10:06:58.691Z"
   },
   {
    "duration": 0,
    "start_time": "2024-10-03T10:06:58.692Z"
   },
   {
    "duration": 0,
    "start_time": "2024-10-03T10:06:58.693Z"
   },
   {
    "duration": 0,
    "start_time": "2024-10-03T10:06:58.694Z"
   },
   {
    "duration": 0,
    "start_time": "2024-10-03T10:06:58.695Z"
   },
   {
    "duration": 0,
    "start_time": "2024-10-03T10:06:58.696Z"
   },
   {
    "duration": 26,
    "start_time": "2024-10-03T10:08:59.459Z"
   },
   {
    "duration": 26,
    "start_time": "2024-10-03T10:09:07.125Z"
   },
   {
    "duration": 26,
    "start_time": "2024-10-03T10:09:31.836Z"
   },
   {
    "duration": 25,
    "start_time": "2024-10-03T10:09:43.892Z"
   },
   {
    "duration": 25,
    "start_time": "2024-10-03T10:09:48.763Z"
   },
   {
    "duration": 1346,
    "start_time": "2024-10-03T10:10:14.833Z"
   },
   {
    "duration": 3,
    "start_time": "2024-10-03T10:10:16.182Z"
   },
   {
    "duration": 75,
    "start_time": "2024-10-03T10:10:16.187Z"
   },
   {
    "duration": 21,
    "start_time": "2024-10-03T10:10:16.264Z"
   },
   {
    "duration": 4,
    "start_time": "2024-10-03T10:10:16.289Z"
   },
   {
    "duration": 21,
    "start_time": "2024-10-03T10:10:16.295Z"
   },
   {
    "duration": 83,
    "start_time": "2024-10-03T10:10:16.318Z"
   },
   {
    "duration": 12,
    "start_time": "2024-10-03T10:10:16.403Z"
   },
   {
    "duration": 25,
    "start_time": "2024-10-03T10:10:16.417Z"
   },
   {
    "duration": 29,
    "start_time": "2024-10-03T10:10:16.444Z"
   },
   {
    "duration": 22,
    "start_time": "2024-10-03T10:10:16.475Z"
   },
   {
    "duration": 28,
    "start_time": "2024-10-03T10:10:16.499Z"
   },
   {
    "duration": 25,
    "start_time": "2024-10-03T10:10:16.529Z"
   },
   {
    "duration": 21,
    "start_time": "2024-10-03T10:10:16.558Z"
   },
   {
    "duration": 18,
    "start_time": "2024-10-03T10:10:16.581Z"
   },
   {
    "duration": 23,
    "start_time": "2024-10-03T10:10:16.601Z"
   },
   {
    "duration": 52,
    "start_time": "2024-10-03T10:10:16.626Z"
   },
   {
    "duration": 24,
    "start_time": "2024-10-03T10:10:16.680Z"
   },
   {
    "duration": 12,
    "start_time": "2024-10-03T10:10:16.705Z"
   },
   {
    "duration": 73,
    "start_time": "2024-10-03T10:10:16.719Z"
   },
   {
    "duration": 82,
    "start_time": "2024-10-03T10:10:16.793Z"
   },
   {
    "duration": 21,
    "start_time": "2024-10-03T10:10:16.876Z"
   },
   {
    "duration": 14,
    "start_time": "2024-10-03T10:10:16.899Z"
   },
   {
    "duration": 6,
    "start_time": "2024-10-03T10:10:16.916Z"
   },
   {
    "duration": 49,
    "start_time": "2024-10-03T10:10:16.924Z"
   },
   {
    "duration": 6,
    "start_time": "2024-10-03T10:10:16.975Z"
   },
   {
    "duration": 36346,
    "start_time": "2024-10-03T10:10:16.982Z"
   },
   {
    "duration": 7,
    "start_time": "2024-10-03T10:10:53.329Z"
   },
   {
    "duration": 418,
    "start_time": "2024-10-03T10:10:53.337Z"
   },
   {
    "duration": 5,
    "start_time": "2024-10-03T10:10:53.757Z"
   },
   {
    "duration": 668,
    "start_time": "2024-10-03T10:10:53.764Z"
   },
   {
    "duration": 8,
    "start_time": "2024-10-03T10:10:54.434Z"
   },
   {
    "duration": 14,
    "start_time": "2024-10-03T10:10:54.444Z"
   },
   {
    "duration": 441,
    "start_time": "2024-10-03T10:10:54.459Z"
   },
   {
    "duration": 6,
    "start_time": "2024-10-03T10:10:54.902Z"
   },
   {
    "duration": 734,
    "start_time": "2024-10-03T10:10:54.910Z"
   },
   {
    "duration": 15,
    "start_time": "2024-10-03T10:10:55.646Z"
   },
   {
    "duration": 5,
    "start_time": "2024-10-03T10:10:55.663Z"
   },
   {
    "duration": 358,
    "start_time": "2024-10-03T10:10:55.669Z"
   },
   {
    "duration": 326,
    "start_time": "2024-10-03T10:10:56.029Z"
   },
   {
    "duration": 260,
    "start_time": "2024-10-03T10:10:56.359Z"
   },
   {
    "duration": 252,
    "start_time": "2024-10-03T10:13:05.590Z"
   },
   {
    "duration": 5,
    "start_time": "2024-10-03T10:18:42.827Z"
   },
   {
    "duration": 1685,
    "start_time": "2024-10-03T10:18:56.420Z"
   },
   {
    "duration": 5,
    "start_time": "2024-10-03T10:19:16.629Z"
   },
   {
    "duration": 1643,
    "start_time": "2024-10-03T10:19:20.092Z"
   },
   {
    "duration": 5,
    "start_time": "2024-10-03T10:19:51.789Z"
   },
   {
    "duration": 1737,
    "start_time": "2024-10-03T10:19:53.725Z"
   },
   {
    "duration": 129,
    "start_time": "2024-10-03T10:26:40.235Z"
   },
   {
    "duration": 72,
    "start_time": "2024-10-03T10:26:52.711Z"
   },
   {
    "duration": 10,
    "start_time": "2024-10-03T10:27:04.085Z"
   },
   {
    "duration": 3703,
    "start_time": "2024-10-03T10:27:18.786Z"
   },
   {
    "duration": 3,
    "start_time": "2024-10-03T10:28:45.625Z"
   },
   {
    "duration": 1244,
    "start_time": "2024-10-03T10:28:45.630Z"
   },
   {
    "duration": 3,
    "start_time": "2024-10-03T10:28:46.876Z"
   },
   {
    "duration": 106,
    "start_time": "2024-10-03T10:28:46.880Z"
   },
   {
    "duration": 18,
    "start_time": "2024-10-03T10:28:46.988Z"
   },
   {
    "duration": 4,
    "start_time": "2024-10-03T10:28:47.007Z"
   },
   {
    "duration": 19,
    "start_time": "2024-10-03T10:28:47.013Z"
   },
   {
    "duration": 66,
    "start_time": "2024-10-03T10:28:47.034Z"
   },
   {
    "duration": 12,
    "start_time": "2024-10-03T10:28:47.101Z"
   },
   {
    "duration": 28,
    "start_time": "2024-10-03T10:28:47.115Z"
   },
   {
    "duration": 25,
    "start_time": "2024-10-03T10:28:47.146Z"
   },
   {
    "duration": 51,
    "start_time": "2024-10-03T10:28:47.173Z"
   },
   {
    "duration": 22,
    "start_time": "2024-10-03T10:28:47.226Z"
   },
   {
    "duration": 23,
    "start_time": "2024-10-03T10:28:47.250Z"
   },
   {
    "duration": 25,
    "start_time": "2024-10-03T10:28:47.275Z"
   },
   {
    "duration": 13,
    "start_time": "2024-10-03T10:28:47.302Z"
   },
   {
    "duration": 20,
    "start_time": "2024-10-03T10:28:47.316Z"
   },
   {
    "duration": 36,
    "start_time": "2024-10-03T10:28:47.338Z"
   },
   {
    "duration": 21,
    "start_time": "2024-10-03T10:28:47.376Z"
   },
   {
    "duration": 10,
    "start_time": "2024-10-03T10:28:47.398Z"
   },
   {
    "duration": 12,
    "start_time": "2024-10-03T10:28:47.409Z"
   },
   {
    "duration": 50,
    "start_time": "2024-10-03T10:28:47.423Z"
   },
   {
    "duration": 27,
    "start_time": "2024-10-03T10:28:47.476Z"
   },
   {
    "duration": 9,
    "start_time": "2024-10-03T10:28:47.505Z"
   },
   {
    "duration": 5,
    "start_time": "2024-10-03T10:28:47.515Z"
   },
   {
    "duration": 55,
    "start_time": "2024-10-03T10:28:47.521Z"
   },
   {
    "duration": 6,
    "start_time": "2024-10-03T10:28:47.577Z"
   },
   {
    "duration": 38285,
    "start_time": "2024-10-03T10:28:47.585Z"
   },
   {
    "duration": 6,
    "start_time": "2024-10-03T10:29:25.874Z"
   },
   {
    "duration": 441,
    "start_time": "2024-10-03T10:29:25.881Z"
   },
   {
    "duration": 5,
    "start_time": "2024-10-03T10:29:26.324Z"
   },
   {
    "duration": 692,
    "start_time": "2024-10-03T10:29:26.331Z"
   },
   {
    "duration": 9,
    "start_time": "2024-10-03T10:29:27.024Z"
   },
   {
    "duration": 5,
    "start_time": "2024-10-03T10:29:27.034Z"
   },
   {
    "duration": 489,
    "start_time": "2024-10-03T10:29:27.058Z"
   },
   {
    "duration": 20,
    "start_time": "2024-10-03T10:29:27.555Z"
   },
   {
    "duration": 805,
    "start_time": "2024-10-03T10:29:27.582Z"
   },
   {
    "duration": 9,
    "start_time": "2024-10-03T10:29:28.388Z"
   },
   {
    "duration": 3,
    "start_time": "2024-10-03T10:29:28.399Z"
   },
   {
    "duration": 369,
    "start_time": "2024-10-03T10:29:28.404Z"
   },
   {
    "duration": 5,
    "start_time": "2024-10-03T10:29:28.775Z"
   },
   {
    "duration": 1735,
    "start_time": "2024-10-03T10:29:28.782Z"
   },
   {
    "duration": 3,
    "start_time": "2024-10-03T10:31:20.403Z"
   },
   {
    "duration": 1314,
    "start_time": "2024-10-03T10:31:20.408Z"
   },
   {
    "duration": 3,
    "start_time": "2024-10-03T10:31:21.724Z"
   },
   {
    "duration": 77,
    "start_time": "2024-10-03T10:31:21.728Z"
   },
   {
    "duration": 13,
    "start_time": "2024-10-03T10:31:21.808Z"
   },
   {
    "duration": 29,
    "start_time": "2024-10-03T10:31:21.823Z"
   },
   {
    "duration": 30,
    "start_time": "2024-10-03T10:31:21.854Z"
   },
   {
    "duration": 37,
    "start_time": "2024-10-03T10:31:21.886Z"
   },
   {
    "duration": 11,
    "start_time": "2024-10-03T10:31:21.925Z"
   },
   {
    "duration": 25,
    "start_time": "2024-10-03T10:31:21.938Z"
   },
   {
    "duration": 9,
    "start_time": "2024-10-03T10:31:21.967Z"
   },
   {
    "duration": 22,
    "start_time": "2024-10-03T10:31:21.978Z"
   },
   {
    "duration": 21,
    "start_time": "2024-10-03T10:31:22.003Z"
   },
   {
    "duration": 55,
    "start_time": "2024-10-03T10:31:22.026Z"
   },
   {
    "duration": 33,
    "start_time": "2024-10-03T10:31:22.083Z"
   },
   {
    "duration": 30,
    "start_time": "2024-10-03T10:31:22.118Z"
   },
   {
    "duration": 25,
    "start_time": "2024-10-03T10:31:22.150Z"
   },
   {
    "duration": 24,
    "start_time": "2024-10-03T10:31:22.178Z"
   },
   {
    "duration": 44,
    "start_time": "2024-10-03T10:31:22.204Z"
   },
   {
    "duration": 25,
    "start_time": "2024-10-03T10:31:22.250Z"
   },
   {
    "duration": 14,
    "start_time": "2024-10-03T10:31:22.277Z"
   },
   {
    "duration": 14,
    "start_time": "2024-10-03T10:31:22.292Z"
   },
   {
    "duration": 23,
    "start_time": "2024-10-03T10:31:22.308Z"
   },
   {
    "duration": 31,
    "start_time": "2024-10-03T10:31:22.332Z"
   },
   {
    "duration": 8,
    "start_time": "2024-10-03T10:31:22.364Z"
   },
   {
    "duration": 50,
    "start_time": "2024-10-03T10:31:22.374Z"
   },
   {
    "duration": 6,
    "start_time": "2024-10-03T10:31:22.426Z"
   },
   {
    "duration": 571,
    "start_time": "2024-10-03T10:31:22.433Z"
   },
   {
    "duration": 6,
    "start_time": "2024-10-03T10:31:23.006Z"
   },
   {
    "duration": 440,
    "start_time": "2024-10-03T10:31:23.013Z"
   },
   {
    "duration": 11,
    "start_time": "2024-10-03T10:31:23.462Z"
   },
   {
    "duration": 755,
    "start_time": "2024-10-03T10:31:23.475Z"
   },
   {
    "duration": 9,
    "start_time": "2024-10-03T10:31:24.233Z"
   },
   {
    "duration": 25,
    "start_time": "2024-10-03T10:31:24.243Z"
   },
   {
    "duration": 558,
    "start_time": "2024-10-03T10:31:24.272Z"
   },
   {
    "duration": 5,
    "start_time": "2024-10-03T10:31:24.832Z"
   },
   {
    "duration": 850,
    "start_time": "2024-10-03T10:31:24.840Z"
   },
   {
    "duration": 10,
    "start_time": "2024-10-03T10:31:25.692Z"
   },
   {
    "duration": 9,
    "start_time": "2024-10-03T10:31:25.704Z"
   },
   {
    "duration": 378,
    "start_time": "2024-10-03T10:31:25.715Z"
   },
   {
    "duration": 5,
    "start_time": "2024-10-03T10:31:26.095Z"
   },
   {
    "duration": 1918,
    "start_time": "2024-10-03T10:31:26.101Z"
   },
   {
    "duration": 4,
    "start_time": "2024-10-03T10:34:33.845Z"
   },
   {
    "duration": 1366,
    "start_time": "2024-10-03T10:34:33.851Z"
   },
   {
    "duration": 3,
    "start_time": "2024-10-03T10:34:35.219Z"
   },
   {
    "duration": 101,
    "start_time": "2024-10-03T10:34:35.224Z"
   },
   {
    "duration": 13,
    "start_time": "2024-10-03T10:34:35.327Z"
   },
   {
    "duration": 14,
    "start_time": "2024-10-03T10:34:35.342Z"
   },
   {
    "duration": 42,
    "start_time": "2024-10-03T10:34:35.362Z"
   },
   {
    "duration": 70,
    "start_time": "2024-10-03T10:34:35.406Z"
   },
   {
    "duration": 11,
    "start_time": "2024-10-03T10:34:35.479Z"
   },
   {
    "duration": 14,
    "start_time": "2024-10-03T10:34:35.494Z"
   },
   {
    "duration": 39,
    "start_time": "2024-10-03T10:34:35.510Z"
   },
   {
    "duration": 29,
    "start_time": "2024-10-03T10:34:35.551Z"
   },
   {
    "duration": 25,
    "start_time": "2024-10-03T10:34:35.581Z"
   },
   {
    "duration": 33,
    "start_time": "2024-10-03T10:34:35.607Z"
   },
   {
    "duration": 30,
    "start_time": "2024-10-03T10:34:35.641Z"
   },
   {
    "duration": 22,
    "start_time": "2024-10-03T10:34:35.673Z"
   },
   {
    "duration": 15,
    "start_time": "2024-10-03T10:34:35.696Z"
   },
   {
    "duration": 41,
    "start_time": "2024-10-03T10:34:35.712Z"
   },
   {
    "duration": 32,
    "start_time": "2024-10-03T10:34:35.755Z"
   },
   {
    "duration": 81,
    "start_time": "2024-10-03T10:34:35.789Z"
   },
   {
    "duration": 43,
    "start_time": "2024-10-03T10:34:35.873Z"
   },
   {
    "duration": 62,
    "start_time": "2024-10-03T10:34:35.918Z"
   },
   {
    "duration": 46,
    "start_time": "2024-10-03T10:34:35.982Z"
   },
   {
    "duration": 13,
    "start_time": "2024-10-03T10:34:36.030Z"
   },
   {
    "duration": 26,
    "start_time": "2024-10-03T10:34:36.044Z"
   },
   {
    "duration": 82,
    "start_time": "2024-10-03T10:34:36.073Z"
   },
   {
    "duration": 7,
    "start_time": "2024-10-03T10:34:36.157Z"
   },
   {
    "duration": 600,
    "start_time": "2024-10-03T10:34:36.173Z"
   },
   {
    "duration": 6,
    "start_time": "2024-10-03T10:34:36.776Z"
   },
   {
    "duration": 459,
    "start_time": "2024-10-03T10:34:36.783Z"
   },
   {
    "duration": 15,
    "start_time": "2024-10-03T10:34:37.243Z"
   },
   {
    "duration": 725,
    "start_time": "2024-10-03T10:34:37.259Z"
   },
   {
    "duration": 9,
    "start_time": "2024-10-03T10:34:37.986Z"
   },
   {
    "duration": 6,
    "start_time": "2024-10-03T10:34:37.997Z"
   },
   {
    "duration": 580,
    "start_time": "2024-10-03T10:34:38.004Z"
   },
   {
    "duration": 6,
    "start_time": "2024-10-03T10:34:38.586Z"
   },
   {
    "duration": 794,
    "start_time": "2024-10-03T10:34:38.594Z"
   },
   {
    "duration": 8,
    "start_time": "2024-10-03T10:34:39.390Z"
   },
   {
    "duration": 4,
    "start_time": "2024-10-03T10:34:39.400Z"
   },
   {
    "duration": 369,
    "start_time": "2024-10-03T10:34:39.406Z"
   },
   {
    "duration": 6,
    "start_time": "2024-10-03T10:34:39.777Z"
   },
   {
    "duration": 1931,
    "start_time": "2024-10-03T10:34:39.785Z"
   },
   {
    "duration": 19851,
    "start_time": "2024-10-03T10:34:41.718Z"
   },
   {
    "duration": 4,
    "start_time": "2024-10-03T10:36:34.344Z"
   },
   {
    "duration": 19619,
    "start_time": "2024-10-03T10:36:40.188Z"
   },
   {
    "duration": 4,
    "start_time": "2024-10-03T10:38:55.689Z"
   },
   {
    "duration": 1212,
    "start_time": "2024-10-03T10:38:55.696Z"
   },
   {
    "duration": 3,
    "start_time": "2024-10-03T10:38:56.910Z"
   },
   {
    "duration": 119,
    "start_time": "2024-10-03T10:38:56.915Z"
   },
   {
    "duration": 13,
    "start_time": "2024-10-03T10:38:57.035Z"
   },
   {
    "duration": 4,
    "start_time": "2024-10-03T10:38:57.050Z"
   },
   {
    "duration": 22,
    "start_time": "2024-10-03T10:38:57.058Z"
   },
   {
    "duration": 37,
    "start_time": "2024-10-03T10:38:57.082Z"
   },
   {
    "duration": 37,
    "start_time": "2024-10-03T10:38:57.123Z"
   },
   {
    "duration": 11,
    "start_time": "2024-10-03T10:38:57.161Z"
   },
   {
    "duration": 9,
    "start_time": "2024-10-03T10:38:57.179Z"
   },
   {
    "duration": 15,
    "start_time": "2024-10-03T10:38:57.189Z"
   },
   {
    "duration": 21,
    "start_time": "2024-10-03T10:38:57.206Z"
   },
   {
    "duration": 48,
    "start_time": "2024-10-03T10:38:57.229Z"
   },
   {
    "duration": 20,
    "start_time": "2024-10-03T10:38:57.279Z"
   },
   {
    "duration": 17,
    "start_time": "2024-10-03T10:38:57.301Z"
   },
   {
    "duration": 47,
    "start_time": "2024-10-03T10:38:57.319Z"
   },
   {
    "duration": 30,
    "start_time": "2024-10-03T10:38:57.367Z"
   },
   {
    "duration": 25,
    "start_time": "2024-10-03T10:38:57.399Z"
   },
   {
    "duration": 10,
    "start_time": "2024-10-03T10:38:57.426Z"
   },
   {
    "duration": 28,
    "start_time": "2024-10-03T10:38:57.438Z"
   },
   {
    "duration": 19,
    "start_time": "2024-10-03T10:38:57.468Z"
   },
   {
    "duration": 22,
    "start_time": "2024-10-03T10:38:57.489Z"
   },
   {
    "duration": 10,
    "start_time": "2024-10-03T10:38:57.514Z"
   },
   {
    "duration": 15,
    "start_time": "2024-10-03T10:38:57.557Z"
   },
   {
    "duration": 49,
    "start_time": "2024-10-03T10:38:57.574Z"
   },
   {
    "duration": 7,
    "start_time": "2024-10-03T10:38:57.625Z"
   },
   {
    "duration": 540,
    "start_time": "2024-10-03T10:38:57.634Z"
   },
   {
    "duration": 5,
    "start_time": "2024-10-03T10:38:58.176Z"
   },
   {
    "duration": 464,
    "start_time": "2024-10-03T10:38:58.183Z"
   },
   {
    "duration": 13,
    "start_time": "2024-10-03T10:38:58.655Z"
   },
   {
    "duration": 814,
    "start_time": "2024-10-03T10:38:58.673Z"
   },
   {
    "duration": 8,
    "start_time": "2024-10-03T10:38:59.489Z"
   },
   {
    "duration": 5,
    "start_time": "2024-10-03T10:38:59.499Z"
   },
   {
    "duration": 499,
    "start_time": "2024-10-03T10:38:59.506Z"
   },
   {
    "duration": 5,
    "start_time": "2024-10-03T10:39:00.007Z"
   },
   {
    "duration": 884,
    "start_time": "2024-10-03T10:39:00.014Z"
   },
   {
    "duration": 8,
    "start_time": "2024-10-03T10:39:00.900Z"
   },
   {
    "duration": 56,
    "start_time": "2024-10-03T10:39:00.910Z"
   },
   {
    "duration": 415,
    "start_time": "2024-10-03T10:39:00.967Z"
   },
   {
    "duration": 5,
    "start_time": "2024-10-03T10:39:01.384Z"
   },
   {
    "duration": 1921,
    "start_time": "2024-10-03T10:39:01.391Z"
   },
   {
    "duration": 19820,
    "start_time": "2024-10-03T10:39:03.314Z"
   },
   {
    "duration": 10,
    "start_time": "2024-10-03T10:44:38.324Z"
   },
   {
    "duration": 7,
    "start_time": "2024-10-03T10:46:11.066Z"
   },
   {
    "duration": 13,
    "start_time": "2024-10-03T10:46:44.936Z"
   },
   {
    "duration": 11,
    "start_time": "2024-10-03T10:47:30.469Z"
   },
   {
    "duration": 18,
    "start_time": "2024-10-03T10:47:59.355Z"
   },
   {
    "duration": 13,
    "start_time": "2024-10-03T10:50:20.657Z"
   },
   {
    "duration": 17,
    "start_time": "2024-10-03T10:52:38.936Z"
   },
   {
    "duration": 14,
    "start_time": "2024-10-03T10:56:14.805Z"
   },
   {
    "duration": 14,
    "start_time": "2024-10-03T10:56:26.473Z"
   },
   {
    "duration": 9,
    "start_time": "2024-10-03T10:57:41.396Z"
   },
   {
    "duration": 17,
    "start_time": "2024-10-03T10:57:44.220Z"
   },
   {
    "duration": 13,
    "start_time": "2024-10-03T10:59:10.348Z"
   },
   {
    "duration": 9,
    "start_time": "2024-10-03T11:01:07.940Z"
   },
   {
    "duration": 16,
    "start_time": "2024-10-03T11:01:17.632Z"
   },
   {
    "duration": 11,
    "start_time": "2024-10-03T11:01:37.313Z"
   },
   {
    "duration": 13,
    "start_time": "2024-10-03T11:01:48.301Z"
   },
   {
    "duration": 18,
    "start_time": "2024-10-03T11:02:15.340Z"
   },
   {
    "duration": 3,
    "start_time": "2024-10-03T14:59:35.941Z"
   },
   {
    "duration": 1420,
    "start_time": "2024-10-03T14:59:35.945Z"
   },
   {
    "duration": 0,
    "start_time": "2024-10-03T14:59:37.368Z"
   },
   {
    "duration": 0,
    "start_time": "2024-10-03T14:59:37.369Z"
   },
   {
    "duration": 0,
    "start_time": "2024-10-03T14:59:37.370Z"
   },
   {
    "duration": 0,
    "start_time": "2024-10-03T14:59:37.371Z"
   },
   {
    "duration": 0,
    "start_time": "2024-10-03T14:59:37.371Z"
   },
   {
    "duration": 0,
    "start_time": "2024-10-03T14:59:37.372Z"
   },
   {
    "duration": 0,
    "start_time": "2024-10-03T14:59:37.376Z"
   },
   {
    "duration": 0,
    "start_time": "2024-10-03T14:59:37.376Z"
   },
   {
    "duration": 0,
    "start_time": "2024-10-03T14:59:37.378Z"
   },
   {
    "duration": 0,
    "start_time": "2024-10-03T14:59:37.378Z"
   },
   {
    "duration": 0,
    "start_time": "2024-10-03T14:59:37.379Z"
   },
   {
    "duration": 1,
    "start_time": "2024-10-03T14:59:37.380Z"
   },
   {
    "duration": 0,
    "start_time": "2024-10-03T14:59:37.381Z"
   },
   {
    "duration": 0,
    "start_time": "2024-10-03T14:59:37.382Z"
   },
   {
    "duration": 0,
    "start_time": "2024-10-03T14:59:37.383Z"
   },
   {
    "duration": 0,
    "start_time": "2024-10-03T14:59:37.384Z"
   },
   {
    "duration": 0,
    "start_time": "2024-10-03T14:59:37.385Z"
   },
   {
    "duration": 0,
    "start_time": "2024-10-03T14:59:37.386Z"
   },
   {
    "duration": 0,
    "start_time": "2024-10-03T14:59:37.386Z"
   },
   {
    "duration": 0,
    "start_time": "2024-10-03T14:59:37.387Z"
   },
   {
    "duration": 0,
    "start_time": "2024-10-03T14:59:37.388Z"
   },
   {
    "duration": 0,
    "start_time": "2024-10-03T14:59:37.389Z"
   },
   {
    "duration": 0,
    "start_time": "2024-10-03T14:59:37.390Z"
   },
   {
    "duration": 0,
    "start_time": "2024-10-03T14:59:37.391Z"
   },
   {
    "duration": 0,
    "start_time": "2024-10-03T14:59:37.392Z"
   },
   {
    "duration": 0,
    "start_time": "2024-10-03T14:59:37.393Z"
   },
   {
    "duration": 0,
    "start_time": "2024-10-03T14:59:37.394Z"
   },
   {
    "duration": 0,
    "start_time": "2024-10-03T14:59:37.395Z"
   },
   {
    "duration": 0,
    "start_time": "2024-10-03T14:59:37.396Z"
   },
   {
    "duration": 0,
    "start_time": "2024-10-03T14:59:37.396Z"
   },
   {
    "duration": 0,
    "start_time": "2024-10-03T14:59:37.397Z"
   },
   {
    "duration": 0,
    "start_time": "2024-10-03T14:59:37.398Z"
   },
   {
    "duration": 0,
    "start_time": "2024-10-03T14:59:37.399Z"
   },
   {
    "duration": 0,
    "start_time": "2024-10-03T14:59:37.400Z"
   },
   {
    "duration": 0,
    "start_time": "2024-10-03T14:59:37.401Z"
   },
   {
    "duration": 0,
    "start_time": "2024-10-03T14:59:37.401Z"
   },
   {
    "duration": 0,
    "start_time": "2024-10-03T14:59:37.402Z"
   },
   {
    "duration": 0,
    "start_time": "2024-10-03T14:59:37.403Z"
   },
   {
    "duration": 0,
    "start_time": "2024-10-03T14:59:37.404Z"
   },
   {
    "duration": 0,
    "start_time": "2024-10-03T14:59:37.406Z"
   },
   {
    "duration": 0,
    "start_time": "2024-10-03T14:59:37.406Z"
   },
   {
    "duration": 0,
    "start_time": "2024-10-03T14:59:37.407Z"
   },
   {
    "duration": 0,
    "start_time": "2024-10-03T14:59:37.408Z"
   },
   {
    "duration": 0,
    "start_time": "2024-10-03T14:59:37.409Z"
   },
   {
    "duration": 3249,
    "start_time": "2024-10-03T15:01:09.452Z"
   },
   {
    "duration": 1144,
    "start_time": "2024-10-03T15:01:12.703Z"
   },
   {
    "duration": 3,
    "start_time": "2024-10-03T15:01:13.849Z"
   },
   {
    "duration": 112,
    "start_time": "2024-10-03T15:01:13.854Z"
   },
   {
    "duration": 12,
    "start_time": "2024-10-03T15:01:13.968Z"
   },
   {
    "duration": 3,
    "start_time": "2024-10-03T15:01:13.982Z"
   },
   {
    "duration": 14,
    "start_time": "2024-10-03T15:01:13.987Z"
   },
   {
    "duration": 35,
    "start_time": "2024-10-03T15:01:14.003Z"
   },
   {
    "duration": 40,
    "start_time": "2024-10-03T15:01:14.040Z"
   },
   {
    "duration": 6,
    "start_time": "2024-10-03T15:01:14.083Z"
   },
   {
    "duration": 8,
    "start_time": "2024-10-03T15:01:14.091Z"
   },
   {
    "duration": 12,
    "start_time": "2024-10-03T15:01:14.101Z"
   },
   {
    "duration": 19,
    "start_time": "2024-10-03T15:01:14.114Z"
   },
   {
    "duration": 53,
    "start_time": "2024-10-03T15:01:14.135Z"
   },
   {
    "duration": 15,
    "start_time": "2024-10-03T15:01:14.190Z"
   },
   {
    "duration": 15,
    "start_time": "2024-10-03T15:01:14.206Z"
   },
   {
    "duration": 14,
    "start_time": "2024-10-03T15:01:14.222Z"
   },
   {
    "duration": 50,
    "start_time": "2024-10-03T15:01:14.238Z"
   },
   {
    "duration": 19,
    "start_time": "2024-10-03T15:01:14.289Z"
   },
   {
    "duration": 8,
    "start_time": "2024-10-03T15:01:14.310Z"
   },
   {
    "duration": 12,
    "start_time": "2024-10-03T15:01:14.320Z"
   },
   {
    "duration": 42,
    "start_time": "2024-10-03T15:01:14.334Z"
   },
   {
    "duration": 19,
    "start_time": "2024-10-03T15:01:14.378Z"
   },
   {
    "duration": 8,
    "start_time": "2024-10-03T15:01:14.399Z"
   },
   {
    "duration": 5,
    "start_time": "2024-10-03T15:01:14.408Z"
   },
   {
    "duration": 7,
    "start_time": "2024-10-03T15:01:14.415Z"
   },
   {
    "duration": 491,
    "start_time": "2024-10-03T15:01:14.424Z"
   },
   {
    "duration": 5,
    "start_time": "2024-10-03T15:01:14.918Z"
   },
   {
    "duration": 373,
    "start_time": "2024-10-03T15:01:14.925Z"
   },
   {
    "duration": 5,
    "start_time": "2024-10-03T15:01:15.300Z"
   },
   {
    "duration": 709,
    "start_time": "2024-10-03T15:01:15.306Z"
   },
   {
    "duration": 8,
    "start_time": "2024-10-03T15:01:16.017Z"
   },
   {
    "duration": 4,
    "start_time": "2024-10-03T15:01:16.027Z"
   },
   {
    "duration": 434,
    "start_time": "2024-10-03T15:01:16.032Z"
   },
   {
    "duration": 5,
    "start_time": "2024-10-03T15:01:16.475Z"
   },
   {
    "duration": 676,
    "start_time": "2024-10-03T15:01:16.481Z"
   },
   {
    "duration": 21,
    "start_time": "2024-10-03T15:01:17.158Z"
   },
   {
    "duration": 5,
    "start_time": "2024-10-03T15:01:17.181Z"
   },
   {
    "duration": 318,
    "start_time": "2024-10-03T15:01:17.187Z"
   },
   {
    "duration": 6,
    "start_time": "2024-10-03T15:01:17.507Z"
   },
   {
    "duration": 1715,
    "start_time": "2024-10-03T15:01:17.514Z"
   },
   {
    "duration": 17254,
    "start_time": "2024-10-03T15:01:19.231Z"
   },
   {
    "duration": 8,
    "start_time": "2024-10-03T15:01:36.487Z"
   },
   {
    "duration": 12,
    "start_time": "2024-10-03T15:01:36.496Z"
   },
   {
    "duration": 8,
    "start_time": "2024-10-03T15:01:36.510Z"
   },
   {
    "duration": 21,
    "start_time": "2024-10-03T15:01:36.520Z"
   },
   {
    "duration": 330,
    "start_time": "2024-10-03T15:10:37.149Z"
   },
   {
    "duration": 15,
    "start_time": "2024-10-03T15:11:35.045Z"
   },
   {
    "duration": 5,
    "start_time": "2024-10-03T15:12:56.553Z"
   },
   {
    "duration": 18,
    "start_time": "2024-10-03T15:13:03.881Z"
   },
   {
    "duration": 5,
    "start_time": "2024-10-03T15:13:23.874Z"
   },
   {
    "duration": 18,
    "start_time": "2024-10-03T15:13:25.132Z"
   },
   {
    "duration": 5,
    "start_time": "2024-10-03T15:13:57.747Z"
   },
   {
    "duration": 18,
    "start_time": "2024-10-03T15:13:58.359Z"
   },
   {
    "duration": 5,
    "start_time": "2024-10-03T15:15:50.630Z"
   },
   {
    "duration": 4,
    "start_time": "2024-10-03T15:16:55.621Z"
   },
   {
    "duration": 55,
    "start_time": "2024-10-03T15:17:52.323Z"
   },
   {
    "duration": 64,
    "start_time": "2024-10-03T15:18:40.948Z"
   },
   {
    "duration": 71,
    "start_time": "2024-10-03T15:18:50.182Z"
   },
   {
    "duration": 10,
    "start_time": "2024-10-03T15:19:17.914Z"
   },
   {
    "duration": 3,
    "start_time": "2024-10-03T15:19:28.929Z"
   },
   {
    "duration": 4,
    "start_time": "2024-10-03T15:20:46.437Z"
   },
   {
    "duration": 7,
    "start_time": "2024-10-03T15:23:27.692Z"
   },
   {
    "duration": 21,
    "start_time": "2024-10-03T15:23:32.913Z"
   },
   {
    "duration": 5,
    "start_time": "2024-10-03T15:23:56.083Z"
   },
   {
    "duration": 18,
    "start_time": "2024-10-03T15:23:56.896Z"
   },
   {
    "duration": 3,
    "start_time": "2024-10-03T15:25:11.578Z"
   },
   {
    "duration": 4,
    "start_time": "2024-10-03T15:25:33.896Z"
   },
   {
    "duration": 4,
    "start_time": "2024-10-03T15:25:55.728Z"
   },
   {
    "duration": 3,
    "start_time": "2024-10-03T15:26:41.724Z"
   },
   {
    "duration": 5,
    "start_time": "2024-10-03T15:26:48.968Z"
   },
   {
    "duration": 6,
    "start_time": "2024-10-03T15:28:57.561Z"
   },
   {
    "duration": 19,
    "start_time": "2024-10-03T15:28:59.235Z"
   },
   {
    "duration": 6,
    "start_time": "2024-10-03T15:29:17.580Z"
   },
   {
    "duration": 12,
    "start_time": "2024-10-03T15:29:19.922Z"
   },
   {
    "duration": 4,
    "start_time": "2024-10-03T15:29:31.641Z"
   },
   {
    "duration": 17,
    "start_time": "2024-10-03T15:29:33.139Z"
   },
   {
    "duration": 5,
    "start_time": "2024-10-03T15:30:10.148Z"
   },
   {
    "duration": 19,
    "start_time": "2024-10-03T15:30:10.856Z"
   },
   {
    "duration": 5,
    "start_time": "2024-10-03T15:30:19.300Z"
   },
   {
    "duration": 19,
    "start_time": "2024-10-03T15:30:20.029Z"
   },
   {
    "duration": 4,
    "start_time": "2024-10-03T15:30:51.105Z"
   },
   {
    "duration": 18,
    "start_time": "2024-10-03T15:30:52.029Z"
   },
   {
    "duration": 54,
    "start_time": "2024-10-03T15:31:03.097Z"
   },
   {
    "duration": 5,
    "start_time": "2024-10-03T15:31:09.634Z"
   },
   {
    "duration": 25,
    "start_time": "2024-10-03T15:31:10.566Z"
   },
   {
    "duration": 4,
    "start_time": "2024-10-03T15:31:18.743Z"
   },
   {
    "duration": 18,
    "start_time": "2024-10-03T15:31:19.587Z"
   },
   {
    "duration": 50,
    "start_time": "2024-10-03T15:31:54.634Z"
   },
   {
    "duration": 5,
    "start_time": "2024-10-03T15:32:04.204Z"
   },
   {
    "duration": 19,
    "start_time": "2024-10-03T15:32:06.170Z"
   },
   {
    "duration": 5,
    "start_time": "2024-10-03T15:33:42.869Z"
   },
   {
    "duration": 17,
    "start_time": "2024-10-03T15:33:43.720Z"
   },
   {
    "duration": 6,
    "start_time": "2024-10-03T15:34:32.961Z"
   },
   {
    "duration": 6,
    "start_time": "2024-10-03T15:34:33.826Z"
   },
   {
    "duration": 6,
    "start_time": "2024-10-03T15:34:59.456Z"
   },
   {
    "duration": 18,
    "start_time": "2024-10-03T15:35:00.444Z"
   },
   {
    "duration": 4,
    "start_time": "2024-10-03T15:35:22.175Z"
   },
   {
    "duration": 5,
    "start_time": "2024-10-03T15:35:34.175Z"
   },
   {
    "duration": 18,
    "start_time": "2024-10-03T15:35:35.046Z"
   },
   {
    "duration": 4,
    "start_time": "2024-10-03T15:35:39.654Z"
   },
   {
    "duration": 3,
    "start_time": "2024-10-03T15:36:32.984Z"
   },
   {
    "duration": 4,
    "start_time": "2024-10-03T15:37:09.609Z"
   },
   {
    "duration": 8,
    "start_time": "2024-10-03T15:43:49.302Z"
   },
   {
    "duration": 64,
    "start_time": "2024-10-03T15:44:37.768Z"
   },
   {
    "duration": 10,
    "start_time": "2024-10-03T15:44:42.510Z"
   },
   {
    "duration": 9,
    "start_time": "2024-10-03T15:45:09.367Z"
   },
   {
    "duration": 9,
    "start_time": "2024-10-03T15:45:21.799Z"
   },
   {
    "duration": 35,
    "start_time": "2024-10-03T15:53:44.997Z"
   },
   {
    "duration": 36,
    "start_time": "2024-10-03T15:57:49.460Z"
   },
   {
    "duration": 6,
    "start_time": "2024-10-03T16:00:11.381Z"
   },
   {
    "duration": 3,
    "start_time": "2024-10-03T16:00:12.277Z"
   },
   {
    "duration": 6,
    "start_time": "2024-10-03T16:00:20.204Z"
   },
   {
    "duration": 4,
    "start_time": "2024-10-03T16:00:21.004Z"
   },
   {
    "duration": 6,
    "start_time": "2024-10-03T16:00:44.815Z"
   },
   {
    "duration": 3,
    "start_time": "2024-10-03T16:00:45.631Z"
   },
   {
    "duration": 4,
    "start_time": "2024-10-03T16:00:47.332Z"
   },
   {
    "duration": 6,
    "start_time": "2024-10-03T16:01:04.343Z"
   },
   {
    "duration": 4,
    "start_time": "2024-10-03T16:01:05.213Z"
   },
   {
    "duration": 4,
    "start_time": "2024-10-03T16:01:06.156Z"
   },
   {
    "duration": 5,
    "start_time": "2024-10-03T16:02:41.876Z"
   },
   {
    "duration": 3,
    "start_time": "2024-10-03T16:02:42.662Z"
   },
   {
    "duration": 5,
    "start_time": "2024-10-03T16:02:52.019Z"
   },
   {
    "duration": 3,
    "start_time": "2024-10-03T16:02:52.837Z"
   },
   {
    "duration": 6,
    "start_time": "2024-10-03T16:03:30.160Z"
   },
   {
    "duration": 4,
    "start_time": "2024-10-03T16:03:30.766Z"
   },
   {
    "duration": 5,
    "start_time": "2024-10-03T16:03:38.057Z"
   },
   {
    "duration": 2,
    "start_time": "2024-10-03T16:03:39.432Z"
   },
   {
    "duration": 4,
    "start_time": "2024-10-03T16:03:40.320Z"
   },
   {
    "duration": 6,
    "start_time": "2024-10-03T16:04:36.619Z"
   },
   {
    "duration": 3,
    "start_time": "2024-10-03T16:04:37.371Z"
   },
   {
    "duration": 4,
    "start_time": "2024-10-03T16:04:46.777Z"
   },
   {
    "duration": 5,
    "start_time": "2024-10-03T16:04:51.371Z"
   },
   {
    "duration": 3,
    "start_time": "2024-10-03T16:04:52.024Z"
   },
   {
    "duration": 5,
    "start_time": "2024-10-03T16:04:53.212Z"
   },
   {
    "duration": 5,
    "start_time": "2024-10-03T16:04:58.570Z"
   },
   {
    "duration": 3,
    "start_time": "2024-10-03T16:04:59.152Z"
   },
   {
    "duration": 4,
    "start_time": "2024-10-03T16:05:00.240Z"
   },
   {
    "duration": 10,
    "start_time": "2024-10-03T16:05:03.718Z"
   },
   {
    "duration": 6,
    "start_time": "2024-10-03T16:05:29.667Z"
   },
   {
    "duration": 3,
    "start_time": "2024-10-03T16:05:32.257Z"
   },
   {
    "duration": 4,
    "start_time": "2024-10-03T16:05:33.869Z"
   },
   {
    "duration": 8,
    "start_time": "2024-10-03T16:05:37.996Z"
   },
   {
    "duration": 2,
    "start_time": "2024-10-03T16:05:39.397Z"
   },
   {
    "duration": 4,
    "start_time": "2024-10-03T16:05:40.937Z"
   },
   {
    "duration": 55,
    "start_time": "2024-10-03T16:06:20.249Z"
   },
   {
    "duration": 2477,
    "start_time": "2024-10-03T16:10:26.320Z"
   },
   {
    "duration": 1231,
    "start_time": "2024-10-03T16:10:28.799Z"
   },
   {
    "duration": 3,
    "start_time": "2024-10-03T16:10:30.031Z"
   },
   {
    "duration": 92,
    "start_time": "2024-10-03T16:10:30.036Z"
   },
   {
    "duration": 12,
    "start_time": "2024-10-03T16:10:30.130Z"
   },
   {
    "duration": 17,
    "start_time": "2024-10-03T16:10:30.144Z"
   },
   {
    "duration": 23,
    "start_time": "2024-10-03T16:10:30.162Z"
   },
   {
    "duration": 36,
    "start_time": "2024-10-03T16:10:30.186Z"
   },
   {
    "duration": 11,
    "start_time": "2024-10-03T16:10:30.223Z"
   },
   {
    "duration": 12,
    "start_time": "2024-10-03T16:10:30.236Z"
   },
   {
    "duration": 17,
    "start_time": "2024-10-03T16:10:30.249Z"
   },
   {
    "duration": 20,
    "start_time": "2024-10-03T16:10:30.267Z"
   },
   {
    "duration": 39,
    "start_time": "2024-10-03T16:10:30.289Z"
   },
   {
    "duration": 16,
    "start_time": "2024-10-03T16:10:30.330Z"
   },
   {
    "duration": 29,
    "start_time": "2024-10-03T16:10:30.348Z"
   },
   {
    "duration": 43,
    "start_time": "2024-10-03T16:10:30.379Z"
   },
   {
    "duration": 30,
    "start_time": "2024-10-03T16:10:30.424Z"
   },
   {
    "duration": 32,
    "start_time": "2024-10-03T16:10:30.457Z"
   },
   {
    "duration": 34,
    "start_time": "2024-10-03T16:10:30.491Z"
   },
   {
    "duration": 9,
    "start_time": "2024-10-03T16:10:30.527Z"
   },
   {
    "duration": 14,
    "start_time": "2024-10-03T16:10:30.537Z"
   },
   {
    "duration": 24,
    "start_time": "2024-10-03T16:10:30.553Z"
   },
   {
    "duration": 26,
    "start_time": "2024-10-03T16:10:30.579Z"
   },
   {
    "duration": 14,
    "start_time": "2024-10-03T16:10:30.606Z"
   },
   {
    "duration": 10,
    "start_time": "2024-10-03T16:10:30.621Z"
   },
   {
    "duration": 16,
    "start_time": "2024-10-03T16:10:30.632Z"
   },
   {
    "duration": 514,
    "start_time": "2024-10-03T16:10:30.650Z"
   },
   {
    "duration": 4,
    "start_time": "2024-10-03T16:10:31.177Z"
   },
   {
    "duration": 374,
    "start_time": "2024-10-03T16:10:31.183Z"
   },
   {
    "duration": 5,
    "start_time": "2024-10-03T16:10:31.558Z"
   },
   {
    "duration": 685,
    "start_time": "2024-10-03T16:10:31.564Z"
   },
   {
    "duration": 9,
    "start_time": "2024-10-03T16:10:32.250Z"
   },
   {
    "duration": 17,
    "start_time": "2024-10-03T16:10:32.261Z"
   },
   {
    "duration": 436,
    "start_time": "2024-10-03T16:10:32.280Z"
   },
   {
    "duration": 4,
    "start_time": "2024-10-03T16:10:32.718Z"
   },
   {
    "duration": 678,
    "start_time": "2024-10-03T16:10:32.723Z"
   },
   {
    "duration": 8,
    "start_time": "2024-10-03T16:10:33.403Z"
   },
   {
    "duration": 8,
    "start_time": "2024-10-03T16:10:33.412Z"
   },
   {
    "duration": 323,
    "start_time": "2024-10-03T16:10:33.421Z"
   },
   {
    "duration": 4,
    "start_time": "2024-10-03T16:10:33.746Z"
   },
   {
    "duration": 1777,
    "start_time": "2024-10-03T16:10:33.752Z"
   },
   {
    "duration": 17180,
    "start_time": "2024-10-03T16:10:35.530Z"
   },
   {
    "duration": 8,
    "start_time": "2024-10-03T16:10:52.711Z"
   },
   {
    "duration": 15,
    "start_time": "2024-10-03T16:10:52.720Z"
   },
   {
    "duration": 8,
    "start_time": "2024-10-03T16:10:52.736Z"
   },
   {
    "duration": 12,
    "start_time": "2024-10-03T16:10:52.745Z"
   },
   {
    "duration": 64,
    "start_time": "2024-10-03T16:10:52.758Z"
   },
   {
    "duration": 4,
    "start_time": "2024-10-03T16:10:52.824Z"
   },
   {
    "duration": 6,
    "start_time": "2024-10-03T16:10:52.829Z"
   },
   {
    "duration": 12,
    "start_time": "2024-10-03T16:10:52.836Z"
   },
   {
    "duration": 8,
    "start_time": "2024-10-03T16:10:52.849Z"
   },
   {
    "duration": 5,
    "start_time": "2024-10-03T16:10:52.859Z"
   },
   {
    "duration": 6,
    "start_time": "2024-10-03T16:10:52.865Z"
   },
   {
    "duration": 3,
    "start_time": "2024-10-03T16:10:52.872Z"
   },
   {
    "duration": 4,
    "start_time": "2024-10-03T16:10:52.877Z"
   },
   {
    "duration": 8,
    "start_time": "2024-10-03T16:10:52.882Z"
   },
   {
    "duration": 3927,
    "start_time": "2024-10-03T19:49:12.185Z"
   },
   {
    "duration": 1993,
    "start_time": "2024-10-03T19:49:16.114Z"
   },
   {
    "duration": 3,
    "start_time": "2024-10-03T19:49:18.109Z"
   },
   {
    "duration": 160,
    "start_time": "2024-10-03T19:49:18.113Z"
   },
   {
    "duration": 12,
    "start_time": "2024-10-03T19:49:18.275Z"
   },
   {
    "duration": 36,
    "start_time": "2024-10-03T19:49:18.288Z"
   },
   {
    "duration": 15,
    "start_time": "2024-10-03T19:49:18.326Z"
   },
   {
    "duration": 34,
    "start_time": "2024-10-03T19:49:18.342Z"
   },
   {
    "duration": 9,
    "start_time": "2024-10-03T19:49:18.378Z"
   },
   {
    "duration": 6,
    "start_time": "2024-10-03T19:49:18.388Z"
   },
   {
    "duration": 7,
    "start_time": "2024-10-03T19:49:18.395Z"
   },
   {
    "duration": 13,
    "start_time": "2024-10-03T19:49:18.403Z"
   },
   {
    "duration": 18,
    "start_time": "2024-10-03T19:49:18.417Z"
   },
   {
    "duration": 43,
    "start_time": "2024-10-03T19:49:18.438Z"
   },
   {
    "duration": 12,
    "start_time": "2024-10-03T19:49:18.483Z"
   },
   {
    "duration": 12,
    "start_time": "2024-10-03T19:49:18.496Z"
   },
   {
    "duration": 12,
    "start_time": "2024-10-03T19:49:18.510Z"
   },
   {
    "duration": 20,
    "start_time": "2024-10-03T19:49:18.523Z"
   },
   {
    "duration": 19,
    "start_time": "2024-10-03T19:49:18.576Z"
   },
   {
    "duration": 34,
    "start_time": "2024-10-03T19:49:18.596Z"
   },
   {
    "duration": 13,
    "start_time": "2024-10-03T19:49:18.632Z"
   },
   {
    "duration": 15,
    "start_time": "2024-10-03T19:49:18.646Z"
   },
   {
    "duration": 23,
    "start_time": "2024-10-03T19:49:18.662Z"
   },
   {
    "duration": 9,
    "start_time": "2024-10-03T19:49:18.687Z"
   },
   {
    "duration": 8,
    "start_time": "2024-10-03T19:49:18.698Z"
   },
   {
    "duration": 20,
    "start_time": "2024-10-03T19:49:18.707Z"
   },
   {
    "duration": 454,
    "start_time": "2024-10-03T19:49:18.729Z"
   },
   {
    "duration": 4,
    "start_time": "2024-10-03T19:49:19.184Z"
   },
   {
    "duration": 372,
    "start_time": "2024-10-03T19:49:19.190Z"
   },
   {
    "duration": 12,
    "start_time": "2024-10-03T19:49:19.564Z"
   },
   {
    "duration": 680,
    "start_time": "2024-10-03T19:49:19.578Z"
   },
   {
    "duration": 16,
    "start_time": "2024-10-03T19:49:20.260Z"
   },
   {
    "duration": 19,
    "start_time": "2024-10-03T19:49:20.278Z"
   },
   {
    "duration": 424,
    "start_time": "2024-10-03T19:49:20.298Z"
   },
   {
    "duration": 4,
    "start_time": "2024-10-03T19:49:20.724Z"
   },
   {
    "duration": 638,
    "start_time": "2024-10-03T19:49:20.730Z"
   },
   {
    "duration": 12,
    "start_time": "2024-10-03T19:49:21.370Z"
   },
   {
    "duration": 65,
    "start_time": "2024-10-03T19:49:21.383Z"
   },
   {
    "duration": 284,
    "start_time": "2024-10-03T19:49:21.450Z"
   },
   {
    "duration": 4,
    "start_time": "2024-10-03T19:49:21.735Z"
   },
   {
    "duration": 1695,
    "start_time": "2024-10-03T19:49:21.744Z"
   },
   {
    "duration": 16537,
    "start_time": "2024-10-03T19:49:23.441Z"
   },
   {
    "duration": 10,
    "start_time": "2024-10-03T19:49:39.980Z"
   },
   {
    "duration": 13,
    "start_time": "2024-10-03T19:49:39.992Z"
   },
   {
    "duration": 8,
    "start_time": "2024-10-03T19:49:40.007Z"
   },
   {
    "duration": 11,
    "start_time": "2024-10-03T19:49:40.016Z"
   },
   {
    "duration": 10,
    "start_time": "2024-10-03T19:49:40.029Z"
   },
   {
    "duration": 36,
    "start_time": "2024-10-03T19:49:40.041Z"
   },
   {
    "duration": 5,
    "start_time": "2024-10-03T19:49:40.079Z"
   },
   {
    "duration": 14,
    "start_time": "2024-10-03T19:49:40.086Z"
   },
   {
    "duration": 15,
    "start_time": "2024-10-03T19:49:40.102Z"
   },
   {
    "duration": 5,
    "start_time": "2024-10-03T19:49:40.119Z"
   },
   {
    "duration": 17,
    "start_time": "2024-10-03T19:49:40.125Z"
   },
   {
    "duration": 4,
    "start_time": "2024-10-03T19:49:40.143Z"
   },
   {
    "duration": 20,
    "start_time": "2024-10-03T19:49:40.149Z"
   },
   {
    "duration": 12,
    "start_time": "2024-10-03T19:49:40.171Z"
   },
   {
    "duration": 3810,
    "start_time": "2024-10-05T06:13:06.335Z"
   },
   {
    "duration": 1475,
    "start_time": "2024-10-05T06:13:10.147Z"
   },
   {
    "duration": 3,
    "start_time": "2024-10-05T06:13:11.624Z"
   },
   {
    "duration": 207,
    "start_time": "2024-10-05T06:13:11.629Z"
   },
   {
    "duration": 17,
    "start_time": "2024-10-05T06:13:11.839Z"
   },
   {
    "duration": 5,
    "start_time": "2024-10-05T06:13:11.857Z"
   },
   {
    "duration": 43,
    "start_time": "2024-10-05T06:13:11.864Z"
   },
   {
    "duration": 40,
    "start_time": "2024-10-05T06:13:11.908Z"
   },
   {
    "duration": 10,
    "start_time": "2024-10-05T06:13:11.950Z"
   },
   {
    "duration": 5,
    "start_time": "2024-10-05T06:13:11.962Z"
   },
   {
    "duration": 14,
    "start_time": "2024-10-05T06:13:11.969Z"
   },
   {
    "duration": 20,
    "start_time": "2024-10-05T06:13:11.985Z"
   },
   {
    "duration": 18,
    "start_time": "2024-10-05T06:13:12.006Z"
   },
   {
    "duration": 20,
    "start_time": "2024-10-05T06:13:12.026Z"
   },
   {
    "duration": 18,
    "start_time": "2024-10-05T06:13:12.048Z"
   },
   {
    "duration": 28,
    "start_time": "2024-10-05T06:13:12.067Z"
   },
   {
    "duration": 22,
    "start_time": "2024-10-05T06:13:12.097Z"
   },
   {
    "duration": 21,
    "start_time": "2024-10-05T06:13:12.121Z"
   },
   {
    "duration": 25,
    "start_time": "2024-10-05T06:13:12.143Z"
   },
   {
    "duration": 11,
    "start_time": "2024-10-05T06:13:12.170Z"
   },
   {
    "duration": 29,
    "start_time": "2024-10-05T06:13:12.183Z"
   },
   {
    "duration": 12,
    "start_time": "2024-10-05T06:13:12.214Z"
   },
   {
    "duration": 33,
    "start_time": "2024-10-05T06:13:12.228Z"
   },
   {
    "duration": 12,
    "start_time": "2024-10-05T06:13:12.263Z"
   },
   {
    "duration": 8,
    "start_time": "2024-10-05T06:13:12.276Z"
   },
   {
    "duration": 11,
    "start_time": "2024-10-05T06:13:12.286Z"
   },
   {
    "duration": 522,
    "start_time": "2024-10-05T06:13:12.299Z"
   },
   {
    "duration": 5,
    "start_time": "2024-10-05T06:13:12.823Z"
   },
   {
    "duration": 408,
    "start_time": "2024-10-05T06:13:12.829Z"
   },
   {
    "duration": 5,
    "start_time": "2024-10-05T06:13:13.239Z"
   },
   {
    "duration": 723,
    "start_time": "2024-10-05T06:13:13.245Z"
   },
   {
    "duration": 8,
    "start_time": "2024-10-05T06:13:13.970Z"
   },
   {
    "duration": 15,
    "start_time": "2024-10-05T06:13:13.979Z"
   },
   {
    "duration": 435,
    "start_time": "2024-10-05T06:13:13.995Z"
   },
   {
    "duration": 7,
    "start_time": "2024-10-05T06:13:14.432Z"
   },
   {
    "duration": 732,
    "start_time": "2024-10-05T06:13:14.440Z"
   },
   {
    "duration": 9,
    "start_time": "2024-10-05T06:13:15.173Z"
   },
   {
    "duration": 19,
    "start_time": "2024-10-05T06:13:15.184Z"
   },
   {
    "duration": 319,
    "start_time": "2024-10-05T06:13:15.205Z"
   },
   {
    "duration": 5,
    "start_time": "2024-10-05T06:13:15.525Z"
   },
   {
    "duration": 1801,
    "start_time": "2024-10-05T06:13:15.534Z"
   },
   {
    "duration": 17458,
    "start_time": "2024-10-05T06:13:17.336Z"
   },
   {
    "duration": 10,
    "start_time": "2024-10-05T06:13:34.795Z"
   },
   {
    "duration": 34,
    "start_time": "2024-10-05T06:13:34.807Z"
   },
   {
    "duration": 10,
    "start_time": "2024-10-05T06:13:34.843Z"
   },
   {
    "duration": 15,
    "start_time": "2024-10-05T06:13:34.855Z"
   },
   {
    "duration": 23,
    "start_time": "2024-10-05T06:13:34.872Z"
   },
   {
    "duration": 4,
    "start_time": "2024-10-05T06:13:34.898Z"
   },
   {
    "duration": 5,
    "start_time": "2024-10-05T06:13:34.904Z"
   },
   {
    "duration": 7,
    "start_time": "2024-10-05T06:13:34.911Z"
   },
   {
    "duration": 11,
    "start_time": "2024-10-05T06:13:34.920Z"
   },
   {
    "duration": 10,
    "start_time": "2024-10-05T06:13:34.933Z"
   },
   {
    "duration": 21,
    "start_time": "2024-10-05T06:13:34.946Z"
   },
   {
    "duration": 5,
    "start_time": "2024-10-05T06:13:34.969Z"
   },
   {
    "duration": 10,
    "start_time": "2024-10-05T06:13:34.976Z"
   },
   {
    "duration": 14,
    "start_time": "2024-10-05T06:13:34.988Z"
   },
   {
    "duration": 5,
    "start_time": "2024-10-05T06:14:57.491Z"
   },
   {
    "duration": 114,
    "start_time": "2024-10-05T06:17:07.313Z"
   },
   {
    "duration": 10,
    "start_time": "2024-10-05T06:21:22.565Z"
   },
   {
    "duration": 4,
    "start_time": "2024-10-05T06:22:30.887Z"
   },
   {
    "duration": 452,
    "start_time": "2024-10-05T06:22:35.766Z"
   },
   {
    "duration": 561,
    "start_time": "2024-10-05T06:23:00.957Z"
   },
   {
    "duration": 2440,
    "start_time": "2024-10-05T06:27:37.583Z"
   },
   {
    "duration": 1156,
    "start_time": "2024-10-05T06:27:40.025Z"
   },
   {
    "duration": 3,
    "start_time": "2024-10-05T06:27:41.182Z"
   },
   {
    "duration": 71,
    "start_time": "2024-10-05T06:27:41.186Z"
   },
   {
    "duration": 12,
    "start_time": "2024-10-05T06:27:41.259Z"
   },
   {
    "duration": 3,
    "start_time": "2024-10-05T06:27:41.272Z"
   },
   {
    "duration": 14,
    "start_time": "2024-10-05T06:27:41.276Z"
   },
   {
    "duration": 34,
    "start_time": "2024-10-05T06:27:41.291Z"
   },
   {
    "duration": 9,
    "start_time": "2024-10-05T06:27:41.327Z"
   },
   {
    "duration": 32,
    "start_time": "2024-10-05T06:27:41.337Z"
   },
   {
    "duration": 9,
    "start_time": "2024-10-05T06:27:41.370Z"
   },
   {
    "duration": 12,
    "start_time": "2024-10-05T06:27:41.380Z"
   },
   {
    "duration": 17,
    "start_time": "2024-10-05T06:27:41.393Z"
   },
   {
    "duration": 13,
    "start_time": "2024-10-05T06:27:41.413Z"
   },
   {
    "duration": 39,
    "start_time": "2024-10-05T06:27:41.428Z"
   },
   {
    "duration": 13,
    "start_time": "2024-10-05T06:27:41.468Z"
   },
   {
    "duration": 13,
    "start_time": "2024-10-05T06:27:41.483Z"
   },
   {
    "duration": 20,
    "start_time": "2024-10-05T06:27:41.497Z"
   },
   {
    "duration": 17,
    "start_time": "2024-10-05T06:27:41.518Z"
   },
   {
    "duration": 10,
    "start_time": "2024-10-05T06:27:41.565Z"
   },
   {
    "duration": 23,
    "start_time": "2024-10-05T06:27:41.576Z"
   },
   {
    "duration": 11,
    "start_time": "2024-10-05T06:27:41.601Z"
   },
   {
    "duration": 26,
    "start_time": "2024-10-05T06:27:41.614Z"
   },
   {
    "duration": 9,
    "start_time": "2024-10-05T06:27:41.642Z"
   },
   {
    "duration": 13,
    "start_time": "2024-10-05T06:27:41.653Z"
   },
   {
    "duration": 9,
    "start_time": "2024-10-05T06:27:41.668Z"
   },
   {
    "duration": 488,
    "start_time": "2024-10-05T06:27:41.679Z"
   },
   {
    "duration": 5,
    "start_time": "2024-10-05T06:27:42.169Z"
   },
   {
    "duration": 413,
    "start_time": "2024-10-05T06:27:42.175Z"
   },
   {
    "duration": 5,
    "start_time": "2024-10-05T06:27:42.589Z"
   },
   {
    "duration": 695,
    "start_time": "2024-10-05T06:27:42.596Z"
   },
   {
    "duration": 8,
    "start_time": "2024-10-05T06:27:43.292Z"
   },
   {
    "duration": 4,
    "start_time": "2024-10-05T06:27:43.302Z"
   },
   {
    "duration": 5,
    "start_time": "2024-10-05T06:27:43.307Z"
   },
   {
    "duration": 7,
    "start_time": "2024-10-05T06:27:43.313Z"
   },
   {
    "duration": 9,
    "start_time": "2024-10-05T06:27:43.321Z"
   },
   {
    "duration": 611,
    "start_time": "2024-10-05T06:27:43.331Z"
   },
   {
    "duration": 5,
    "start_time": "2024-10-05T06:27:43.944Z"
   },
   {
    "duration": 687,
    "start_time": "2024-10-05T06:27:43.951Z"
   },
   {
    "duration": 9,
    "start_time": "2024-10-05T06:27:44.640Z"
   },
   {
    "duration": 4,
    "start_time": "2024-10-05T06:27:44.664Z"
   },
   {
    "duration": 20,
    "start_time": "2024-10-05T06:27:44.670Z"
   },
   {
    "duration": 298,
    "start_time": "2024-10-05T06:27:44.692Z"
   },
   {
    "duration": 4,
    "start_time": "2024-10-05T06:27:44.992Z"
   },
   {
    "duration": 1728,
    "start_time": "2024-10-05T06:27:44.998Z"
   },
   {
    "duration": 16618,
    "start_time": "2024-10-05T06:27:46.727Z"
   },
   {
    "duration": 9,
    "start_time": "2024-10-05T06:28:03.347Z"
   },
   {
    "duration": 33,
    "start_time": "2024-10-05T06:28:03.357Z"
   },
   {
    "duration": 15,
    "start_time": "2024-10-05T06:28:03.392Z"
   },
   {
    "duration": 10,
    "start_time": "2024-10-05T06:28:03.409Z"
   },
   {
    "duration": 10,
    "start_time": "2024-10-05T06:28:03.421Z"
   },
   {
    "duration": 5,
    "start_time": "2024-10-05T06:28:03.432Z"
   },
   {
    "duration": 19,
    "start_time": "2024-10-05T06:28:03.439Z"
   },
   {
    "duration": 18,
    "start_time": "2024-10-05T06:28:03.460Z"
   },
   {
    "duration": 9,
    "start_time": "2024-10-05T06:28:03.480Z"
   },
   {
    "duration": 5,
    "start_time": "2024-10-05T06:28:03.491Z"
   },
   {
    "duration": 7,
    "start_time": "2024-10-05T06:28:03.497Z"
   },
   {
    "duration": 15,
    "start_time": "2024-10-05T06:28:03.506Z"
   },
   {
    "duration": 4,
    "start_time": "2024-10-05T06:28:03.523Z"
   },
   {
    "duration": 10,
    "start_time": "2024-10-05T06:28:03.529Z"
   },
   {
    "duration": 4,
    "start_time": "2024-10-05T06:28:11.079Z"
   },
   {
    "duration": 300,
    "start_time": "2024-10-05T06:28:44.948Z"
   },
   {
    "duration": 378,
    "start_time": "2024-10-05T06:28:57.456Z"
   },
   {
    "duration": 8,
    "start_time": "2024-10-05T07:43:39.553Z"
   },
   {
    "duration": 5,
    "start_time": "2024-10-05T07:43:52.098Z"
   },
   {
    "duration": 23,
    "start_time": "2024-10-05T07:44:34.246Z"
   },
   {
    "duration": 28,
    "start_time": "2024-10-05T07:46:28.928Z"
   },
   {
    "duration": 18,
    "start_time": "2024-10-05T07:46:41.448Z"
   },
   {
    "duration": 4,
    "start_time": "2024-10-05T07:48:36.068Z"
   },
   {
    "duration": 2485,
    "start_time": "2024-10-05T08:35:59.717Z"
   },
   {
    "duration": 1374,
    "start_time": "2024-10-05T08:36:02.204Z"
   },
   {
    "duration": 2,
    "start_time": "2024-10-05T08:36:03.580Z"
   },
   {
    "duration": 71,
    "start_time": "2024-10-05T08:36:03.584Z"
   },
   {
    "duration": 16,
    "start_time": "2024-10-05T08:36:03.658Z"
   },
   {
    "duration": 3,
    "start_time": "2024-10-05T08:36:03.676Z"
   },
   {
    "duration": 20,
    "start_time": "2024-10-05T08:36:03.681Z"
   },
   {
    "duration": 35,
    "start_time": "2024-10-05T08:36:03.703Z"
   },
   {
    "duration": 29,
    "start_time": "2024-10-05T08:36:03.739Z"
   },
   {
    "duration": 6,
    "start_time": "2024-10-05T08:36:03.769Z"
   },
   {
    "duration": 7,
    "start_time": "2024-10-05T08:36:03.777Z"
   },
   {
    "duration": 13,
    "start_time": "2024-10-05T08:36:03.786Z"
   },
   {
    "duration": 19,
    "start_time": "2024-10-05T08:36:03.801Z"
   },
   {
    "duration": 53,
    "start_time": "2024-10-05T08:36:03.823Z"
   },
   {
    "duration": 18,
    "start_time": "2024-10-05T08:36:03.877Z"
   },
   {
    "duration": 14,
    "start_time": "2024-10-05T08:36:03.897Z"
   },
   {
    "duration": 34,
    "start_time": "2024-10-05T08:36:03.913Z"
   },
   {
    "duration": 35,
    "start_time": "2024-10-05T08:36:03.949Z"
   },
   {
    "duration": 19,
    "start_time": "2024-10-05T08:36:03.986Z"
   },
   {
    "duration": 8,
    "start_time": "2024-10-05T08:36:04.007Z"
   },
   {
    "duration": 20,
    "start_time": "2024-10-05T08:36:04.017Z"
   },
   {
    "duration": 2,
    "start_time": "2024-10-05T08:36:04.039Z"
   },
   {
    "duration": 39,
    "start_time": "2024-10-05T08:36:04.043Z"
   },
   {
    "duration": 9,
    "start_time": "2024-10-05T08:36:04.084Z"
   },
   {
    "duration": 7,
    "start_time": "2024-10-05T08:36:04.094Z"
   },
   {
    "duration": 19,
    "start_time": "2024-10-05T08:36:04.103Z"
   },
   {
    "duration": 514,
    "start_time": "2024-10-05T08:36:04.124Z"
   },
   {
    "duration": 5,
    "start_time": "2024-10-05T08:36:04.640Z"
   },
   {
    "duration": 418,
    "start_time": "2024-10-05T08:36:04.647Z"
   },
   {
    "duration": 5,
    "start_time": "2024-10-05T08:36:05.066Z"
   },
   {
    "duration": 738,
    "start_time": "2024-10-05T08:36:05.073Z"
   },
   {
    "duration": 9,
    "start_time": "2024-10-05T08:36:05.813Z"
   },
   {
    "duration": 7,
    "start_time": "2024-10-05T08:36:05.824Z"
   },
   {
    "duration": 13,
    "start_time": "2024-10-05T08:36:05.832Z"
   },
   {
    "duration": 22,
    "start_time": "2024-10-05T08:36:05.847Z"
   },
   {
    "duration": 4,
    "start_time": "2024-10-05T08:36:05.871Z"
   },
   {
    "duration": 564,
    "start_time": "2024-10-05T08:36:05.876Z"
   },
   {
    "duration": 4,
    "start_time": "2024-10-05T08:36:06.442Z"
   },
   {
    "duration": 746,
    "start_time": "2024-10-05T08:36:06.448Z"
   },
   {
    "duration": 9,
    "start_time": "2024-10-05T08:36:07.195Z"
   },
   {
    "duration": 33,
    "start_time": "2024-10-05T08:36:07.209Z"
   },
   {
    "duration": 7,
    "start_time": "2024-10-05T08:36:07.244Z"
   },
   {
    "duration": 4,
    "start_time": "2024-10-05T08:36:07.253Z"
   },
   {
    "duration": 376,
    "start_time": "2024-10-05T08:36:07.259Z"
   },
   {
    "duration": 5,
    "start_time": "2024-10-05T08:36:07.637Z"
   },
   {
    "duration": 1702,
    "start_time": "2024-10-05T08:36:07.643Z"
   },
   {
    "duration": 16646,
    "start_time": "2024-10-05T08:36:09.347Z"
   },
   {
    "duration": 10,
    "start_time": "2024-10-05T08:36:25.994Z"
   },
   {
    "duration": 13,
    "start_time": "2024-10-05T08:36:26.006Z"
   },
   {
    "duration": 8,
    "start_time": "2024-10-05T08:36:26.021Z"
   },
   {
    "duration": 5,
    "start_time": "2024-10-05T08:36:26.030Z"
   },
   {
    "duration": 11,
    "start_time": "2024-10-05T08:36:26.037Z"
   },
   {
    "duration": 20,
    "start_time": "2024-10-05T08:36:26.050Z"
   },
   {
    "duration": 20,
    "start_time": "2024-10-05T08:36:26.072Z"
   },
   {
    "duration": 5,
    "start_time": "2024-10-05T08:36:26.094Z"
   },
   {
    "duration": 7,
    "start_time": "2024-10-05T08:36:26.100Z"
   },
   {
    "duration": 5,
    "start_time": "2024-10-05T08:36:26.109Z"
   },
   {
    "duration": 7,
    "start_time": "2024-10-05T08:36:26.115Z"
   },
   {
    "duration": 3,
    "start_time": "2024-10-05T08:36:26.124Z"
   },
   {
    "duration": 4,
    "start_time": "2024-10-05T08:36:26.128Z"
   },
   {
    "duration": 12,
    "start_time": "2024-10-05T08:36:26.133Z"
   }
  ],
  "kernelspec": {
   "display_name": "Python 3 (ipykernel)",
   "language": "python",
   "name": "python3"
  },
  "language_info": {
   "codemirror_mode": {
    "name": "ipython",
    "version": 3
   },
   "file_extension": ".py",
   "mimetype": "text/x-python",
   "name": "python",
   "nbconvert_exporter": "python",
   "pygments_lexer": "ipython3",
   "version": "3.11.7"
  },
  "toc": {
   "base_numbering": 1,
   "nav_menu": {},
   "number_sections": true,
   "sideBar": true,
   "skip_h1_title": true,
   "title_cell": "Table of Contents",
   "title_sidebar": "Contents",
   "toc_cell": false,
   "toc_position": {},
   "toc_section_display": true,
   "toc_window_display": true
  }
 },
 "nbformat": 4,
 "nbformat_minor": 4
}
